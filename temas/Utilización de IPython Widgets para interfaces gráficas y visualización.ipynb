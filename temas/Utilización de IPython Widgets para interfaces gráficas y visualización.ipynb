{
 "cells": [
  {
   "cell_type": "markdown",
   "metadata": {},
   "source": [
    "# Visualización con IPython Widgets\n",
    "\n",
    "**NOTA: En conda viene instalado, en Python debería instalarse como [muestra la documentación](http://ipywidgets.readthedocs.io/en/latest/user_install.html)**\n",
    "\n",
    "\n",
    "IPython provee widgets interactivos, veamos un ejemplo:"
   ]
  },
  {
   "cell_type": "code",
   "execution_count": 2,
   "metadata": {
    "collapsed": true
   },
   "outputs": [],
   "source": [
    "from ipywidgets import interact, interactive, fixed\n",
    "import ipywidgets as widgets"
   ]
  },
  {
   "cell_type": "code",
   "execution_count": 9,
   "metadata": {},
   "outputs": [
    {
     "data": {
      "text/plain": [
       "3"
      ]
     },
     "metadata": {},
     "output_type": "display_data"
    },
    {
     "data": {
      "text/plain": [
       "<function __main__.f>"
      ]
     },
     "execution_count": 9,
     "metadata": {},
     "output_type": "execute_result"
    }
   ],
   "source": [
    "def f(x):\n",
    "    return x\n",
    "interact(f, x=3)"
   ]
  },
  {
   "cell_type": "code",
   "execution_count": 3,
   "metadata": {},
   "outputs": [
    {
     "data": {
      "application/vnd.jupyter.widget-view+json": {
       "model_id": "64b59adb49ff43c8b9f4075be9810f10"
      }
     },
     "metadata": {},
     "output_type": "display_data"
    },
    {
     "data": {
      "text/plain": [
       "<function __main__.g>"
      ]
     },
     "execution_count": 3,
     "metadata": {},
     "output_type": "execute_result"
    }
   ],
   "source": [
    "def g(s):\n",
    "    return s.title()\n",
    "\n",
    "interact(g, s=\"Escriba algo\")"
   ]
  },
  {
   "cell_type": "markdown",
   "metadata": {},
   "source": [
    "### Definiendo rangos"
   ]
  },
  {
   "cell_type": "code",
   "execution_count": 4,
   "metadata": {},
   "outputs": [
    {
     "data": {
      "application/vnd.jupyter.widget-view+json": {
       "model_id": "094e57cfa87a481c98a8a0b286eb443d"
      }
     },
     "metadata": {},
     "output_type": "display_data"
    },
    {
     "data": {
      "text/plain": [
       "<function __main__.f>"
      ]
     },
     "execution_count": 4,
     "metadata": {},
     "output_type": "execute_result"
    }
   ],
   "source": [
    "def f(x):\n",
    "    return x\n",
    "interact(f, x=(-100, 100, 2.5))"
   ]
  },
  {
   "cell_type": "markdown",
   "metadata": {},
   "source": [
    "Podemos también utilizar múltiples valores y argumentos nombrados."
   ]
  },
  {
   "cell_type": "code",
   "execution_count": 5,
   "metadata": {},
   "outputs": [
    {
     "data": {
      "application/vnd.jupyter.widget-view+json": {
       "model_id": "025ae1bba1c24fef907a49e91b54c2be"
      }
     },
     "metadata": {},
     "output_type": "display_data"
    },
    {
     "data": {
      "text/plain": [
       "<function __main__.h>"
      ]
     },
     "execution_count": 5,
     "metadata": {},
     "output_type": "execute_result"
    }
   ],
   "source": [
    "def h(veces, cadena, sino):\n",
    "    if sino:\n",
    "        return veces * cadena\n",
    "interact(h, veces=(1, 80), cadena=\"*\", sino=True)"
   ]
  },
  {
   "cell_type": "markdown",
   "metadata": {},
   "source": [
    "### Algunos ejemplos\n"
   ]
  },
  {
   "cell_type": "code",
   "execution_count": 23,
   "metadata": {},
   "outputs": [
    {
     "name": "stdout",
     "output_type": "stream",
     "text": [
      "Fetching package metadata .......\n",
      "Solving package specifications: ..........\n",
      "Using Anaconda Cloud api site https://api.anaconda.org\n",
      "\n",
      "# All requested packages already installed.\n",
      "# packages in environment at /Users/nahuel/anaconda/envs/default:\n",
      "#\n",
      "sympy                     1.0                      py35_0  \n"
     ]
    }
   ],
   "source": [
    "!conda install -y sympy"
   ]
  },
  {
   "cell_type": "code",
   "execution_count": 26,
   "metadata": {},
   "outputs": [
    {
     "data": {
      "image/png": "[encoded data removed]",
      "text/latex": [
       "$$x^{11} - 1 = \\left(x - 1\\right) \\left(x^{10} + x^{9} + x^{8} + x^{7} + x^{6} + x^{5} + x^{4} + x^{3} + x^{2} + x + 1\\right)$$"
      ],
      "text/plain": [
       " 11               ⎛ 10    9    8    7    6    5    4    3    2        ⎞\n",
       "x   - 1 = (x - 1)⋅⎝x   + x  + x  + x  + x  + x  + x  + x  + x  + x + 1⎠"
      ]
     },
     "metadata": {},
     "output_type": "display_data"
    },
    {
     "data": {
      "text/plain": [
       "<function __main__.factorit>"
      ]
     },
     "execution_count": 26,
     "metadata": {},
     "output_type": "execute_result"
    }
   ],
   "source": [
    "# Decirle a SymPy que se haga amigo del notebook :)\n",
    "from sympy import init_printing\n",
    "init_printing()\n",
    "\n",
    "# Función de factorización\n",
    "from sympy import Symbol, Eq, factor\n",
    "x = Symbol('x')\n",
    "def factorit(n):\n",
    "    return Eq(x ** n - 1, factor(x ** n - 1))\n",
    "\n",
    "# Make it interactive!\n",
    "\n",
    "interact(factorit, n=(2, 20))"
   ]
  },
  {
   "cell_type": "markdown",
   "metadata": {},
   "source": [
    "## Interact como decorador"
   ]
  },
  {
   "cell_type": "code",
   "execution_count": 13,
   "metadata": {},
   "outputs": [
    {
     "data": {
      "text/plain": [
       "2500"
      ]
     },
     "metadata": {},
     "output_type": "display_data"
    }
   ],
   "source": [
    "@interact(x=(1, 100))\n",
    "def decorada(x):\n",
    "    return x * x"
   ]
  },
  {
   "cell_type": "markdown",
   "metadata": {},
   "source": [
    "### Otros ejemplos"
   ]
  },
  {
   "cell_type": "code",
   "execution_count": 11,
   "metadata": {},
   "outputs": [
    {
     "data": {
      "application/javascript": [
       "/* Put everything inside the global mpl namespace */\n",
       "window.mpl = {};\n",
       "\n",
       "mpl.get_websocket_type = function() {\n",
       "    if (typeof(WebSocket) !== 'undefined') {\n",
       "        return WebSocket;\n",
       "    } else if (typeof(MozWebSocket) !== 'undefined') {\n",
       "        return MozWebSocket;\n",
       "    } else {\n",
       "        alert('Your browser does not have WebSocket support.' +\n",
       "              'Please try Chrome, Safari or Firefox ≥ 6. ' +\n",
       "              'Firefox 4 and 5 are also supported but you ' +\n",
       "              'have to enable WebSockets in about:config.');\n",
       "    };\n",
       "}\n",
       "\n",
       "mpl.figure = function(figure_id, websocket, ondownload, parent_element) {\n",
       "    this.id = figure_id;\n",
       "\n",
       "    this.ws = websocket;\n",
       "\n",
       "    this.supports_binary = (this.ws.binaryType != undefined);\n",
       "\n",
       "    if (!this.supports_binary) {\n",
       "        var warnings = document.getElementById(\"mpl-warnings\");\n",
       "        if (warnings) {\n",
       "            warnings.style.display = 'block';\n",
       "            warnings.textContent = (\n",
       "                \"This browser does not support binary websocket messages. \" +\n",
       "                    \"Performance may be slow.\");\n",
       "        }\n",
       "    }\n",
       "\n",
       "    this.imageObj = new Image();\n",
       "\n",
       "    this.context = undefined;\n",
       "    this.message = undefined;\n",
       "    this.canvas = undefined;\n",
       "    this.rubberband_canvas = undefined;\n",
       "    this.rubberband_context = undefined;\n",
       "    this.format_dropdown = undefined;\n",
       "\n",
       "    this.image_mode = 'full';\n",
       "\n",
       "    this.root = $('<div/>');\n",
       "    this._root_extra_style(this.root)\n",
       "    this.root.attr('style', 'display: inline-block');\n",
       "\n",
       "    $(parent_element).append(this.root);\n",
       "\n",
       "    this._init_header(this);\n",
       "    this._init_canvas(this);\n",
       "    this._init_toolbar(this);\n",
       "\n",
       "    var fig = this;\n",
       "\n",
       "    this.waiting = false;\n",
       "\n",
       "    this.ws.onopen =  function () {\n",
       "            fig.send_message(\"supports_binary\", {value: fig.supports_binary});\n",
       "            fig.send_message(\"send_image_mode\", {});\n",
       "            fig.send_message(\"refresh\", {});\n",
       "        }\n",
       "\n",
       "    this.imageObj.onload = function() {\n",
       "            if (fig.image_mode == 'full') {\n",
       "                // Full images could contain transparency (where diff images\n",
       "                // almost always do), so we need to clear the canvas so that\n",
       "                // there is no ghosting.\n",
       "                fig.context.clearRect(0, 0, fig.canvas.width, fig.canvas.height);\n",
       "            }\n",
       "            fig.context.drawImage(fig.imageObj, 0, 0);\n",
       "        };\n",
       "\n",
       "    this.imageObj.onunload = function() {\n",
       "        this.ws.close();\n",
       "    }\n",
       "\n",
       "    this.ws.onmessage = this._make_on_message_function(this);\n",
       "\n",
       "    this.ondownload = ondownload;\n",
       "}\n",
       "\n",
       "mpl.figure.prototype._init_header = function() {\n",
       "    var titlebar = $(\n",
       "        '<div class=\"ui-dialog-titlebar ui-widget-header ui-corner-all ' +\n",
       "        'ui-helper-clearfix\"/>');\n",
       "    var titletext = $(\n",
       "        '<div class=\"ui-dialog-title\" style=\"width: 100%; ' +\n",
       "        'text-align: center; padding: 3px;\"/>');\n",
       "    titlebar.append(titletext)\n",
       "    this.root.append(titlebar);\n",
       "    this.header = titletext[0];\n",
       "}\n",
       "\n",
       "\n",
       "\n",
       "mpl.figure.prototype._canvas_extra_style = function(canvas_div) {\n",
       "\n",
       "}\n",
       "\n",
       "\n",
       "mpl.figure.prototype._root_extra_style = function(canvas_div) {\n",
       "\n",
       "}\n",
       "\n",
       "mpl.figure.prototype._init_canvas = function() {\n",
       "    var fig = this;\n",
       "\n",
       "    var canvas_div = $('<div/>');\n",
       "\n",
       "    canvas_div.attr('style', 'position: relative; clear: both; outline: 0');\n",
       "\n",
       "    function canvas_keyboard_event(event) {\n",
       "        return fig.key_event(event, event['data']);\n",
       "    }\n",
       "\n",
       "    canvas_div.keydown('key_press', canvas_keyboard_event);\n",
       "    canvas_div.keyup('key_release', canvas_keyboard_event);\n",
       "    this.canvas_div = canvas_div\n",
       "    this._canvas_extra_style(canvas_div)\n",
       "    this.root.append(canvas_div);\n",
       "\n",
       "    var canvas = $('<canvas/>');\n",
       "    canvas.addClass('mpl-canvas');\n",
       "    canvas.attr('style', \"left: 0; top: 0; z-index: 0; outline: 0\")\n",
       "\n",
       "    this.canvas = canvas[0];\n",
       "    this.context = canvas[0].getContext(\"2d\");\n",
       "\n",
       "    var rubberband = $('<canvas/>');\n",
       "    rubberband.attr('style', \"position: absolute; left: 0; top: 0; z-index: 1;\")\n",
       "\n",
       "    var pass_mouse_events = true;\n",
       "\n",
       "    canvas_div.resizable({\n",
       "        start: function(event, ui) {\n",
       "            pass_mouse_events = false;\n",
       "        },\n",
       "        resize: function(event, ui) {\n",
       "            fig.request_resize(ui.size.width, ui.size.height);\n",
       "        },\n",
       "        stop: function(event, ui) {\n",
       "            pass_mouse_events = true;\n",
       "            fig.request_resize(ui.size.width, ui.size.height);\n",
       "        },\n",
       "    });\n",
       "\n",
       "    function mouse_event_fn(event) {\n",
       "        if (pass_mouse_events)\n",
       "            return fig.mouse_event(event, event['data']);\n",
       "    }\n",
       "\n",
       "    rubberband.mousedown('button_press', mouse_event_fn);\n",
       "    rubberband.mouseup('button_release', mouse_event_fn);\n",
       "    // Throttle sequential mouse events to 1 every 20ms.\n",
       "    rubberband.mousemove('motion_notify', mouse_event_fn);\n",
       "\n",
       "    rubberband.mouseenter('figure_enter', mouse_event_fn);\n",
       "    rubberband.mouseleave('figure_leave', mouse_event_fn);\n",
       "\n",
       "    canvas_div.on(\"wheel\", function (event) {\n",
       "        event = event.originalEvent;\n",
       "        event['data'] = 'scroll'\n",
       "        if (event.deltaY < 0) {\n",
       "            event.step = 1;\n",
       "        } else {\n",
       "            event.step = -1;\n",
       "        }\n",
       "        mouse_event_fn(event);\n",
       "    });\n",
       "\n",
       "    canvas_div.append(canvas);\n",
       "    canvas_div.append(rubberband);\n",
       "\n",
       "    this.rubberband = rubberband;\n",
       "    this.rubberband_canvas = rubberband[0];\n",
       "    this.rubberband_context = rubberband[0].getContext(\"2d\");\n",
       "    this.rubberband_context.strokeStyle = \"#000000\";\n",
       "\n",
       "    this._resize_canvas = function(width, height) {\n",
       "        // Keep the size of the canvas, canvas container, and rubber band\n",
       "        // canvas in synch.\n",
       "        canvas_div.css('width', width)\n",
       "        canvas_div.css('height', height)\n",
       "\n",
       "        canvas.attr('width', width);\n",
       "        canvas.attr('height', height);\n",
       "\n",
       "        rubberband.attr('width', width);\n",
       "        rubberband.attr('height', height);\n",
       "    }\n",
       "\n",
       "    // Set the figure to an initial 600x600px, this will subsequently be updated\n",
       "    // upon first draw.\n",
       "    this._resize_canvas(600, 600);\n",
       "\n",
       "    // Disable right mouse context menu.\n",
       "    $(this.rubberband_canvas).bind(\"contextmenu\",function(e){\n",
       "        return false;\n",
       "    });\n",
       "\n",
       "    function set_focus () {\n",
       "        canvas.focus();\n",
       "        canvas_div.focus();\n",
       "    }\n",
       "\n",
       "    window.setTimeout(set_focus, 100);\n",
       "}\n",
       "\n",
       "mpl.figure.prototype._init_toolbar = function() {\n",
       "    var fig = this;\n",
       "\n",
       "    var nav_element = $('<div/>')\n",
       "    nav_element.attr('style', 'width: 100%');\n",
       "    this.root.append(nav_element);\n",
       "\n",
       "    // Define a callback function for later on.\n",
       "    function toolbar_event(event) {\n",
       "        return fig.toolbar_button_onclick(event['data']);\n",
       "    }\n",
       "    function toolbar_mouse_event(event) {\n",
       "        return fig.toolbar_button_onmouseover(event['data']);\n",
       "    }\n",
       "\n",
       "    for(var toolbar_ind in mpl.toolbar_items) {\n",
       "        var name = mpl.toolbar_items[toolbar_ind][0];\n",
       "        var tooltip = mpl.toolbar_items[toolbar_ind][1];\n",
       "        var image = mpl.toolbar_items[toolbar_ind][2];\n",
       "        var method_name = mpl.toolbar_items[toolbar_ind][3];\n",
       "\n",
       "        if (!name) {\n",
       "            // put a spacer in here.\n",
       "            continue;\n",
       "        }\n",
       "        var button = $('<button/>');\n",
       "        button.addClass('ui-button ui-widget ui-state-default ui-corner-all ' +\n",
       "                        'ui-button-icon-only');\n",
       "        button.attr('role', 'button');\n",
       "        button.attr('aria-disabled', 'false');\n",
       "        button.click(method_name, toolbar_event);\n",
       "        button.mouseover(tooltip, toolbar_mouse_event);\n",
       "\n",
       "        var icon_img = $('<span/>');\n",
       "        icon_img.addClass('ui-button-icon-primary ui-icon');\n",
       "        icon_img.addClass(image);\n",
       "        icon_img.addClass('ui-corner-all');\n",
       "\n",
       "        var tooltip_span = $('<span/>');\n",
       "        tooltip_span.addClass('ui-button-text');\n",
       "        tooltip_span.html(tooltip);\n",
       "\n",
       "        button.append(icon_img);\n",
       "        button.append(tooltip_span);\n",
       "\n",
       "        nav_element.append(button);\n",
       "    }\n",
       "\n",
       "    var fmt_picker_span = $('<span/>');\n",
       "\n",
       "    var fmt_picker = $('<select/>');\n",
       "    fmt_picker.addClass('mpl-toolbar-option ui-widget ui-widget-content');\n",
       "    fmt_picker_span.append(fmt_picker);\n",
       "    nav_element.append(fmt_picker_span);\n",
       "    this.format_dropdown = fmt_picker[0];\n",
       "\n",
       "    for (var ind in mpl.extensions) {\n",
       "        var fmt = mpl.extensions[ind];\n",
       "        var option = $(\n",
       "            '<option/>', {selected: fmt === mpl.default_extension}).html(fmt);\n",
       "        fmt_picker.append(option)\n",
       "    }\n",
       "\n",
       "    // Add hover states to the ui-buttons\n",
       "    $( \".ui-button\" ).hover(\n",
       "        function() { $(this).addClass(\"ui-state-hover\");},\n",
       "        function() { $(this).removeClass(\"ui-state-hover\");}\n",
       "    );\n",
       "\n",
       "    var status_bar = $('<span class=\"mpl-message\"/>');\n",
       "    nav_element.append(status_bar);\n",
       "    this.message = status_bar[0];\n",
       "}\n",
       "\n",
       "mpl.figure.prototype.request_resize = function(x_pixels, y_pixels) {\n",
       "    // Request matplotlib to resize the figure. Matplotlib will then trigger a resize in the client,\n",
       "    // which will in turn request a refresh of the image.\n",
       "    this.send_message('resize', {'width': x_pixels, 'height': y_pixels});\n",
       "}\n",
       "\n",
       "mpl.figure.prototype.send_message = function(type, properties) {\n",
       "    properties['type'] = type;\n",
       "    properties['figure_id'] = this.id;\n",
       "    this.ws.send(JSON.stringify(properties));\n",
       "}\n",
       "\n",
       "mpl.figure.prototype.send_draw_message = function() {\n",
       "    if (!this.waiting) {\n",
       "        this.waiting = true;\n",
       "        this.ws.send(JSON.stringify({type: \"draw\", figure_id: this.id}));\n",
       "    }\n",
       "}\n",
       "\n",
       "\n",
       "mpl.figure.prototype.handle_save = function(fig, msg) {\n",
       "    var format_dropdown = fig.format_dropdown;\n",
       "    var format = format_dropdown.options[format_dropdown.selectedIndex].value;\n",
       "    fig.ondownload(fig, format);\n",
       "}\n",
       "\n",
       "\n",
       "mpl.figure.prototype.handle_resize = function(fig, msg) {\n",
       "    var size = msg['size'];\n",
       "    if (size[0] != fig.canvas.width || size[1] != fig.canvas.height) {\n",
       "        fig._resize_canvas(size[0], size[1]);\n",
       "        fig.send_message(\"refresh\", {});\n",
       "    };\n",
       "}\n",
       "\n",
       "mpl.figure.prototype.handle_rubberband = function(fig, msg) {\n",
       "    var x0 = msg['x0'];\n",
       "    var y0 = fig.canvas.height - msg['y0'];\n",
       "    var x1 = msg['x1'];\n",
       "    var y1 = fig.canvas.height - msg['y1'];\n",
       "    x0 = Math.floor(x0) + 0.5;\n",
       "    y0 = Math.floor(y0) + 0.5;\n",
       "    x1 = Math.floor(x1) + 0.5;\n",
       "    y1 = Math.floor(y1) + 0.5;\n",
       "    var min_x = Math.min(x0, x1);\n",
       "    var min_y = Math.min(y0, y1);\n",
       "    var width = Math.abs(x1 - x0);\n",
       "    var height = Math.abs(y1 - y0);\n",
       "\n",
       "    fig.rubberband_context.clearRect(\n",
       "        0, 0, fig.canvas.width, fig.canvas.height);\n",
       "\n",
       "    fig.rubberband_context.strokeRect(min_x, min_y, width, height);\n",
       "}\n",
       "\n",
       "mpl.figure.prototype.handle_figure_label = function(fig, msg) {\n",
       "    // Updates the figure title.\n",
       "    fig.header.textContent = msg['label'];\n",
       "}\n",
       "\n",
       "mpl.figure.prototype.handle_cursor = function(fig, msg) {\n",
       "    var cursor = msg['cursor'];\n",
       "    switch(cursor)\n",
       "    {\n",
       "    case 0:\n",
       "        cursor = 'pointer';\n",
       "        break;\n",
       "    case 1:\n",
       "        cursor = 'default';\n",
       "        break;\n",
       "    case 2:\n",
       "        cursor = 'crosshair';\n",
       "        break;\n",
       "    case 3:\n",
       "        cursor = 'move';\n",
       "        break;\n",
       "    }\n",
       "    fig.rubberband_canvas.style.cursor = cursor;\n",
       "}\n",
       "\n",
       "mpl.figure.prototype.handle_message = function(fig, msg) {\n",
       "    fig.message.textContent = msg['message'];\n",
       "}\n",
       "\n",
       "mpl.figure.prototype.handle_draw = function(fig, msg) {\n",
       "    // Request the server to send over a new figure.\n",
       "    fig.send_draw_message();\n",
       "}\n",
       "\n",
       "mpl.figure.prototype.handle_image_mode = function(fig, msg) {\n",
       "    fig.image_mode = msg['mode'];\n",
       "}\n",
       "\n",
       "mpl.figure.prototype.updated_canvas_event = function() {\n",
       "    // Called whenever the canvas gets updated.\n",
       "    this.send_message(\"ack\", {});\n",
       "}\n",
       "\n",
       "// A function to construct a web socket function for onmessage handling.\n",
       "// Called in the figure constructor.\n",
       "mpl.figure.prototype._make_on_message_function = function(fig) {\n",
       "    return function socket_on_message(evt) {\n",
       "        if (evt.data instanceof Blob) {\n",
       "            /* FIXME: We get \"Resource interpreted as Image but\n",
       "             * transferred with MIME type text/plain:\" errors on\n",
       "             * Chrome.  But how to set the MIME type?  It doesn't seem\n",
       "             * to be part of the websocket stream */\n",
       "            evt.data.type = \"image/png\";\n",
       "\n",
       "            /* Free the memory for the previous frames */\n",
       "            if (fig.imageObj.src) {\n",
       "                (window.URL || window.webkitURL).revokeObjectURL(\n",
       "                    fig.imageObj.src);\n",
       "            }\n",
       "\n",
       "            fig.imageObj.src = (window.URL || window.webkitURL).createObjectURL(\n",
       "                evt.data);\n",
       "            fig.updated_canvas_event();\n",
       "            fig.waiting = false;\n",
       "            return;\n",
       "        }\n",
       "        else if (typeof evt.data === 'string' && evt.data.slice(0, 21) == \"data:image/png;base64\") {\n",
       "            fig.imageObj.src = evt.data;\n",
       "            fig.updated_canvas_event();\n",
       "            fig.waiting = false;\n",
       "            return;\n",
       "        }\n",
       "\n",
       "        var msg = JSON.parse(evt.data);\n",
       "        var msg_type = msg['type'];\n",
       "\n",
       "        // Call the  \"handle_{type}\" callback, which takes\n",
       "        // the figure and JSON message as its only arguments.\n",
       "        try {\n",
       "            var callback = fig[\"handle_\" + msg_type];\n",
       "        } catch (e) {\n",
       "            console.log(\"No handler for the '\" + msg_type + \"' message type: \", msg);\n",
       "            return;\n",
       "        }\n",
       "\n",
       "        if (callback) {\n",
       "            try {\n",
       "                // console.log(\"Handling '\" + msg_type + \"' message: \", msg);\n",
       "                callback(fig, msg);\n",
       "            } catch (e) {\n",
       "                console.log(\"Exception inside the 'handler_\" + msg_type + \"' callback:\", e, e.stack, msg);\n",
       "            }\n",
       "        }\n",
       "    };\n",
       "}\n",
       "\n",
       "// from http://stackoverflow.com/questions/1114465/getting-mouse-location-in-canvas\n",
       "mpl.findpos = function(e) {\n",
       "    //this section is from http://www.quirksmode.org/js/events_properties.html\n",
       "    var targ;\n",
       "    if (!e)\n",
       "        e = window.event;\n",
       "    if (e.target)\n",
       "        targ = e.target;\n",
       "    else if (e.srcElement)\n",
       "        targ = e.srcElement;\n",
       "    if (targ.nodeType == 3) // defeat Safari bug\n",
       "        targ = targ.parentNode;\n",
       "\n",
       "    // jQuery normalizes the pageX and pageY\n",
       "    // pageX,Y are the mouse positions relative to the document\n",
       "    // offset() returns the position of the element relative to the document\n",
       "    var x = e.pageX - $(targ).offset().left;\n",
       "    var y = e.pageY - $(targ).offset().top;\n",
       "\n",
       "    return {\"x\": x, \"y\": y};\n",
       "};\n",
       "\n",
       "/*\n",
       " * return a copy of an object with only non-object keys\n",
       " * we need this to avoid circular references\n",
       " * http://stackoverflow.com/a/24161582/3208463\n",
       " */\n",
       "function simpleKeys (original) {\n",
       "  return Object.keys(original).reduce(function (obj, key) {\n",
       "    if (typeof original[key] !== 'object')\n",
       "        obj[key] = original[key]\n",
       "    return obj;\n",
       "  }, {});\n",
       "}\n",
       "\n",
       "mpl.figure.prototype.mouse_event = function(event, name) {\n",
       "    var canvas_pos = mpl.findpos(event)\n",
       "\n",
       "    if (name === 'button_press')\n",
       "    {\n",
       "        this.canvas.focus();\n",
       "        this.canvas_div.focus();\n",
       "    }\n",
       "\n",
       "    var x = canvas_pos.x;\n",
       "    var y = canvas_pos.y;\n",
       "\n",
       "    this.send_message(name, {x: x, y: y, button: event.button,\n",
       "                             step: event.step,\n",
       "                             guiEvent: simpleKeys(event)});\n",
       "\n",
       "    /* This prevents the web browser from automatically changing to\n",
       "     * the text insertion cursor when the button is pressed.  We want\n",
       "     * to control all of the cursor setting manually through the\n",
       "     * 'cursor' event from matplotlib */\n",
       "    event.preventDefault();\n",
       "    return false;\n",
       "}\n",
       "\n",
       "mpl.figure.prototype._key_event_extra = function(event, name) {\n",
       "    // Handle any extra behaviour associated with a key event\n",
       "}\n",
       "\n",
       "mpl.figure.prototype.key_event = function(event, name) {\n",
       "\n",
       "    // Prevent repeat events\n",
       "    if (name == 'key_press')\n",
       "    {\n",
       "        if (event.which === this._key)\n",
       "            return;\n",
       "        else\n",
       "            this._key = event.which;\n",
       "    }\n",
       "    if (name == 'key_release')\n",
       "        this._key = null;\n",
       "\n",
       "    var value = '';\n",
       "    if (event.ctrlKey && event.which != 17)\n",
       "        value += \"ctrl+\";\n",
       "    if (event.altKey && event.which != 18)\n",
       "        value += \"alt+\";\n",
       "    if (event.shiftKey && event.which != 16)\n",
       "        value += \"shift+\";\n",
       "\n",
       "    value += 'k';\n",
       "    value += event.which.toString();\n",
       "\n",
       "    this._key_event_extra(event, name);\n",
       "\n",
       "    this.send_message(name, {key: value,\n",
       "                             guiEvent: simpleKeys(event)});\n",
       "    return false;\n",
       "}\n",
       "\n",
       "mpl.figure.prototype.toolbar_button_onclick = function(name) {\n",
       "    if (name == 'download') {\n",
       "        this.handle_save(this, null);\n",
       "    } else {\n",
       "        this.send_message(\"toolbar_button\", {name: name});\n",
       "    }\n",
       "};\n",
       "\n",
       "mpl.figure.prototype.toolbar_button_onmouseover = function(tooltip) {\n",
       "    this.message.textContent = tooltip;\n",
       "};\n",
       "mpl.toolbar_items = [[\"Home\", \"Reset original view\", \"fa fa-home icon-home\", \"home\"], [\"Back\", \"Back to  previous view\", \"fa fa-arrow-left icon-arrow-left\", \"back\"], [\"Forward\", \"Forward to next view\", \"fa fa-arrow-right icon-arrow-right\", \"forward\"], [\"\", \"\", \"\", \"\"], [\"Pan\", \"Pan axes with left mouse, zoom with right\", \"fa fa-arrows icon-move\", \"pan\"], [\"Zoom\", \"Zoom to rectangle\", \"fa fa-square-o icon-check-empty\", \"zoom\"], [\"\", \"\", \"\", \"\"], [\"Download\", \"Download plot\", \"fa fa-floppy-o icon-save\", \"download\"]];\n",
       "\n",
       "mpl.extensions = [\"eps\", \"pdf\", \"png\", \"ps\", \"raw\", \"svg\"];\n",
       "\n",
       "mpl.default_extension = \"png\";var comm_websocket_adapter = function(comm) {\n",
       "    // Create a \"websocket\"-like object which calls the given IPython comm\n",
       "    // object with the appropriate methods. Currently this is a non binary\n",
       "    // socket, so there is still some room for performance tuning.\n",
       "    var ws = {};\n",
       "\n",
       "    ws.close = function() {\n",
       "        comm.close()\n",
       "    };\n",
       "    ws.send = function(m) {\n",
       "        //console.log('sending', m);\n",
       "        comm.send(m);\n",
       "    };\n",
       "    // Register the callback with on_msg.\n",
       "    comm.on_msg(function(msg) {\n",
       "        //console.log('receiving', msg['content']['data'], msg);\n",
       "        // Pass the mpl event to the overriden (by mpl) onmessage function.\n",
       "        ws.onmessage(msg['content']['data'])\n",
       "    });\n",
       "    return ws;\n",
       "}\n",
       "\n",
       "mpl.mpl_figure_comm = function(comm, msg) {\n",
       "    // This is the function which gets called when the mpl process\n",
       "    // starts-up an IPython Comm through the \"matplotlib\" channel.\n",
       "\n",
       "    var id = msg.content.data.id;\n",
       "    // Get hold of the div created by the display call when the Comm\n",
       "    // socket was opened in Python.\n",
       "    var element = $(\"#\" + id);\n",
       "    var ws_proxy = comm_websocket_adapter(comm)\n",
       "\n",
       "    function ondownload(figure, format) {\n",
       "        window.open(figure.imageObj.src);\n",
       "    }\n",
       "\n",
       "    var fig = new mpl.figure(id, ws_proxy,\n",
       "                           ondownload,\n",
       "                           element.get(0));\n",
       "\n",
       "    // Call onopen now - mpl needs it, as it is assuming we've passed it a real\n",
       "    // web socket which is closed, not our websocket->open comm proxy.\n",
       "    ws_proxy.onopen();\n",
       "\n",
       "    fig.parent_element = element.get(0);\n",
       "    fig.cell_info = mpl.find_output_cell(\"<div id='\" + id + \"'></div>\");\n",
       "    if (!fig.cell_info) {\n",
       "        console.error(\"Failed to find cell for figure\", id, fig);\n",
       "        return;\n",
       "    }\n",
       "\n",
       "    var output_index = fig.cell_info[2]\n",
       "    var cell = fig.cell_info[0];\n",
       "\n",
       "};\n",
       "\n",
       "mpl.figure.prototype.handle_close = function(fig, msg) {\n",
       "    fig.root.unbind('remove')\n",
       "\n",
       "    // Update the output cell to use the data from the current canvas.\n",
       "    fig.push_to_output();\n",
       "    var dataURL = fig.canvas.toDataURL();\n",
       "    // Re-enable the keyboard manager in IPython - without this line, in FF,\n",
       "    // the notebook keyboard shortcuts fail.\n",
       "    IPython.keyboard_manager.enable()\n",
       "    $(fig.parent_element).html('<img src=\"' + dataURL + '\">');\n",
       "    fig.close_ws(fig, msg);\n",
       "}\n",
       "\n",
       "mpl.figure.prototype.close_ws = function(fig, msg){\n",
       "    fig.send_message('closing', msg);\n",
       "    // fig.ws.close()\n",
       "}\n",
       "\n",
       "mpl.figure.prototype.push_to_output = function(remove_interactive) {\n",
       "    // Turn the data on the canvas into data in the output cell.\n",
       "    var dataURL = this.canvas.toDataURL();\n",
       "    this.cell_info[1]['text/html'] = '<img src=\"' + dataURL + '\">';\n",
       "}\n",
       "\n",
       "mpl.figure.prototype.updated_canvas_event = function() {\n",
       "    // Tell IPython that the notebook contents must change.\n",
       "    IPython.notebook.set_dirty(true);\n",
       "    this.send_message(\"ack\", {});\n",
       "    var fig = this;\n",
       "    // Wait a second, then push the new image to the DOM so\n",
       "    // that it is saved nicely (might be nice to debounce this).\n",
       "    setTimeout(function () { fig.push_to_output() }, 1000);\n",
       "}\n",
       "\n",
       "mpl.figure.prototype._init_toolbar = function() {\n",
       "    var fig = this;\n",
       "\n",
       "    var nav_element = $('<div/>')\n",
       "    nav_element.attr('style', 'width: 100%');\n",
       "    this.root.append(nav_element);\n",
       "\n",
       "    // Define a callback function for later on.\n",
       "    function toolbar_event(event) {\n",
       "        return fig.toolbar_button_onclick(event['data']);\n",
       "    }\n",
       "    function toolbar_mouse_event(event) {\n",
       "        return fig.toolbar_button_onmouseover(event['data']);\n",
       "    }\n",
       "\n",
       "    for(var toolbar_ind in mpl.toolbar_items){\n",
       "        var name = mpl.toolbar_items[toolbar_ind][0];\n",
       "        var tooltip = mpl.toolbar_items[toolbar_ind][1];\n",
       "        var image = mpl.toolbar_items[toolbar_ind][2];\n",
       "        var method_name = mpl.toolbar_items[toolbar_ind][3];\n",
       "\n",
       "        if (!name) { continue; };\n",
       "\n",
       "        var button = $('<button class=\"btn btn-default\" href=\"#\" title=\"' + name + '\"><i class=\"fa ' + image + ' fa-lg\"></i></button>');\n",
       "        button.click(method_name, toolbar_event);\n",
       "        button.mouseover(tooltip, toolbar_mouse_event);\n",
       "        nav_element.append(button);\n",
       "    }\n",
       "\n",
       "    // Add the status bar.\n",
       "    var status_bar = $('<span class=\"mpl-message\" style=\"text-align:right; float: right;\"/>');\n",
       "    nav_element.append(status_bar);\n",
       "    this.message = status_bar[0];\n",
       "\n",
       "    // Add the close button to the window.\n",
       "    var buttongrp = $('<div class=\"btn-group inline pull-right\"></div>');\n",
       "    var button = $('<button class=\"btn btn-mini btn-primary\" href=\"#\" title=\"Stop Interaction\"><i class=\"fa fa-power-off icon-remove icon-large\"></i></button>');\n",
       "    button.click(function (evt) { fig.handle_close(fig, {}); } );\n",
       "    button.mouseover('Stop Interaction', toolbar_mouse_event);\n",
       "    buttongrp.append(button);\n",
       "    var titlebar = this.root.find($('.ui-dialog-titlebar'));\n",
       "    titlebar.prepend(buttongrp);\n",
       "}\n",
       "\n",
       "mpl.figure.prototype._root_extra_style = function(el){\n",
       "    var fig = this\n",
       "    el.on(\"remove\", function(){\n",
       "\tfig.close_ws(fig, {});\n",
       "    });\n",
       "}\n",
       "\n",
       "mpl.figure.prototype._canvas_extra_style = function(el){\n",
       "    // this is important to make the div 'focusable\n",
       "    el.attr('tabindex', 0)\n",
       "    // reach out to IPython and tell the keyboard manager to turn it's self\n",
       "    // off when our div gets focus\n",
       "\n",
       "    // location in version 3\n",
       "    if (IPython.notebook.keyboard_manager) {\n",
       "        IPython.notebook.keyboard_manager.register_events(el);\n",
       "    }\n",
       "    else {\n",
       "        // location in version 2\n",
       "        IPython.keyboard_manager.register_events(el);\n",
       "    }\n",
       "\n",
       "}\n",
       "\n",
       "mpl.figure.prototype._key_event_extra = function(event, name) {\n",
       "    var manager = IPython.notebook.keyboard_manager;\n",
       "    if (!manager)\n",
       "        manager = IPython.keyboard_manager;\n",
       "\n",
       "    // Check for shift+enter\n",
       "    if (event.shiftKey && event.which == 13) {\n",
       "        this.canvas_div.blur();\n",
       "        event.shiftKey = false;\n",
       "        // Send a \"J\" for go to next cell\n",
       "        event.which = 74;\n",
       "        event.keyCode = 74;\n",
       "        manager.command_mode();\n",
       "        manager.handle_keydown(event);\n",
       "    }\n",
       "}\n",
       "\n",
       "mpl.figure.prototype.handle_save = function(fig, msg) {\n",
       "    fig.ondownload(fig, null);\n",
       "}\n",
       "\n",
       "\n",
       "mpl.find_output_cell = function(html_output) {\n",
       "    // Return the cell and output element which can be found *uniquely* in the notebook.\n",
       "    // Note - this is a bit hacky, but it is done because the \"notebook_saving.Notebook\"\n",
       "    // IPython event is triggered only after the cells have been serialised, which for\n",
       "    // our purposes (turning an active figure into a static one), is too late.\n",
       "    var cells = IPython.notebook.get_cells();\n",
       "    var ncells = cells.length;\n",
       "    for (var i=0; i<ncells; i++) {\n",
       "        var cell = cells[i];\n",
       "        if (cell.cell_type === 'code'){\n",
       "            for (var j=0; j<cell.output_area.outputs.length; j++) {\n",
       "                var data = cell.output_area.outputs[j];\n",
       "                if (data.data) {\n",
       "                    // IPython >= 3 moved mimebundle to data attribute of output\n",
       "                    data = data.data;\n",
       "                }\n",
       "                if (data['text/html'] == html_output) {\n",
       "                    return [cell, data, j];\n",
       "                }\n",
       "            }\n",
       "        }\n",
       "    }\n",
       "}\n",
       "\n",
       "// Register the function which deals with the matplotlib target/channel.\n",
       "// The kernel may be null if the page has been refreshed.\n",
       "if (IPython.notebook.kernel != null) {\n",
       "    IPython.notebook.kernel.comm_manager.register_target('matplotlib', mpl.mpl_figure_comm);\n",
       "}\n"
      ],
      "text/plain": [
       "<IPython.core.display.Javascript object>"
      ]
     },
     "metadata": {},
     "output_type": "display_data"
    },
    {
     "data": {
      "text/html": [
       "<img src=\"data:image/png;base64,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\">"
      ],
      "text/plain": [
       "<IPython.core.display.HTML object>"
      ]
     },
     "metadata": {},
     "output_type": "display_data"
    },
    {
     "name": "stderr",
     "output_type": "stream",
     "text": [
      "/Users/nahuel/anaconda/envs/default/lib/python3.5/site-packages/ipykernel/__main__.py:18: VisibleDeprecationWarning: using a non-integer number instead of an integer will result in an error in the future\n"
     ]
    }
   ],
   "source": [
    "%matplotlib notebook\n",
    "import numpy as np\n",
    "import matplotlib.pyplot as plt\n",
    "import scipy.fftpack\n",
    "\n",
    "def mostrar_fft(freq):\n",
    "    # número de muestras\n",
    "    N = 600\n",
    "    # espacio entre muestras\n",
    "    T = 1.0 / 800.0 # bastante mala diría Nyquist\n",
    "    x = np.linspace(0.0, N*T, N)\n",
    "    y = np.sin(freq * 2.0*np.pi*x) # + 0.5*np.sin(80.0 * 2.0*np.pi*x)\n",
    "    yf = scipy.fftpack.fft(y)\n",
    "    xf = np.linspace(0.0, 1.0/(2.0*T), N/2)\n",
    "\n",
    "    fig, ejes = plt.subplots(1, 2)  # Dos graficos\n",
    "    ejes[1].plot(x, y) # Dibujamos la onda\n",
    "    ejes[0].plot(xf, 2.0/N * np.abs(yf[:N/2]))  # Y su espectro\n",
    "    plt.show()\n",
    "\n",
    "interact(mostrar_fft, freq=(1, 400))"
   ]
  },
  {
   "cell_type": "markdown",
   "metadata": {
    "collapsed": true
   },
   "source": [
    "### Utilizando los widgets para generar formularios interactivos"
   ]
  },
  {
   "cell_type": "code",
   "execution_count": 6,
   "metadata": {},
   "outputs": [
    {
     "data": {
      "application/vnd.jupyter.widget-view+json": {
       "model_id": "254521a9e619424bb5557b49f7295f65"
      }
     },
     "metadata": {},
     "output_type": "display_data"
    }
   ],
   "source": [
    "from ipywidgets import Layout, Box, Label, IntSlider, Dropdown, FloatText, Textarea\n",
    "\n",
    "label_layout = Layout()\n",
    "\n",
    "form_item_layout = Layout(\n",
    "    display='flex',\n",
    "    flex_flow='row',\n",
    "    justify_content='space-between'\n",
    ")\n",
    "\n",
    "form_items = [\n",
    "    Box([Label(value='Edad del capitan'), IntSlider(min=40, max=60)], layout=form_item_layout),\n",
    "    Box([Label(value='¿Cómo le gustan los huevos?'),\n",
    "         Dropdown(options=['Revueltos', 'Fritos', 'Duros'])], layout=form_item_layout),\n",
    "    Box([Label(value='Tamaño de la embarcación'),\n",
    "         FloatText()], layout=form_item_layout),\n",
    "    Box([Label(value='Información'),\n",
    "         Textarea()], layout=form_item_layout)\n",
    "]\n",
    "\n",
    "form = Box(form_items, layout=Layout(\n",
    "    display='flex',\n",
    "    flex_flow='column',\n",
    "    border='solid 2px',\n",
    "    align_items='stretch',\n",
    "    width='50%'\n",
    "))\n",
    "form"
   ]
  },
  {
   "cell_type": "markdown",
   "metadata": {},
   "source": [
    "### Ejercitación proupuesta\n",
    "\n",
    " * Quienes estén haciendo el curso de STR, creen un notebook que utilice interact y matplotlib (tema siguiente) para dibujar la planificabilidad de un STR mostrando la asingación temporal.\n",
    " * Realice un gráfico de tiempo de respuesta de pings a un dominio (interact con un campo de texto indicando el dominio)\n",
    " "
   ]
  },
  {
   "cell_type": "code",
   "execution_count": null,
   "metadata": {
    "collapsed": true
   },
   "outputs": [],
   "source": []
  }
 ],
 "metadata": {
  "anaconda-cloud": {},
  "kernelspec": {
   "display_name": "Python 3",
   "language": "python",
   "name": "python3"
  },
  "language_info": {
   "codemirror_mode": {
    "name": "ipython",
    "version": 3
   },
   "file_extension": ".py",
   "mimetype": "text/x-python",
   "name": "python",
   "nbconvert_exporter": "python",
   "pygments_lexer": "ipython3",
   "version": "3.6.2"
  },
  "widgets": {
   "state": {
    "1009712b6d144ec39a969d8947c2580a": {
     "views": [
      {
       "cell_index": 9
      }
     ]
    },
    "4476fa73ca1b42dea25048131f6a2604": {
     "views": [
      {
       "cell_index": 11
      }
     ]
    },
    "464750cf9c8e41bf8e89cc04714be784": {
     "views": [
      {
       "cell_index": 3
      }
     ]
    },
    "58bee04040ed4b63a8ca02dba5f94b1b": {
     "views": [
      {
       "cell_index": 2
      }
     ]
    },
    "6392b49d80c04058b9583c22d12a728e": {
     "views": [
      {
       "cell_index": 5
      }
     ]
    },
    "669b25e3262e400bbc78e6e4d0768a41": {
     "views": [
      {
       "cell_index": 10
      }
     ]
    },
    "9dbe369cecf44aae88cc283876274929": {
     "views": [
      {
       "cell_index": 12
      }
     ]
    },
    "abb63e2c7e2e4aa29881442aefbb75c4": {
     "views": [
      {
       "cell_index": 11
      }
     ]
    },
    "bc47fe9a773941c0b06203f3e0e3b5aa": {
     "views": [
      {
       "cell_index": 10
      }
     ]
    },
    "c386c1070e1b46f691d3a875771a7cdf": {
     "views": [
      {
       "cell_index": 12
      }
     ]
    },
    "cf2890d296f3464591e7c6c7837fed6a": {
     "views": [
      {
       "cell_index": 11
      }
     ]
    },
    "d8ccb2b24d77432c9b24898d6b8645f8": {
     "views": [
      {
       "cell_index": 14
      }
     ]
    },
    "ff17d8ffd26d4168b7eec66a10200698": {
     "views": [
      {
       "cell_index": 7
      }
     ]
    }
   },
   "version": "1.2.0"
  }
 },
 "nbformat": 4,
 "nbformat_minor": 1
}
