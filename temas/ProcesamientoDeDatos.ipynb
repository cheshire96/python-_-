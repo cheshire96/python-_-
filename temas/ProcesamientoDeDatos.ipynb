{
 "cells": [
  {
   "cell_type": "markdown",
   "metadata": {},
   "source": [
    "# Procesamiento de Datos\n",
    "\n",
    "Nociones de programación funcional. Funciones como parámetro y como resultado Decoradores Funciones de Orden Superior. Map y filter. Listas y diccionarios por comprensión\n",
    "\n",
    "Obtención y procesamiento de datos.\n",
    "    Obtención de datos desde alguna API web con json?\n",
    "    Alguna otra librería?\n",
    "\n",
    "Transformación de flujo de datos\n",
    "    Visualización de los datos en pantalla\n",
    "\n",
    "Serialización y persistencia. pickele shelve\n",
    "Simplejson\n",
    "\n",
    "Proyecto en clase: \n",
    "Modules para ver ese dia: matplotlib"
   ]
  },
  {
   "cell_type": "markdown",
   "metadata": {},
   "source": [
    "## I turned myself into Pickle... with Python\n",
    "![Pickle](../imagenes/pickle.png)"
   ]
  }
 ],
 "metadata": {
  "kernelspec": {
   "display_name": "Python 3",
   "language": "python",
   "name": "python3"
  },
  "language_info": {
   "codemirror_mode": {
    "name": "ipython",
    "version": 3
   },
   "file_extension": ".py",
   "mimetype": "text/x-python",
   "name": "python",
   "nbconvert_exporter": "python",
   "pygments_lexer": "ipython3",
   "version": "3.6.2"
  }
 },
 "nbformat": 4,
 "nbformat_minor": 2
}
