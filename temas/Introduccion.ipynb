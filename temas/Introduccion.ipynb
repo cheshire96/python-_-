{
 "cells": [
  {
   "cell_type": "markdown",
   "metadata": {},
   "source": [
    "# ¿Qué es Python?\n",
    "![Python](../imagenes/python-logo.png)"
   ]
  },
  {
   "cell_type": "markdown",
   "metadata": {},
   "source": [
    "* Lenguaje de programación dinámico, interpretado y fácil de aprender\n",
    "* Creado por Guido van Rossum en 1991\n",
    "* De muy alto nivel\n",
    "* Multiparadigma\n",
    "* Multiplataforma\n",
    "* Muy versátil y ampliamente utilizado\n",
    "* Multitud de bibliotecas para realizar diferentes tareas"
   ]
  },
  {
   "cell_type": "markdown",
   "metadata": {},
   "source": [
    "Python es un lenguaje de programación, y por lo tanto nos permite escribir a una computadora qué es lo que queremos que haga. Python funciona, entre otros, en Windows, MacOS e incluso Linux. No es el lenguaje de programación más rápido, ni el más potente, pero sí uno de los más sencillos de aprender, programar y leer, repercutiendo esto último en la productividad.\n",
    "\n",
    "Los archivos de python tienen la extensión .py. Son archivos de texto que son interpretados por el compilador. Para poder ejecutar programas en Python, necesitamos en primer lugar el interprete de Python, y en segundo lugar el código que queremos ejecutar.\n",
    "\n",
    "Python dispone de multitud de herramientas (llamadas habitualmente módulos, paquetes, bibiliotecas o librerías) desarrolladas por terceros, que permiten realizar multitud de funciones, tales como descargar vídeos de youtube, navegar por internet, dibujar gráficos, etc.\n",
    "\n",
    "Python es \"case sensitive\", lo que quiere decir que diferencia mayúsculas de minúsculas"
   ]
  },
  {
   "cell_type": "markdown",
   "metadata": {},
   "source": [
    "# ¿Qué versión de Python conviene usar?"
   ]
  },
  {
   "cell_type": "markdown",
   "metadata": {},
   "source": [
    "La última versión de Python es la 3, pero tiene el problema de que no es compatible del todo con los programas escritos para la versión 2.\n",
    "\n",
    "La versión 2.7 fue la última de la familia 2.x, y ya no se le agregan más características. A pesar de que la versión 3 existe desde hace bastantes años, la 2 todavía se usa bastante ya que algunas librerías externas no han sido adaptadas para funcionar con la versión 3.\n",
    "\n",
    "La recomendación es utilizar la versión 3."
   ]
  },
  {
   "cell_type": "markdown",
   "metadata": {},
   "source": [
    "# ¿Qué es IPython?\n",
    "![Python](../imagenes/ipython-logo.png)"
   ]
  },
  {
   "cell_type": "markdown",
   "metadata": {},
   "source": [
    "IPython no es más que un intérprete de Python con algunas mejoras sustanciales.\n",
    "\n",
    "IPython supera a la consola estándar en muchos sentidos. Podemos autocompletar **(TAB)**, ver ayuda rápida de cualquier objeto **(?)** y muchas cosas más.\n",
    "\n",
    "Pero además esta poderosa consola actualmente ha evolucionado para convertirse en un proyecto robusto y modular que da soporte a una nueva forma de entender la programación interactiva."
   ]
  },
  {
   "cell_type": "markdown",
   "metadata": {},
   "source": [
    "# IPython Notebook / Jupyter Notebook\n",
    "![Python](../imagenes/jupyter-logo.jpg)"
   ]
  },
  {
   "cell_type": "markdown",
   "metadata": {},
   "source": [
    "Jupyter es un entorno web para computación interactiva. Si bien nació como parte del proyecto IPython, el mismo entorno visual se puede conectar a *\"kernels\"* de distintos lenguajes. Se puede usar Jupyter con Python, Julia, R, Octave y decenas de lenguajes más.\n",
    "\n",
    "Los notebooks, como ya veremos, de carácter netamente interactivo y exploratorio representan una muy buena forma de plasmar y transmitir datos, información y porque no, conocimiento. Será nuestra herramienta de trabajo durante el curso. (Esto que estamos leyendo ahora es un Jupyter Notebook)"
   ]
  },
  {
   "cell_type": "markdown",
   "metadata": {},
   "source": [
    "# Anaconda\n",
    "![Python](../imagenes/anaconda-logo.png)"
   ]
  },
  {
   "cell_type": "markdown",
   "metadata": {},
   "source": [
    "Aunque instalar Python en una computadora es bastante sencillo, en este primer bloque y, para asegurarnos de que nadie tiene problemas con la instalación, vamos a usar una distribución de Python gratuita llamada Anaconda. Aunque está disponible sólo en inglés, esta distribución incluye multitud de utilidades que nos facilitarán el trabajo y es ideal para empezar.\n",
    "\n",
    "IPython nos va a facilitar mucho el aprendizaje y veremos que Anaconda instala mucho de lo ya necesario para trabajar con lo hasta aquí mencionado."
   ]
  },
  {
   "cell_type": "markdown",
   "metadata": {},
   "source": [
    "## Virtualenv\n",
    "![Virtualenv](../imagenes/virtualenv.jpg)"
   ]
  },
  {
   "cell_type": "markdown",
   "metadata": {},
   "source": [
    "Herramienta de desarrollo en Python escrita por Ian Bicking y usada para crear entornos aislados para Python, en los que es posible instalar paquetes sin interferir con otros virtualenvs ni con los paquetes de Python del sistema.\n",
    "\n",
    "Ejemplo, si un programador quiere desarrollar dos proyectos con diferentes versiones de Django, no es posible tener las dos versiones instaladas en el directorio de bibliotecas de Python del sistema, a no ser que se utilice una herramienta como virtualenv.\n",
    "\n",
    "Aparte de esta herramienta, a partir de la versión 3.3 de Python, la biblioteca estándar incluye [venv](https://docs.python.org/3/library/venv.html) como un módulo integrado. venv implementa una API similar a la de virtualenv.\n",
    "\n",
    "### Instalación\n",
    "\n",
    "Con una cuenta de administrador\n",
    "\n",
    "`$ [sudo] pip install virtualenv`\n",
    "\n",
    "#### Crear un virtualenv \n",
    "\n",
    "`$ virtualenv mienv`\n",
    "\n",
    "#### Activar el virtualenv\n",
    "\n",
    "`$ source mienv/bin/activate`\n",
    "\n",
    "#### Instalar un paquete en el virtualenv\n",
    "\n",
    "`(mienv)$ pip install django`\n",
    "\n",
    "... trabajar en el proyecto ...\n",
    "#### Salir del virtualenv\n",
    "\n",
    "`(mienv)$ deactivate`\n"
   ]
  },
  {
   "cell_type": "markdown",
   "metadata": {},
   "source": [
    "# PIP y Pypi\n",
    "\n",
    "* [pip](https://pip.pypa.io)\n",
    "* [PyPi](https://pypi.python.org/pypi)"
   ]
  },
  {
   "cell_type": "markdown",
   "metadata": {},
   "source": [
    "# Editores e IDEs\n",
    "\n",
    "* PyCharm\n",
    "* Eclipse + PyDev\n",
    "* SublimeText\n",
    "* Visual Studio Code\n",
    "* Vim\n",
    "* Emacs"
   ]
  }
 ],
 "metadata": {
  "anaconda-cloud": {},
  "kernelspec": {
   "display_name": "Python 3",
   "language": "python",
   "name": "python3"
  },
  "language_info": {
   "codemirror_mode": {
    "name": "ipython",
    "version": 3
   },
   "file_extension": ".py",
   "mimetype": "text/x-python",
   "name": "python",
   "nbconvert_exporter": "python",
   "pygments_lexer": "ipython3",
   "version": "3.6.2"
  }
 },
 "nbformat": 4,
 "nbformat_minor": 1
}
