{
 "cells": [
  {
   "cell_type": "markdown",
   "metadata": {},
   "source": [
    "# Implementación de API REST\n",
    "\n",
    "Implementación de una API REST utilizando Flask.\n",
    "    Documentacion de apis\n",
    "Presentación y estructuración del trabajo final.\n",
    "\n",
    "Modules para ver ese dia: flask-restful, flask-restful-swagger\n",
    "Material: https://blog.miguelgrinberg.com/post/designing-a-restful-api-with-python-and-flask"
   ]
  },
  {
   "cell_type": "markdown",
   "metadata": {},
   "source": [
    "# ¿Qué es REST?\n",
    "\n",
    "> La **Transferencia de Estado Representacional** (Representational State Transfer) o **REST** es un estilo de arquitectura software para sistemas hipermedia distribuidos como la World Wide Web.\n",
    "\n",
    "Características de diseño:\n",
    "1. Cliente/Servidor\n",
    "1. Stateless\n",
    "1. Cacheable\n",
    "1. Layered System\n",
    "1. Uniform Interface\n",
    "1. Code on demand\n",
    "\n",
    "# ¿Qué es un recurso?\n",
    "\n",
    "\n",
    "# ¿Qué es un servicio web RESTful?\n",
    "\n",
    "* **GET** - Obtener información sobre un recurso - http://api.com/api/orders (recuperar la lista de pedidos)\n",
    "* **GET** - Obtener información sobre un recurso - http://api.com/api/orders/123 (recuperar orden # 123)\n",
    "* **POST** - Crear un nuevo recurso\t- http://api.com/api/orders (crear un nuevo pedido, a partir de los datos proporcionados con la solicitud)\n",
    "* **PUT** - Actualizar un recurso - http://api.com/api/orders/123 (actualización de la orden # 123, a partir de los datos proporcionados con la solicitud)\n",
    "* **DELETE** - Eliminar un recurso - http://api.com/api/orders/123 (borrar pedido # 123)\n",
    "\n",
    "# Servicio web sencillo"
   ]
  }
 ],
 "metadata": {
  "kernelspec": {
   "display_name": "Python 3",
   "language": "python",
   "name": "python3"
  },
  "language_info": {
   "codemirror_mode": {
    "name": "ipython",
    "version": 3
   },
   "file_extension": ".py",
   "mimetype": "text/x-python",
   "name": "python",
   "nbconvert_exporter": "python",
   "pygments_lexer": "ipython3",
   "version": "3.6.2"
  }
 },
 "nbformat": 4,
 "nbformat_minor": 2
}
