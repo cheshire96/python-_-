{
 "cells": [
  {
   "cell_type": "markdown",
   "metadata": {
    "collapsed": true
   },
   "source": [
    "# Programación Orientada a Objetos"
   ]
  },
  {
   "cell_type": "markdown",
   "metadata": {
    "collapsed": true
   },
   "source": [
    "## Tipos de Datos Definidos por el Usuario: Clases\n",
    "\n",
    "Supongamos que queremos crear un nuevo tipo de datos llamado **Punto**.\n",
    "\n",
    "Estará definido por sus coordenadas x, y.\n",
    "\n",
    "Si bien podríamos utilizar un de los tipos de datos existentes como la tupla o la lista, podemos crear nuestro propio tipo de dato con características propias."
   ]
  },
  {
   "cell_type": "code",
   "execution_count": null,
   "metadata": {
    "collapsed": true
   },
   "outputs": [],
   "source": [
    "class Punto():\n",
    "    pass"
   ]
  },
  {
   "cell_type": "markdown",
   "metadata": {},
   "source": [
    "### La sentencia Class\n",
    "Es una sentencia compuesta formada por una cabecera y un bloque o cuerpo. En nuestro ejemplo, aún no hemos definido ningun atributo de la clase **Punto**, por ello su cuerpo es implemente la sentencia ``pass``."
   ]
  },
  {
   "cell_type": "markdown",
   "metadata": {},
   "source": [
    "### Creación de instancias (objetos)\n",
    "\n",
    "Para crera una instancia de una clase, o un objeto, utilizamos los parentesis `()` lugo del nombre de la clase."
   ]
  },
  {
   "cell_type": "code",
   "execution_count": null,
   "metadata": {
    "collapsed": true
   },
   "outputs": [],
   "source": [
    "punto = Punto()"
   ]
  },
  {
   "cell_type": "code",
   "execution_count": null,
   "metadata": {
    "collapsed": true
   },
   "outputs": [],
   "source": [
    "type(punto)"
   ]
  },
  {
   "cell_type": "code",
   "execution_count": null,
   "metadata": {
    "collapsed": true
   },
   "outputs": [],
   "source": [
    "type(Punto)"
   ]
  },
  {
   "cell_type": "markdown",
   "metadata": {},
   "source": [
    "### Definiendo atributos a los objetos\n",
    "La asingación puede ser de manera dinámica:"
   ]
  },
  {
   "cell_type": "code",
   "execution_count": null,
   "metadata": {
    "collapsed": true
   },
   "outputs": [],
   "source": [
    "punto.x = 10\n",
    "punto.y = -5"
   ]
  },
  {
   "cell_type": "markdown",
   "metadata": {},
   "source": [
    "### Definiendo otra clase...\n",
    "\n",
    "Supongamos ahora que queremos definir una nueva clase, `Rectangulo` que contenga anchura, altura y un punto de origen:\n",
    "\n",
    "<img src=\"../imagenes/cuadrado.svg\">"
   ]
  },
  {
   "cell_type": "code",
   "execution_count": null,
   "metadata": {
    "collapsed": true
   },
   "outputs": [],
   "source": [
    "class Rectangulo():\n",
    "    pass"
   ]
  },
  {
   "cell_type": "code",
   "execution_count": null,
   "metadata": {
    "collapsed": true
   },
   "outputs": [],
   "source": [
    "rect = Rectangulo()"
   ]
  },
  {
   "cell_type": "code",
   "execution_count": null,
   "metadata": {
    "collapsed": true
   },
   "outputs": [],
   "source": [
    "rect.ancho = 100.0\n",
    "rect.alto = 20.0"
   ]
  },
  {
   "cell_type": "code",
   "execution_count": null,
   "metadata": {
    "collapsed": true
   },
   "outputs": [],
   "source": [
    "rect.origen = Punto()\n",
    "rect.origen.x = 10.0\n",
    "rect.origen.y = 20.0"
   ]
  },
  {
   "cell_type": "markdown",
   "metadata": {},
   "source": [
    "### Copiando objetos\n",
    "Para copiar objetos, tenemos el módulo `copy`."
   ]
  },
  {
   "cell_type": "code",
   "execution_count": null,
   "metadata": {
    "collapsed": true
   },
   "outputs": [],
   "source": [
    "import copy"
   ]
  },
  {
   "cell_type": "code",
   "execution_count": null,
   "metadata": {
    "collapsed": true
   },
   "outputs": [],
   "source": [
    "rect2 = copy.copy(rect)"
   ]
  },
  {
   "cell_type": "code",
   "execution_count": 85,
   "metadata": {},
   "outputs": [
    {
     "name": "stdout",
     "output_type": "stream",
     "text": [
      "<__main__.Rectangulo object at 0x104b2aeb8> <__main__.Rectangulo object at 0x104b2ab38>\n"
     ]
    }
   ],
   "source": [
    "print(rect, rect2)"
   ]
  },
  {
   "cell_type": "code",
   "execution_count": 86,
   "metadata": {},
   "outputs": [
    {
     "name": "stdout",
     "output_type": "stream",
     "text": [
      "Anchos 100.0 100.0\n",
      "Altos 20.0 20.0\n",
      "Origenes <__main__.Punto object at 0x104b2a9b0> <__main__.Punto object at 0x104b2a9b0>\n"
     ]
    }
   ],
   "source": [
    "print(\"Anchos\",rect.ancho, rect2.ancho)\n",
    "print(\"Altos\", rect.alto, rect2.alto)\n",
    "print(\"Origenes\", rect.origen, rect2.origen)"
   ]
  },
  {
   "cell_type": "markdown",
   "metadata": {},
   "source": [
    "Observemos que apuntan al mismo punto, para hacer una copia en profundidad, necesitamos utilizar `deepcopy`."
   ]
  },
  {
   "cell_type": "code",
   "execution_count": null,
   "metadata": {
    "collapsed": true
   },
   "outputs": [],
   "source": [
    "rect3 = copy.deepcopy(rect)"
   ]
  },
  {
   "cell_type": "code",
   "execution_count": 88,
   "metadata": {},
   "outputs": [
    {
     "name": "stdout",
     "output_type": "stream",
     "text": [
      "Origenes <__main__.Punto object at 0x104b2a9b0> <__main__.Punto object at 0x104b2a978>\n",
      "X:  10.0 10.0\n",
      "Y:  20.0 20.0\n"
     ]
    }
   ],
   "source": [
    "print(\"Origenes\", rect.origen, rect3.origen)\n",
    "print(\"X: \", rect.origen.x, rect3.origen.x)\n",
    "print(\"Y: \", rect.origen.y, rect3.origen.y)"
   ]
  },
  {
   "cell_type": "markdown",
   "metadata": {},
   "source": [
    "Con esto logramos que los objetos internos sean distintos!"
   ]
  },
  {
   "cell_type": "markdown",
   "metadata": {},
   "source": [
    "### Métodos\n",
    "\n",
    "Los métodos son funciones internas a los objetos, en Python la referencia a la instancia **es explícita** y es el primer argumento que recibe un método. Ejemplifiquemos con el inicializador, que es lo que en otros lenguajes se llama **constructor** y tiene el nombre especial `__init__`:"
   ]
  },
  {
   "cell_type": "code",
   "execution_count": null,
   "metadata": {
    "collapsed": true
   },
   "outputs": [],
   "source": [
    "class Punto():\n",
    "    def __init__(self, x=0.0, y=0.0):\n",
    "        \"\"\"\\\n",
    "        Creación de un punto\n",
    "        \"\"\"\n",
    "        print(\"Pasó por acá\")\n",
    "        self.x = x\n",
    "        self.y = y"
   ]
  },
  {
   "cell_type": "code",
   "execution_count": 92,
   "metadata": {},
   "outputs": [
    {
     "name": "stdout",
     "output_type": "stream",
     "text": [
      "Pasó por acá\n"
     ]
    }
   ],
   "source": [
    "p = Punto(10, 10)"
   ]
  },
  {
   "cell_type": "code",
   "execution_count": 95,
   "metadata": {},
   "outputs": [
    {
     "name": "stdout",
     "output_type": "stream",
     "text": [
      "<__main__.Punto object at 0x104b0d978>\n",
      "10 10\n"
     ]
    },
    {
     "data": {
      "text/plain": [
       "'<__main__.Punto object at 0x104b0d978>'"
      ]
     },
     "execution_count": 95,
     "metadata": {},
     "output_type": "execute_result"
    }
   ],
   "source": [
    "print(p, )\n",
    "print(p.x, p.y)\n",
    "repr(p)"
   ]
  },
  {
   "cell_type": "markdown",
   "metadata": {},
   "source": [
    "### Métodos útiles\n",
    "\n",
    "El método **``__str__``** es especial, le dice a Python como formatear la salida, deber retornar una cadena.\n"
   ]
  },
  {
   "cell_type": "code",
   "execution_count": null,
   "metadata": {
    "collapsed": true
   },
   "outputs": [],
   "source": [
    "class Punto:\n",
    "    def __init__(self, x=0.0, y=0.0):\n",
    "        \"\"\"\\\n",
    "        Creación de un punto\n",
    "        \"\"\"\n",
    "        self.x = x\n",
    "        self.y = y\n",
    "    def __str__(self):\n",
    "        return \"Punto({}, {})\".format(self.x, self.y)"
   ]
  },
  {
   "cell_type": "code",
   "execution_count": null,
   "metadata": {
    "collapsed": true
   },
   "outputs": [],
   "source": [
    "p = Punto(-1, 3)\n",
    "print(p)"
   ]
  },
  {
   "cell_type": "markdown",
   "metadata": {},
   "source": [
    "### Metodos de usuario\n",
    "Podemos definir métodos de la misma forma que definimos ``__init__``, por ejemplo, la función módulo (considerando al punto un vector con origen en `Punto(0, 0)`:"
   ]
  },
  {
   "cell_type": "code",
   "execution_count": null,
   "metadata": {
    "collapsed": true
   },
   "outputs": [],
   "source": [
    "class Punto:\n",
    "    def __init__(self, x=0.0, y=0.0):\n",
    "        \"\"\"\\\n",
    "        Creación de un punto\n",
    "        \"\"\"\n",
    "        self.x = x\n",
    "        self.y = y\n",
    "        \n",
    "    def __str__(self):\n",
    "        return \"Punto({}, {})\".format(self.x, self.y)\n",
    "    \n",
    "    def modulo(self):\n",
    "        return (self.x ** 2 + self.y ** 2) ** (1/2)"
   ]
  },
  {
   "cell_type": "markdown",
   "metadata": {},
   "source": [
    "Aquí para no importar math utilizamos este truco:\n",
    "\n",
    "$$c = \\sqrt{a^2 + b^2}$$ es lo mismo que $$c = (a^2 + b^2)^{1/2}$$\n",
    "\n"
   ]
  },
  {
   "cell_type": "code",
   "execution_count": null,
   "metadata": {
    "collapsed": true
   },
   "outputs": [],
   "source": [
    "p = Punto(10, 10)\n",
    "print(p.modulo())"
   ]
  },
  {
   "cell_type": "markdown",
   "metadata": {},
   "source": [
    "### Protección\n",
    "\n",
    "Python propone que **somos gente grande**, por lo que no provee protección de atributos o métodos, pero si utiliza la mecánica de adulteración de nombres, para resaltar que se está intentando violar la encapsulación:\n"
   ]
  },
  {
   "cell_type": "code",
   "execution_count": 1,
   "metadata": {
    "collapsed": true
   },
   "outputs": [],
   "source": [
    "class Punto():\n",
    "    def __init__(self, x=0.0, y=0.0):\n",
    "        self.__x = x\n",
    "        self.__y = y\n",
    "\n",
    "    def getX(self):\n",
    "        return self.__x"
   ]
  },
  {
   "cell_type": "code",
   "execution_count": 2,
   "metadata": {},
   "outputs": [
    {
     "data": {
      "text/plain": [
       "1"
      ]
     },
     "execution_count": 2,
     "metadata": {},
     "output_type": "execute_result"
    }
   ],
   "source": [
    "p = Punto(1, 2)\n",
    "p.getX()"
   ]
  },
  {
   "cell_type": "code",
   "execution_count": 3,
   "metadata": {},
   "outputs": [
    {
     "ename": "AttributeError",
     "evalue": "'Punto' object has no attribute 'x'",
     "output_type": "error",
     "traceback": [
      "\u001b[0;31m---------------------------------------------------------------------------\u001b[0m",
      "\u001b[0;31mAttributeError\u001b[0m                            Traceback (most recent call last)",
      "\u001b[0;32m<ipython-input-3-87ad85736430>\u001b[0m in \u001b[0;36m<module>\u001b[0;34m()\u001b[0m\n\u001b[0;32m----> 1\u001b[0;31m \u001b[0mp\u001b[0m\u001b[0;34m.\u001b[0m\u001b[0mx\u001b[0m\u001b[0;34m\u001b[0m\u001b[0m\n\u001b[0m",
      "\u001b[0;31mAttributeError\u001b[0m: 'Punto' object has no attribute 'x'"
     ]
    }
   ],
   "source": [
    "p.x"
   ]
  },
  {
   "cell_type": "code",
   "execution_count": 4,
   "metadata": {},
   "outputs": [
    {
     "ename": "AttributeError",
     "evalue": "'Punto' object has no attribute '__x'",
     "output_type": "error",
     "traceback": [
      "\u001b[0;31m---------------------------------------------------------------------------\u001b[0m",
      "\u001b[0;31mAttributeError\u001b[0m                            Traceback (most recent call last)",
      "\u001b[0;32m<ipython-input-4-29d2d403472a>\u001b[0m in \u001b[0;36m<module>\u001b[0;34m()\u001b[0m\n\u001b[0;32m----> 1\u001b[0;31m \u001b[0mp\u001b[0m\u001b[0;34m.\u001b[0m\u001b[0m__x\u001b[0m\u001b[0;34m\u001b[0m\u001b[0m\n\u001b[0m",
      "\u001b[0;31mAttributeError\u001b[0m: 'Punto' object has no attribute '__x'"
     ]
    }
   ],
   "source": [
    "p.__x"
   ]
  },
  {
   "cell_type": "code",
   "execution_count": 5,
   "metadata": {},
   "outputs": [
    {
     "data": {
      "text/plain": [
       "1"
      ]
     },
     "execution_count": 5,
     "metadata": {},
     "output_type": "execute_result"
    }
   ],
   "source": [
    "p._Punto__x"
   ]
  },
  {
   "cell_type": "markdown",
   "metadata": {},
   "source": [
    "### Propiedades\n",
    "Python permite definir propiedades (en contraposición con los settters y getters de otros lenguajes):"
   ]
  },
  {
   "cell_type": "code",
   "execution_count": null,
   "metadata": {
    "collapsed": true
   },
   "outputs": [],
   "source": [
    "class PuntoGeo():\n",
    "    def __init__(self, lat=0.0, lng=0.0):\n",
    "        self.lat = lat\n",
    "        self.lng = lng\n",
    "        \n",
    "    @property\n",
    "    def lat(self):\n",
    "        '''Getter latitud'''\n",
    "        return self.__lat\n",
    "    @lat.setter\n",
    "    def lat(self, new_val):\n",
    "        '''Setter latitud'''\n",
    "        if not -90.0 <= new_val <= 90.0:\n",
    "            raise ValueError(\"Latitud fuera de rango!\")\n",
    "        self.__lat = new_val\n",
    "        \n",
    "    @property\n",
    "    def lng(self):\n",
    "        '''Getter longitud'''\n",
    "        return self.__lng\n",
    "\n",
    "    @lng.setter\n",
    "    def lng(self, new_val):\n",
    "        '''Setter longitud'''\n",
    "        if not -180.0 <= new_val <= 180:\n",
    "            raise ValueError(\"Longitud fuera de rango!\")\n",
    "        self.__lat = new_val\n",
    "    \n",
    "        \n"
   ]
  },
  {
   "cell_type": "code",
   "execution_count": 120,
   "metadata": {},
   "outputs": [
    {
     "name": "stdout",
     "output_type": "stream",
     "text": [
      "-65.0057676\n"
     ]
    }
   ],
   "source": [
    "unp = PuntoGeo(-42.7855906,-65.0057676)\n",
    "print(unp.lat)\n"
   ]
  },
  {
   "cell_type": "code",
   "execution_count": 121,
   "metadata": {},
   "outputs": [
    {
     "ename": "ValueError",
     "evalue": "Latitud fuera de rango!",
     "output_type": "error",
     "traceback": [
      "\u001b[0;31m---------------------------------------------------------------------------\u001b[0m",
      "\u001b[0;31mValueError\u001b[0m                                Traceback (most recent call last)",
      "\u001b[0;32m<ipython-input-121-4caef41b0771>\u001b[0m in \u001b[0;36m<module>\u001b[0;34m()\u001b[0m\n\u001b[0;32m----> 1\u001b[0;31m \u001b[0munp\u001b[0m\u001b[0;34m.\u001b[0m\u001b[0mlat\u001b[0m \u001b[0;34m=\u001b[0m \u001b[0;36m120\u001b[0m\u001b[0;34m\u001b[0m\u001b[0m\n\u001b[0m",
      "\u001b[0;32m<ipython-input-110-d37f9df3688b>\u001b[0m in \u001b[0;36mlat\u001b[0;34m(self, new_val)\u001b[0m\n\u001b[1;32m     12\u001b[0m         \u001b[0;34m'''Setter latitud'''\u001b[0m\u001b[0;34m\u001b[0m\u001b[0m\n\u001b[1;32m     13\u001b[0m         \u001b[0;32mif\u001b[0m \u001b[0;32mnot\u001b[0m \u001b[0;34m-\u001b[0m\u001b[0;36m90.0\u001b[0m \u001b[0;34m<=\u001b[0m \u001b[0mnew_val\u001b[0m \u001b[0;34m<=\u001b[0m \u001b[0;36m90.0\u001b[0m\u001b[0;34m:\u001b[0m\u001b[0;34m\u001b[0m\u001b[0m\n\u001b[0;32m---> 14\u001b[0;31m             \u001b[0;32mraise\u001b[0m \u001b[0mValueError\u001b[0m\u001b[0;34m(\u001b[0m\u001b[0;34m\"Latitud fuera de rango!\"\u001b[0m\u001b[0;34m)\u001b[0m\u001b[0;34m\u001b[0m\u001b[0m\n\u001b[0m\u001b[1;32m     15\u001b[0m         \u001b[0mself\u001b[0m\u001b[0;34m.\u001b[0m\u001b[0m__lat\u001b[0m \u001b[0;34m=\u001b[0m \u001b[0mnew_val\u001b[0m\u001b[0;34m\u001b[0m\u001b[0m\n\u001b[1;32m     16\u001b[0m \u001b[0;34m\u001b[0m\u001b[0m\n",
      "\u001b[0;31mValueError\u001b[0m: Latitud fuera de rango!"
     ]
    }
   ],
   "source": [
    "unp.lat = 120"
   ]
  },
  {
   "cell_type": "markdown",
   "metadata": {},
   "source": [
    "### Atributos *\"de clase\"*\n",
    "\n",
    "Los atributos de clase son definciones en el bloque de la clase. Tienen algunos usos, como valores por defecto, constantes y algunos DSL (como ORMs):\n"
   ]
  },
  {
   "cell_type": "code",
   "execution_count": null,
   "metadata": {
    "collapsed": true
   },
   "outputs": [],
   "source": [
    "class Punto():\n",
    "    x = 0\n",
    "    y = 0"
   ]
  },
  {
   "cell_type": "code",
   "execution_count": null,
   "metadata": {
    "collapsed": true
   },
   "outputs": [],
   "source": [
    "p = Punto()"
   ]
  },
  {
   "cell_type": "markdown",
   "metadata": {},
   "source": [
    "Cuando se modifican, se crea una **copia de instancia**."
   ]
  },
  {
   "cell_type": "code",
   "execution_count": null,
   "metadata": {
    "collapsed": true
   },
   "outputs": [],
   "source": [
    "p.x = 10\n",
    "print(p.x)"
   ]
  },
  {
   "cell_type": "code",
   "execution_count": null,
   "metadata": {
    "collapsed": true
   },
   "outputs": [],
   "source": [
    "Punto.x "
   ]
  },
  {
   "cell_type": "markdown",
   "metadata": {},
   "source": [
    "### Polimorfosisimo!\n",
    "\n",
    "Existen dos tipos de polimorfismo, de operadores y argumentos, Python soporta nativamente el de operadores. El otro puede ser emulado. Veamos un ejemplo de polimorfismo de operadores"
   ]
  },
  {
   "cell_type": "code",
   "execution_count": 6,
   "metadata": {
    "collapsed": true
   },
   "outputs": [],
   "source": [
    "class Punto():\n",
    "    def __init__(self, x=0.0, y=0.0):\n",
    "        \"\"\"\\\n",
    "        Creación de un punto\n",
    "        \"\"\"\n",
    "        self.x = x\n",
    "        self.y = y\n",
    "        \n",
    "    def __str__(self):\n",
    "        return \"Punto({}, {})\".format(self.x, self.y)\n",
    "    \n",
    "    def modulo(self):\n",
    "        return (self.x ** 2 + self.y ** 2) ** (1/2)\n",
    "    \n",
    "    def __add__(self, otro_punto):\n",
    "        assert type(otro_punto) is Punto, \"Pasame un Punto!\"\n",
    "        return Punto(self.x + otro_punto.x,  self.y + otro_punto.y)"
   ]
  },
  {
   "cell_type": "code",
   "execution_count": 149,
   "metadata": {},
   "outputs": [
    {
     "name": "stdout",
     "output_type": "stream",
     "text": [
      "Punto(12, 30)\n"
     ]
    }
   ],
   "source": [
    "punto_sumado = Punto(5, 10) + Punto(7, 20)\n",
    "print(punto_sumado)\n"
   ]
  },
  {
   "cell_type": "code",
   "execution_count": 150,
   "metadata": {},
   "outputs": [
    {
     "ename": "AssertionError",
     "evalue": "Pasame un Punto!",
     "output_type": "error",
     "traceback": [
      "\u001b[0;31m---------------------------------------------------------------------------\u001b[0m",
      "\u001b[0;31mAssertionError\u001b[0m                            Traceback (most recent call last)",
      "\u001b[0;32m<ipython-input-150-3bddc650cec7>\u001b[0m in \u001b[0;36m<module>\u001b[0;34m()\u001b[0m\n\u001b[0;32m----> 1\u001b[0;31m \u001b[0mPunto\u001b[0m\u001b[0;34m(\u001b[0m\u001b[0;36m10\u001b[0m\u001b[0;34m,\u001b[0m \u001b[0;36m10\u001b[0m\u001b[0;34m)\u001b[0m \u001b[0;34m+\u001b[0m \u001b[0;34m'hola'\u001b[0m\u001b[0;34m\u001b[0m\u001b[0m\n\u001b[0m",
      "\u001b[0;32m<ipython-input-148-6320d6ac873e>\u001b[0m in \u001b[0;36m__add__\u001b[0;34m(self, otro_punto)\u001b[0m\n\u001b[1;32m     13\u001b[0m \u001b[0;34m\u001b[0m\u001b[0m\n\u001b[1;32m     14\u001b[0m     \u001b[0;32mdef\u001b[0m \u001b[0m__add__\u001b[0m\u001b[0;34m(\u001b[0m\u001b[0mself\u001b[0m\u001b[0;34m,\u001b[0m \u001b[0motro_punto\u001b[0m\u001b[0;34m)\u001b[0m\u001b[0;34m:\u001b[0m\u001b[0;34m\u001b[0m\u001b[0m\n\u001b[0;32m---> 15\u001b[0;31m         \u001b[0;32massert\u001b[0m \u001b[0mtype\u001b[0m\u001b[0;34m(\u001b[0m\u001b[0motro_punto\u001b[0m\u001b[0;34m)\u001b[0m \u001b[0;32mis\u001b[0m \u001b[0mPunto\u001b[0m\u001b[0;34m,\u001b[0m \u001b[0;34m\"Pasame un Punto!\"\u001b[0m\u001b[0;34m\u001b[0m\u001b[0m\n\u001b[0m\u001b[1;32m     16\u001b[0m         \u001b[0;32mreturn\u001b[0m \u001b[0mPunto\u001b[0m\u001b[0;34m(\u001b[0m\u001b[0mself\u001b[0m\u001b[0;34m.\u001b[0m\u001b[0mx\u001b[0m \u001b[0;34m+\u001b[0m \u001b[0motro_punto\u001b[0m\u001b[0;34m.\u001b[0m\u001b[0mx\u001b[0m\u001b[0;34m,\u001b[0m  \u001b[0mself\u001b[0m\u001b[0;34m.\u001b[0m\u001b[0my\u001b[0m \u001b[0;34m+\u001b[0m \u001b[0motro_punto\u001b[0m\u001b[0;34m.\u001b[0m\u001b[0my\u001b[0m\u001b[0;34m)\u001b[0m\u001b[0;34m\u001b[0m\u001b[0m\n",
      "\u001b[0;31mAssertionError\u001b[0m: Pasame un Punto!"
     ]
    }
   ],
   "source": [
    "Punto(10, 10) + 'hola'"
   ]
  },
  {
   "cell_type": "code",
   "execution_count": 139,
   "metadata": {},
   "outputs": [
    {
     "data": {
      "text/plain": [
       "100"
      ]
     },
     "execution_count": 139,
     "metadata": {},
     "output_type": "execute_result"
    }
   ],
   "source": [
    "p.x"
   ]
  },
  {
   "cell_type": "markdown",
   "metadata": {},
   "source": [
    "### Herencia\n",
    "\n",
    "Python soporta herencia simple y múltiple, veamos un ejemplo:"
   ]
  },
  {
   "cell_type": "code",
   "execution_count": 153,
   "metadata": {},
   "outputs": [
    {
     "name": "stdout",
     "output_type": "stream",
     "text": [
      "El animal anda\n"
     ]
    }
   ],
   "source": [
    "class Terrestre:\n",
    "    def desplazar(self):\n",
    "        print(\"El animal anda\")\n",
    "\n",
    "class Acuatico:\n",
    "    def desplazar(self):\n",
    "        print(\"El animal nada\")\n",
    "\n",
    "class Cocodrilo(Terrestre, Acuatico):\n",
    "    pass\n",
    "\n",
    "coco = Cocodrilo()\n",
    "coco.desplazar()\n",
    "    \n",
    "    "
   ]
  },
  {
   "cell_type": "code",
   "execution_count": 181,
   "metadata": {
    "collapsed": true
   },
   "outputs": [],
   "source": [
    "class SerVivo:\n",
    "    def __init__(self, nombre):\n",
    "        self.__nombre = nombre\n",
    "    \n",
    "    def __str__(self):\n",
    "        return self.__nombre\n",
    "\n",
    "class Humano(SerVivo):\n",
    "\n",
    "    def __init__(self, nombre, dni):\n",
    "        super().__init__(nombre)\n",
    "        self.__dni = dni\n",
    "    \n",
    "    def __str__(self):\n",
    "        return \"{!s} y tiene dni {}\".format(super().__str__(), self.__dni)\n",
    "        "
   ]
  },
  {
   "cell_type": "code",
   "execution_count": 182,
   "metadata": {},
   "outputs": [
    {
     "name": "stdout",
     "output_type": "stream",
     "text": [
      "Nahuel y tiene dni 1234567\n"
     ]
    }
   ],
   "source": [
    "h = Humano('Nahuel', 1234567)\n",
    "print(h)"
   ]
  },
  {
   "cell_type": "markdown",
   "metadata": {},
   "source": [
    "### Recursos extras sobre POO en Python\n",
    "\n",
    "- [Material de Rosita Borensztejn (UBA)](http://www.dc.uba.ar/materias/int-com/2011/cuat1/Descargas/Clases%20y%20Objetos%20en%20Python.pdf)\n",
    "-  [Tema Clases en el Tutorial de Python](http://docs.python.org.ar/tutorial/3/classes.html)"
   ]
  },
  {
   "cell_type": "markdown",
   "metadata": {
    "collapsed": true
   },
   "source": [
    "## Excepciones definidas por el usuario"
   ]
  },
  {
   "cell_type": "markdown",
   "metadata": {},
   "source": [
    "Los programas pueden nombrar sus propias excepciones creando una nueva clase excepción. Las excepciones, típicamente, deberán derivar de la clase Exception, directa o indirectamente."
   ]
  },
  {
   "cell_type": "code",
   "execution_count": 7,
   "metadata": {
    "collapsed": true
   },
   "outputs": [],
   "source": [
    "class MiError(Exception):\n",
    "    def __init__(self, valor):\n",
    "        self.valor = valor\n",
    "    def __str__(self):\n",
    "        return repr(self.valor)"
   ]
  },
  {
   "cell_type": "code",
   "execution_count": 8,
   "metadata": {},
   "outputs": [
    {
     "name": "stdout",
     "output_type": "stream",
     "text": [
      "Ocurrió mi excepción, valor: 4\n"
     ]
    }
   ],
   "source": [
    "try:\n",
    "    raise MiError(2*2)\n",
    "except MiError as e:\n",
    "    print('Ocurrió mi excepción, valor:', e.valor)\n"
   ]
  },
  {
   "cell_type": "code",
   "execution_count": 9,
   "metadata": {},
   "outputs": [
    {
     "ename": "MiError",
     "evalue": "'oops!'",
     "output_type": "error",
     "traceback": [
      "\u001b[0;31m---------------------------------------------------------------------------\u001b[0m",
      "\u001b[0;31mMiError\u001b[0m                                   Traceback (most recent call last)",
      "\u001b[0;32m<ipython-input-9-69d1dbc099f0>\u001b[0m in \u001b[0;36m<module>\u001b[0;34m()\u001b[0m\n\u001b[0;32m----> 1\u001b[0;31m \u001b[0;32mraise\u001b[0m \u001b[0mMiError\u001b[0m\u001b[0;34m(\u001b[0m\u001b[0;34m'oops!'\u001b[0m\u001b[0;34m)\u001b[0m\u001b[0;34m\u001b[0m\u001b[0m\n\u001b[0m",
      "\u001b[0;31mMiError\u001b[0m: 'oops!'"
     ]
    }
   ],
   "source": [
    "raise MiError('oops!')"
   ]
  },
  {
   "cell_type": "markdown",
   "metadata": {},
   "source": [
    "En el ejemplo, el método __init__() de Exception fue sobrescrito. El nuevo comportamiento simplemente crea el atributo valor. Esto reemplaza el comportamiento por defecto de crear el atributo args.\n",
    "\n",
    "Las clases de Excepciones pueden ser definidas de la misma forma que cualquier otra clase, pero usualmente se mantienen simples, a menudo solo ofreciendo un número de atributos con información sobre el error que leerán los manejadores de la excepción."
   ]
  }
 ],
 "metadata": {
  "anaconda-cloud": {},
  "kernelspec": {
   "display_name": "Python 3",
   "language": "python",
   "name": "python3"
  },
  "language_info": {
   "codemirror_mode": {
    "name": "ipython",
    "version": 3
   },
   "file_extension": ".py",
   "mimetype": "text/x-python",
   "name": "python",
   "nbconvert_exporter": "python",
   "pygments_lexer": "ipython3",
   "version": "3.6.2"
  }
 },
 "nbformat": 4,
 "nbformat_minor": 1
}
