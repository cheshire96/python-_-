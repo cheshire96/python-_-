{
 "cells": [
  {
   "cell_type": "markdown",
   "metadata": {},
   "source": [
    "# Trabajando con JSON"
   ]
  },
  {
   "cell_type": "markdown",
   "metadata": {},
   "source": [
    "JSON (*JavaScript Object Notation*) es un formato de texto útil para representar estructuras de datos y transferirlas por la Web. Es muy utilizado sobre todo en el protocolo HTTP por su facilidad de manipulación, su estructura simple y la enorme cantidad de herramientas que hay para trabajarlo.\n",
    "\n",
    "Para más información sobre JSON consulten [json.org](http://json.org).\n",
    "\n",
    "Nosotros utilizaremos un módulo disponible en la librería estándar para manipular datos JSON. Esta librería es justamente `json`."
   ]
  },
  {
   "cell_type": "code",
   "execution_count": 27,
   "metadata": {},
   "outputs": [
    {
     "name": "stdout",
     "output_type": "stream",
     "text": [
      "DATOS: [{'a': 'A', 'b': (2, 4), 'c': 3.0}]\n",
      "Codificado: [{\"a\": \"A\", \"b\": [2, 4], \"c\": 3.0}]\n",
      "Decodificado: [{'a': 'A', 'b': [2, 4], 'c': 3.0}]\n",
      "ORIGINAL: <class 'tuple'>\n",
      "Decodificado : <class 'list'>\n"
     ]
    }
   ],
   "source": [
    "import json\n",
    "\n",
    "data = [{'a': 'A', 'b': (2, 4), 'c': 3.0}]\n",
    "print('DATOS:', repr(data))\n",
    "\n",
    "data_string = json.dumps(data)\n",
    "print('Codificado:', data_string)\n",
    "\n",
    "decoded = json.loads(data_string)\n",
    "print('Decodificado:', decoded)\n",
    "\n",
    "print('ORIGINAL:', type(data[0]['b']))\n",
    "print('Decodificado :', type(decoded[0]['b']))\n"
   ]
  },
  {
   "cell_type": "markdown",
   "metadata": {},
   "source": [
    "El formato JSON espera que las claves de un diccionario sean strings. Si tratamos de encodear un diccionario con claves no string (un int p. ej.), obtendremos una excepción TypeError. Una manera de solucionar esta limitación es decirle al codificador que no intente codificar las claves que no sean string usando el argumento skipkeys:"
   ]
  },
  {
   "cell_type": "code",
   "execution_count": 26,
   "metadata": {},
   "outputs": [
    {
     "name": "stdout",
     "output_type": "stream",
     "text": [
      "Primer intento\n",
      "ERROR: keys must be a string\n",
      "\n",
      "Segundo intento\n",
      "[{\"a\": \"A\", \"b\": [2, 4], \"c\": 3.0}]\n"
     ]
    }
   ],
   "source": [
    "\n",
    "import json\n",
    "\n",
    "data = [{'a': 'A', 'b': (2, 4), 'c': 3.0, ('d',): 'D tuple'}]\n",
    "\n",
    "print('Primer intento')\n",
    "try:\n",
    "    print(json.dumps(data))\n",
    "except TypeError as err:\n",
    "    print('ERROR:', err)\n",
    "\n",
    "print()\n",
    "print('Segundo intento')\n",
    "print(json.dumps(data, skipkeys=True))\n",
    "\n"
   ]
  },
  {
   "cell_type": "markdown",
   "metadata": {},
   "source": [
    "### Parseando nuestros propios tipos de datos"
   ]
  },
  {
   "cell_type": "markdown",
   "metadata": {},
   "source": [
    "Qué hacemos en el caso de que querramos serializar/desserializar nuestros propios objetos? En ese caso deberemos enseñarle al módulo `json` cómo realizar la transformación.\n",
    "\n",
    "Supongamos que tenemos definida la siguiente clase:\n",
    "\n",
    "```python\n",
    "class MiObj:\n",
    "\n",
    "    def __init__(self, n=1, r=2.0, s='Hola'):\n",
    "        self.s = s\n",
    "        self.n = n\n",
    "        self.r = r\n",
    "\n",
    "    def __repr__(self):\n",
    "        return '<MyObj({} {} {})>'.format(self.n, self.r, self.s)\n",
    "\n",
    "```\n",
    "Entonces, para trasformar una instancia de ese objeto a JSON haremos:"
   ]
  },
  {
   "cell_type": "code",
   "execution_count": 28,
   "metadata": {},
   "outputs": [
    {
     "name": "stdout",
     "output_type": "stream",
     "text": [
      "{\"s\": \"Hola\", \"n\": 1, \"r\": 2.0}\n"
     ]
    }
   ],
   "source": [
    "class MiObj:\n",
    "\n",
    "    def __init__(self, n=1, r=2.0, s='Hola'):\n",
    "        self.s = s\n",
    "        self.n = n\n",
    "        self.r = r\n",
    "\n",
    "    def __repr__(self):\n",
    "        return '<MyObj({} {} {})>'.format(**self.__dict__)\n",
    "    \n",
    "def obj_a_dict(obj):\n",
    "    d = {}\n",
    "    d.update(obj.__dict__)\n",
    "    return d\n",
    "\n",
    "obj = MiObj()\n",
    "json_obj = json.dumps(obj, default=obj_a_dict)\n",
    "print(json_obj)\n"
   ]
  },
  {
   "cell_type": "markdown",
   "metadata": {},
   "source": [
    "Para realizar el paso inverso, también deberemos definir una función que nos ayude. En este caso, la función es trivial. Si el objeto JSON fuese más complejo, seguramente la función deberá atender a eso."
   ]
  },
  {
   "cell_type": "code",
   "execution_count": 25,
   "metadata": {},
   "outputs": [
    {
     "name": "stdout",
     "output_type": "stream",
     "text": [
      "<MyObj(1 2.0 Hola)>\n"
     ]
    }
   ],
   "source": [
    "def dict_a_miobj(d):\n",
    "    return MiObj(**d)\n",
    "\n",
    "print(json.loads(json_obj, object_hook=dict_a_miobj))\n",
    "\n"
   ]
  }
 ],
 "metadata": {
  "kernelspec": {
   "display_name": "Python 3",
   "language": "python",
   "name": "python3"
  },
  "language_info": {
   "codemirror_mode": {
    "name": "ipython",
    "version": 3
   },
   "file_extension": ".py",
   "mimetype": "text/x-python",
   "name": "python",
   "nbconvert_exporter": "python",
   "pygments_lexer": "ipython3",
   "version": "3.6.2"
  }
 },
 "nbformat": 4,
 "nbformat_minor": 2
}
