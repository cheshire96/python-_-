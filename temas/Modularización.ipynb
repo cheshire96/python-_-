{
 "cells": [
  {
   "cell_type": "markdown",
   "metadata": {},
   "source": [
    "# Modularización"
   ]
  },
  {
   "cell_type": "markdown",
   "metadata": {},
   "source": [
    "La modularización tiene como objetivo brindar una mecánica para organizar el código en múltiples archivos y permitir su importación total o parcial dónde sea requerido.\n",
    "\n",
    "\n",
    "#### [Con las pilas incluidas!](https://devdocs.io/python~3.5/)\n",
    "La [biblioteca estándar de Python](https://docs.python.org/3/library/index.html) es un ejemplo de una colección de paquetes y módulos:\n",
    "\n",
    "* [`os`](https://docs.python.org/3/library/os.html) Interfase miscelanea con el sistema operativo.\n",
    "* [`csv`](https://docs.python.org/3/library/csv.html) Lector de archivos separados por coma.\n",
    "* [zlib](https://docs.python.org/3/library/zlib.html) [gzip](https://docs.python.org/3/library/zlib.html)\n",
    "[bz2](https://docs.python.org/3/library/zlib.html) [lzma](https://docs.python.org/3/library/lzma.html) [zipfile](https://docs.python.org/3/library/zipfile.html) [tarfile](https://docs.python.org/3/library/tarfile.html) Soporte de diversos formatos de compresión.\n",
    "* [string](https://docs.python.org/3/library/string.html)\n",
    "[re](https://docs.python.org/3/library/re.html)\n",
    "[difflib](https://docs.python.org/3/library/difflib.html)\n",
    "[textwrap](https://docs.python.org/3/library/textwrap.html)\n",
    "[unicodedata](https://docs.python.org/3/library/unicodedata.html)\n",
    "[stringprep](https://docs.python.org/3/library/stringprep.html)\n",
    "[readline](https://docs.python.org/3/library/readline.html)\n",
    "[rlcompleter](https://docs.python.org/3/library/rlcompleter.html) Operaciones sobre texto.\n",
    "* [struct](https://docs.python.org/3/library/struct.html)\n",
    "[codecs](https://docs.python.org/3/library/codecs.html) Manejo de datos binarios\n",
    "* [datetime](https://docs.python.org/3/library/datetime.html)\n",
    "[calendar](https://docs.python.org/3/library/calendar.html)\n",
    "[collections](https://docs.python.org/3/library/collections.html)\n",
    "[collections](https://docs.python.org/3/library/collections.html)\n",
    "[heapq](https://docs.python.org/3/library/heapq.html)\n",
    "[bisect](https://docs.python.org/3/library/bisect.html)\n",
    "[array](https://docs.python.org/3/library/array.html)\n",
    "[weakref](https://docs.python.org/3/library/weakref.html)\n",
    "[types](https://docs.python.org/3/library/types.html)\n",
    "[copy](https://docs.python.org/3/library/copy.html)\n",
    "[pprint](https://docs.python.org/3/library/pprint.html)\n",
    "[reprlib](https://docs.python.org/3/library/reprlib.html)\n",
    "[enum](https://docs.python.org/3/library/enum.html) Tipos de datos\n",
    "* Entre muchos otros!\n"
   ]
  },
  {
   "cell_type": "markdown",
   "metadata": {},
   "source": [
    "# ¿Cómo se crea un módulo?\n",
    "\n",
    "En Python un módulo es cualquier archivo. El nombre del archivo es el nombre del módulo con el sufijo .py agregado. Dentro de un módulo, el nombre del mismo está disponible en el valor de la variable global \\_\\_name\\_\\_. Por ejemplo consideremos el ejemplo un archivo con el nombre `fechas.py` con el siguiente código (a partir de ahora archivo y módulo serán palabras equivalentes prefiriendo ésta última):\n",
    "\n",
    "```python\n",
    "# fechas.py\n",
    "from datetime import datetime\n",
    "\n",
    "def edad_en_dias(fecha_de_nacimiento):\n",
    "    ahora = datetime.now()\n",
    "    edad = ahora - fecha_de_nacimiento\n",
    "    return edad.days\n",
    "\n",
    "```\n",
    "* Un **paquete** es una carpeta que al menos contiene un archivo **``__init__.py``** y puede contener otros módulos"
   ]
  },
  {
   "cell_type": "code",
   "execution_count": 38,
   "metadata": {
    "collapsed": true
   },
   "outputs": [],
   "source": [
    "import fechas"
   ]
  },
  {
   "cell_type": "markdown",
   "metadata": {},
   "source": [
    "Esto no mete los nombres de las funciones definidas en fecha directamente en el espacio de nombres actual; sólo mete ahí el nombre del módulo, fechas. Usando el nombre del módulo se puede acceder a las funciones"
   ]
  },
  {
   "cell_type": "code",
   "execution_count": 39,
   "metadata": {},
   "outputs": [
    {
     "data": {
      "text/plain": [
       "13070"
      ]
     },
     "execution_count": 39,
     "metadata": {},
     "output_type": "execute_result"
    }
   ],
   "source": [
    "from datetime import datetime\n",
    "fechas.edad_en_dias(datetime(1980, 12, 8))"
   ]
  },
  {
   "cell_type": "markdown",
   "metadata": {},
   "source": [
    "# Más sobre los módulos"
   ]
  },
  {
   "cell_type": "markdown",
   "metadata": {},
   "source": [
    "Un módulo puede contener tanto declaraciones ejecutables como definiciones de funciones. Estas declaraciones están pensadas para inicializar el módulo. Se ejecutan solamente la primera vez que el módulo se encuentra en una sentencia import.\n",
    "\n",
    "Cada módulo tiene su propio espacio de nombres, el que es usado como espacio de nombres global por todas las funciones definidas en el módulo. Por lo tanto, el autor de un módulo puede usar variables globales en el módulo sin preocuparse acerca de conflictos con una variable global del usuario. Por otro lado, si sabés lo que estás haciendo podés tocar las variables globales de un módulo con la misma notación usada para referirte a sus funciones, nombremodulo.nombreitem.\n",
    "\n",
    "Los módulos pueden importar otros módulos. Es costumbre pero no obligatorio el ubicar todas las declaraciones import al principio del módulo (o script, para el caso). Los nombres de los módulos importados se ubican en el espacio de nombres global del módulo que hace la importación.\n",
    "\n",
    "Hay una variante de la declaración import que importa los nombres de un módulo directamente al espacio de nombres del módulo que hace la importación"
   ]
  },
  {
   "cell_type": "code",
   "execution_count": 11,
   "metadata": {
    "collapsed": true
   },
   "outputs": [],
   "source": [
    "from fibo import fib, fib2"
   ]
  },
  {
   "cell_type": "markdown",
   "metadata": {},
   "source": [
    "Esto no introduce en el espacio de nombres local el nombre del módulo desde el cual se está importando.\n",
    "\n",
    "Hay incluso una variante para importar todos los nombres que un módulo define"
   ]
  },
  {
   "cell_type": "code",
   "execution_count": 25,
   "metadata": {
    "collapsed": true
   },
   "outputs": [],
   "source": [
    "from fibo import *"
   ]
  },
  {
   "cell_type": "markdown",
   "metadata": {},
   "source": [
    "Esta variente debe ser utilizada **con cuidado**, ya que se importa todo lo que se define y se importe en ese módulo! Para evitar esto, en el módulo se puede definir una variable de nombre ``__all__``, con una lista de los nombres de los símbolos (funciones, objetos) que se deseen exportar.\n",
    "```python\n",
    "# bartender.py\n",
    "'''\n",
    "Estos import son ficticios\n",
    "'''\n",
    "import vodka\n",
    "import limon\n",
    "import azucar\n",
    "import hielo\n",
    "\n",
    "__all__ = [\n",
    "    'caipiroska',\n",
    "]\n",
    "\n",
    "def caipiroska():\n",
    "    return 1 * vodka +  4 limon.gajo + 4 * azucar + hielo\n",
    "```\n",
    "\n",
    "Desde otro módulo:\n",
    "\n",
    "```python\n",
    "from bartender import *\n",
    "\n",
    "caipiroska() \n",
    "```"
   ]
  },
  {
   "cell_type": "markdown",
   "metadata": {},
   "source": [
    "## Ejecutando módulos como scripts\n",
    "\n",
    "Cuando ejecutás un módulo de Python con\n",
    "\n",
    "```bash\n",
    "python fibo.py <argumentos>\n",
    "\n",
    "```\n",
    "...el código en el módulo será ejecutado, tal como si lo hubieses importado, pero con \\_\\_name\\_\\_ con el valor de \"\\_\\_main\\_\\_\". Eso significa que agregando este código al final del módulo:\n",
    "\n",
    "```python\n",
    "if __name__ == \"__main__\":\n",
    "    import sys\n",
    "    fib(int(sys.argv[1]))\n",
    "```\n",
    "...podés hacer que el archivo sea utilizable tanto como script, como módulo importable, porque el código que analiza la linea de órdenes sólo se ejecuta si el módulo es ejecutado como archivo principal:\n",
    "\n",
    "```bash\n",
    "$ python fibo.py 50\n",
    "```"
   ]
  },
  {
   "cell_type": "markdown",
   "metadata": {},
   "source": [
    "## El camino de búsqueda de los módulos\n",
    "\n",
    "Cuando se importa un módulo llamado spam, el intérprete busca primero por un módulo con ese nombre que esté integrado en el intérprete. Si no lo encuentra, entonces busca un archivo llamado spam.py en una lista de directorios especificada por la variable sys.path. sys.path se inicializa con las siguientes ubicaciones:\n",
    "\n",
    "* el directorio conteniendo el script (o el directorio actual cuando no se especifica un archivo).\n",
    "* PYTHONPATH (una lista de nombres de directorios, con la misma sintaxis que la variable de entorno PATH.\n",
    "* el directorio default de la instalación.\n",
    "\n",
    "Luego de la inicialización, los programas Python pueden modificar sys.path. El directorio que contiene el script que se está ejecutando se ubica al principio de la búsqueda, adelante de la biblioteca estándar. Esto significa que se cargarán scripts en ese directorio en lugar de módulos de la biblioteca estándar con el mismo nombre. Esto es un error a menos que se esté reemplazando intencionalmente. Mirá la sección Módulos estándar para más información."
   ]
  },
  {
   "cell_type": "code",
   "execution_count": 6,
   "metadata": {},
   "outputs": [
    {
     "data": {
      "text/plain": [
       "['',\n",
       " '/home/diego/.virtualenvs/jupyter/lib/python36.zip',\n",
       " '/home/diego/.virtualenvs/jupyter/lib/python3.6',\n",
       " '/home/diego/.virtualenvs/jupyter/lib/python3.6/lib-dynload',\n",
       " '/usr/lib64/python3.6',\n",
       " '/usr/lib/python3.6',\n",
       " '/home/diego/.virtualenvs/jupyter/lib/python3.6/site-packages',\n",
       " '/home/diego/.virtualenvs/jupyter/lib/python3.6/site-packages/IPython/extensions',\n",
       " '/home/diego/.ipython']"
      ]
     },
     "execution_count": 6,
     "metadata": {},
     "output_type": "execute_result"
    }
   ],
   "source": [
    "import sys\n",
    "sys.path"
   ]
  },
  {
   "cell_type": "code",
   "execution_count": 7,
   "metadata": {
    "collapsed": true
   },
   "outputs": [],
   "source": [
    "import sys\n",
    "sys.path.insert(1, '../codigo')"
   ]
  },
  {
   "cell_type": "code",
   "execution_count": 2,
   "metadata": {},
   "outputs": [
    {
     "name": "stdout",
     "output_type": "stream",
     "text": [
      "1 1 2 3 5 8 13 21 34 \r\n"
     ]
    }
   ],
   "source": [
    "!python ../codigo/fibo.py 50"
   ]
  },
  {
   "cell_type": "code",
   "execution_count": 4,
   "metadata": {},
   "outputs": [
    {
     "name": "stdout",
     "output_type": "stream",
     "text": [
      "1903\r\n"
     ]
    }
   ],
   "source": [
    "!python ../codigo/edad.py 2012 7 2"
   ]
  },
  {
   "cell_type": "code",
   "execution_count": 5,
   "metadata": {},
   "outputs": [
    {
     "ename": "ModuleNotFoundError",
     "evalue": "No module named 'edad'",
     "output_type": "error",
     "traceback": [
      "\u001b[0;31m---------------------------------------------------------------------------\u001b[0m",
      "\u001b[0;31mModuleNotFoundError\u001b[0m                       Traceback (most recent call last)",
      "\u001b[0;32m<ipython-input-5-fb8405b97eaf>\u001b[0m in \u001b[0;36m<module>\u001b[0;34m()\u001b[0m\n\u001b[0;32m----> 1\u001b[0;31m \u001b[0;32mimport\u001b[0m \u001b[0medad\u001b[0m\u001b[0;34m\u001b[0m\u001b[0m\n\u001b[0m",
      "\u001b[0;31mModuleNotFoundError\u001b[0m: No module named 'edad'"
     ]
    }
   ],
   "source": [
    "import edad"
   ]
  },
  {
   "cell_type": "markdown",
   "metadata": {},
   "source": [
    "# La función dir()\n",
    "\n",
    "La función integrada **dir()** se usa para encontrar qué nombres define un módulo. Devuelve una lista ordenada de cadenas"
   ]
  },
  {
   "cell_type": "code",
   "execution_count": 34,
   "metadata": {},
   "outputs": [
    {
     "data": {
      "text/plain": [
       "['__builtins__',\n",
       " '__cached__',\n",
       " '__doc__',\n",
       " '__file__',\n",
       " '__loader__',\n",
       " '__name__',\n",
       " '__package__',\n",
       " '__spec__']"
      ]
     },
     "execution_count": 34,
     "metadata": {},
     "output_type": "execute_result"
    }
   ],
   "source": [
    "import fibo, sys\n",
    "dir(fibo)"
   ]
  },
  {
   "cell_type": "markdown",
   "metadata": {},
   "source": [
    "Sin argumentos, dir() lista los nombres que tenés actualmente definidos"
   ]
  },
  {
   "cell_type": "code",
   "execution_count": 35,
   "metadata": {},
   "outputs": [
    {
     "data": {
      "text/plain": [
       "['In',\n",
       " 'Out',\n",
       " '_',\n",
       " '_12',\n",
       " '_13',\n",
       " '_14',\n",
       " '_15',\n",
       " '_16',\n",
       " '_17',\n",
       " '_34',\n",
       " '_5',\n",
       " '_7',\n",
       " '_9',\n",
       " '__',\n",
       " '___',\n",
       " '__builtin__',\n",
       " '__builtins__',\n",
       " '__doc__',\n",
       " '__loader__',\n",
       " '__name__',\n",
       " '__package__',\n",
       " '__spec__',\n",
       " '_dh',\n",
       " '_i',\n",
       " '_i1',\n",
       " '_i10',\n",
       " '_i11',\n",
       " '_i12',\n",
       " '_i13',\n",
       " '_i14',\n",
       " '_i15',\n",
       " '_i16',\n",
       " '_i17',\n",
       " '_i18',\n",
       " '_i19',\n",
       " '_i2',\n",
       " '_i20',\n",
       " '_i21',\n",
       " '_i22',\n",
       " '_i23',\n",
       " '_i24',\n",
       " '_i25',\n",
       " '_i26',\n",
       " '_i27',\n",
       " '_i28',\n",
       " '_i29',\n",
       " '_i3',\n",
       " '_i30',\n",
       " '_i31',\n",
       " '_i32',\n",
       " '_i33',\n",
       " '_i34',\n",
       " '_i35',\n",
       " '_i4',\n",
       " '_i5',\n",
       " '_i6',\n",
       " '_i7',\n",
       " '_i8',\n",
       " '_i9',\n",
       " '_ih',\n",
       " '_ii',\n",
       " '_iii',\n",
       " '_oh',\n",
       " '_sh',\n",
       " 'date',\n",
       " 'datetime',\n",
       " 'exit',\n",
       " 'fechas',\n",
       " 'fibo',\n",
       " 'get_ipython',\n",
       " 'quit',\n",
       " 'sys']"
      ]
     },
     "execution_count": 35,
     "metadata": {},
     "output_type": "execute_result"
    }
   ],
   "source": [
    "dir()"
   ]
  },
  {
   "cell_type": "markdown",
   "metadata": {},
   "source": [
    "dir() no lista los nombres de las funciones, tipos de datos y variables integradas. Si querés una lista de esos, están definidos en el módulo estándar builtins"
   ]
  },
  {
   "cell_type": "code",
   "execution_count": 1,
   "metadata": {},
   "outputs": [
    {
     "data": {
      "text/plain": [
       "['ArithmeticError',\n",
       " 'AssertionError',\n",
       " 'AttributeError',\n",
       " 'BaseException',\n",
       " 'BlockingIOError',\n",
       " 'BrokenPipeError',\n",
       " 'BufferError',\n",
       " 'BytesWarning',\n",
       " 'ChildProcessError',\n",
       " 'ConnectionAbortedError',\n",
       " 'ConnectionError',\n",
       " 'ConnectionRefusedError',\n",
       " 'ConnectionResetError',\n",
       " 'DeprecationWarning',\n",
       " 'EOFError',\n",
       " 'Ellipsis',\n",
       " 'EnvironmentError',\n",
       " 'Exception',\n",
       " 'False',\n",
       " 'FileExistsError',\n",
       " 'FileNotFoundError',\n",
       " 'FloatingPointError',\n",
       " 'FutureWarning',\n",
       " 'GeneratorExit',\n",
       " 'IOError',\n",
       " 'ImportError',\n",
       " 'ImportWarning',\n",
       " 'IndentationError',\n",
       " 'IndexError',\n",
       " 'InterruptedError',\n",
       " 'IsADirectoryError',\n",
       " 'KeyError',\n",
       " 'KeyboardInterrupt',\n",
       " 'LookupError',\n",
       " 'MemoryError',\n",
       " 'ModuleNotFoundError',\n",
       " 'NameError',\n",
       " 'None',\n",
       " 'NotADirectoryError',\n",
       " 'NotImplemented',\n",
       " 'NotImplementedError',\n",
       " 'OSError',\n",
       " 'OverflowError',\n",
       " 'PendingDeprecationWarning',\n",
       " 'PermissionError',\n",
       " 'ProcessLookupError',\n",
       " 'RecursionError',\n",
       " 'ReferenceError',\n",
       " 'ResourceWarning',\n",
       " 'RuntimeError',\n",
       " 'RuntimeWarning',\n",
       " 'StopAsyncIteration',\n",
       " 'StopIteration',\n",
       " 'SyntaxError',\n",
       " 'SyntaxWarning',\n",
       " 'SystemError',\n",
       " 'SystemExit',\n",
       " 'TabError',\n",
       " 'TimeoutError',\n",
       " 'True',\n",
       " 'TypeError',\n",
       " 'UnboundLocalError',\n",
       " 'UnicodeDecodeError',\n",
       " 'UnicodeEncodeError',\n",
       " 'UnicodeError',\n",
       " 'UnicodeTranslateError',\n",
       " 'UnicodeWarning',\n",
       " 'UserWarning',\n",
       " 'ValueError',\n",
       " 'Warning',\n",
       " 'ZeroDivisionError',\n",
       " '__IPYTHON__',\n",
       " '__build_class__',\n",
       " '__debug__',\n",
       " '__doc__',\n",
       " '__import__',\n",
       " '__loader__',\n",
       " '__name__',\n",
       " '__package__',\n",
       " '__spec__',\n",
       " 'abs',\n",
       " 'all',\n",
       " 'any',\n",
       " 'ascii',\n",
       " 'bin',\n",
       " 'bool',\n",
       " 'bytearray',\n",
       " 'bytes',\n",
       " 'callable',\n",
       " 'chr',\n",
       " 'classmethod',\n",
       " 'compile',\n",
       " 'complex',\n",
       " 'copyright',\n",
       " 'credits',\n",
       " 'delattr',\n",
       " 'dict',\n",
       " 'dir',\n",
       " 'display',\n",
       " 'divmod',\n",
       " 'enumerate',\n",
       " 'eval',\n",
       " 'exec',\n",
       " 'filter',\n",
       " 'float',\n",
       " 'format',\n",
       " 'frozenset',\n",
       " 'get_ipython',\n",
       " 'getattr',\n",
       " 'globals',\n",
       " 'hasattr',\n",
       " 'hash',\n",
       " 'help',\n",
       " 'hex',\n",
       " 'id',\n",
       " 'input',\n",
       " 'int',\n",
       " 'isinstance',\n",
       " 'issubclass',\n",
       " 'iter',\n",
       " 'len',\n",
       " 'license',\n",
       " 'list',\n",
       " 'locals',\n",
       " 'map',\n",
       " 'max',\n",
       " 'memoryview',\n",
       " 'min',\n",
       " 'next',\n",
       " 'object',\n",
       " 'oct',\n",
       " 'open',\n",
       " 'ord',\n",
       " 'pow',\n",
       " 'print',\n",
       " 'property',\n",
       " 'range',\n",
       " 'repr',\n",
       " 'reversed',\n",
       " 'round',\n",
       " 'set',\n",
       " 'setattr',\n",
       " 'slice',\n",
       " 'sorted',\n",
       " 'staticmethod',\n",
       " 'str',\n",
       " 'sum',\n",
       " 'super',\n",
       " 'tuple',\n",
       " 'type',\n",
       " 'vars',\n",
       " 'zip']"
      ]
     },
     "execution_count": 1,
     "metadata": {},
     "output_type": "execute_result"
    }
   ],
   "source": [
    "import builtins\n",
    "dir(builtins)  "
   ]
  },
  {
   "cell_type": "markdown",
   "metadata": {},
   "source": [
    "# Paquetes"
   ]
  },
  {
   "cell_type": "markdown",
   "metadata": {
    "collapsed": true
   },
   "source": [
    "Los paquetes son una manera de estructurar los espacios de nombres de Python usando \"nombres de\n",
    "módulos con puntos\". Por ejemplo, el nombre de módulo A.B designa un submódulo llamado B en un\n",
    "paquete llamado A. \n",
    "\n",
    "Tal como el uso de módulos evita que los autores de diferentes módulos tengan que\n",
    "preocuparse de los respectivos nombres de variables globales, el uso de nombres de módulos con puntos\n",
    "evita que los autores de paquetes de muchos módulos, como NumPy o la Biblioteca de Imágenes de\n",
    "Python (Python Imaging Library, o PIL), tengan que preocuparse de los respectivos nombres de módulos.\n",
    "\n",
    "Suponete que querés designar una colección de módulos (un \"paquete\") para el manejo uniforme de\n",
    "archivos y datos de sonidos. Hay diferentes formatos de archivos de sonido (normalmente reconocidos por\n",
    "su extensión, por ejemplo: `.wav`, `.aiff`, `.au`), por lo que tenés que crear y mantener una colección\n",
    "siempre creciente de módulos para la conversión entre los distintos formatos de archivos. \n",
    "\n",
    "Hay muchas operaciones diferentes que quizás quieras ejecutar en los datos de sonido (como mezclarlos, añadir eco,\n",
    "aplicar una función ecualizadora, crear un efecto estéreo artificial), por lo que ademas estarás escribiendo\n",
    "una lista sin fin de módulos para realizar estas operaciones. Aquí hay una posible estructura para tu\n",
    "paquete (expresados en términos de un sistema jerárquico de archivos):\n",
    "\n",
    "```\n",
    "   sound/                          Paquete superior\n",
    "         __init__.py               Inicializa el paquete de sonido\n",
    "         formats/                  Subpaquete para conversiones de formato\n",
    "                 __init__.py\n",
    "                 wavread.py\n",
    "                 wavwrite.py\n",
    "                 aiffread.py\n",
    "                 aiffwrite.py\n",
    "                 auread.py\n",
    "                 auwrite.py\n",
    "                 ...\n",
    "         effects/                  Subpaquete para efectos de sonido\n",
    "                 __init__.py\n",
    "                 echo.py\n",
    "                 surround.py\n",
    "                 reverse.py\n",
    "                 ...\n",
    "         filters/                  Subpaquete para filtros\n",
    "                 __init__.py\n",
    "                 equalizer.py\n",
    "                 vocoder.py\n",
    "                 karaoke.py\n",
    "                 ...\n",
    "```\n",
    "\n",
    "Al importar el paquete, Python busca a través de los directorios en\n",
    "``sys.path``, buscando el subdirectorio del paquete.\n",
    "\n",
    "Los archivos `__init__.py` se necesitan para hacer que Python trate\n",
    "los directorios como que contienen paquetes; esto se hace para prevenir\n",
    "directorios con un nombre común, como ``string``, de esconder sin intención\n",
    "a módulos válidos que se suceden luego en el camino de búsqueda de módulos.\n",
    "En el caso más simple, `__init__.py` puede ser solamente un archivo\n",
    "vacío, pero también puede ejecutar código de inicialización para el paquete\n",
    "o configurar la variable ``__all__``, descrita luego.\n",
    "\n",
    "Los usuarios del paquete pueden importar módulos individuales del mismo, por\n",
    "ejemplo:\n",
    "\n",
    "```python\n",
    "   import sound.effects.echo\n",
    "```\n",
    "\n",
    "Esto carga el submódulo `sound.effects.echo`.  Debe hacerse referencia al\n",
    "mismo con el nombre completo. :\n",
    "\n",
    "```python\n",
    "   sound.effects.echo.echofilter(input, output, delay=0.7, atten=4)\n",
    "````\n",
    "\n",
    "Otra alternativa para importar el submódulos es::\n",
    "\n",
    "```python\n",
    "   from sound.effects import echo\n",
    "```\n",
    "\n",
    "Esto también carga el submódulo `echo`, lo deja disponible sin su prefijo\n",
    "de paquete, por lo que puede usarse así:\n",
    "\n",
    "```python\n",
    "   echo.echofilter(input, output, delay=0.7, atten=4)\n",
    "```\n",
    "\n",
    "Otra variación más es importar la función o variable deseadas directamente:\n",
    "\n",
    "```python\n",
    "   from sound.effects.echo import echofilter\n",
    "```\n",
    "\n",
    "De nuevo, esto carga el submódulo `echo`, pero deja directamente\n",
    "disponible a la función `echofilter`:\n",
    "\n",
    "```python\n",
    "   echofilter(input, output, delay=0.7, atten=4)\n",
    "```\n",
    "\n",
    "Notá que al usar `from package import item` el ítem puede ser tanto un\n",
    "submódulo (o subpaquete) del paquete, o algún otro nombre definido en el\n",
    "paquete, como una función, clase, o variable.  La declaración `import`\n",
    "primero verifica si el ítem está definido en el paquete; si no, asume que es un\n",
    "módulo y trata de cargarlo.  Si no lo puede encontrar, se genera una excepción\n",
    "`ImportError`.\n",
    "\n",
    "Por otro lado, cuando se usa la sintaxis como\n",
    "`import item.subitem.subsubitem`, cada ítem excepto el último debe ser un\n",
    "paquete; el mismo puede ser un módulo o un paquete pero no puede ser una clase,\n",
    "función o variable definida en el ítem previo"
   ]
  },
  {
   "cell_type": "markdown",
   "metadata": {},
   "source": [
    "Importando \\* desde un paquete\n",
    "==============================\n",
    "\n",
    "Ahora, ¿qué sucede cuando el usuario escribe\n",
    "`from sound.effects import *`? Idealmente, uno esperaría que esto de\n",
    "alguna manera vaya al sistema de archivos, encuentre cuales submódulos\n",
    "están presentes en el paquete, y los importe a todos. Esto puede tardar\n",
    "mucho y el importar sub-módulos puede tener efectos secundarios no\n",
    "deseados que sólo deberían ocurrir cuando se importe explícitamente el\n",
    "sub-módulo.\n",
    "\n",
    "La única solución es que el autor del paquete provea un índice explícito\n",
    "del paquete. La declaración import usa la siguiente convención: si el\n",
    "código del \\_\\_init\\_\\_.py de un paquete define una lista llamada\n",
    "`__all__`, se toma como la lista de los nombres de módulos que deberían\n",
    "ser importados cuando se hace `from package import *`. Es tarea del\n",
    "autor del paquete mantener actualizada esta lista cuando se libera una\n",
    "nueva versión del paquete. Los autores de paquetes podrían decidir no\n",
    "soportarlo, si no ven un uso para importar \\* en sus paquetes. Por\n",
    "ejemplo, el archivo sound/effects/\\_\\_init\\_\\_.py podría contener el\n",
    "siguiente código:\n",
    "\n",
    "```python\n",
    "    __all__ = [\"echo\", \"surround\", \"reverse\"]\n",
    "```\n",
    "\n",
    "Esto significaría que `from sound.effects import *` importaría esos tres\n",
    "submódulos del paquete sound.\n",
    "\n",
    "Si no se define `__all__`, la declaración `from sound.effects import *`\n",
    "*no* importa todos los submódulos del paquete sound.effects al espacio\n",
    "de nombres actual; sólo se asegura que se haya importado el paquete\n",
    "sound.effects (posiblemente ejecutando algún código de inicialización\n",
    "que haya en \\_\\_init\\_\\_.py) y luego importa aquellos nombres que estén\n",
    "definidos en el paquete. Esto incluye cualquier nombre definido (y\n",
    "submódulos explícitamente cargados) por \\_\\_init\\_\\_.py. También incluye\n",
    "cualquier submódulo del paquete que pudiera haber sido explícitamente\n",
    "cargado por declaraciones import previas. Considerá este código:\n",
    "\n",
    "    import sound.effects.echo\n",
    "    import sound.effects.surround\n",
    "    from sound.effects import *\n",
    "\n",
    "En este ejemplo, los módulos *echo* y *surround* se importan en el\n",
    "espacio de nombre actual porque están definidos en el paquete\n",
    "sound.effects cuando se ejecuta la declaración `from...import`. (Esto\n",
    "también funciona cuando se define `__all__`).\n",
    "\n",
    "A pesar de que ciertos módulos están diseñados para exportar solo\n",
    "nombres que siguen ciertos patrones cuando usás `import *`, también se\n",
    "considera una mala práctica en código de producción.\n",
    "\n",
    "Recordá que no está mal usar `from paquete import submodulo_especifico`!\n",
    "De hecho, esta notación se recomienda a menos que el módulo que estás\n",
    "importando necesite usar submódulos con el mismo nombre desde otros\n",
    "paquetes.\n",
    "\n",
    "Referencias internas en paquetes\n",
    "================================\n",
    "\n",
    "Cuando se estructuran los paquetes en subpaquetes (como en el ejemplo\n",
    "sound), podés usar `import` absolutos para referirte a submódulos de\n",
    "paquetes hermanos. Por ejemplo, si el módulo sound.filters.vocoder\n",
    "necesita usar el módulo echo en el paquete sound.effects, puede hacer\n",
    "`from sound.effects import echo`.\n",
    "\n",
    "También podés escribir `import` relativos con la forma\n",
    "`from module import name`. Estos imports usan puntos adelante para\n",
    "indicar los paquetes actual o padres involucrados en el import relativo.\n",
    "En el ejemplo surround, podrías hacer:\n",
    "\n",
    "    from . import echo\n",
    "    from .. import formats\n",
    "    from ..filters import equalizer\n",
    "\n",
    "Notá que los imports relativos se basan en el nombre del módulo actual.\n",
    "Ya que el nombre del módulo principal es siempre `\"__main__\"`, los\n",
    "módulos pensados para usarse como módulo principal de una aplicación\n",
    "Python siempre deberían usar `import` absolutos.\n",
    "\n",
    "Paquetes en múltiples directorios\n",
    "=================================\n",
    "\n",
    "Los paquetes soportan un atributo especial más, \\_\\_path\\_\\_. Este se\n",
    "inicializa, antes de que el código en ese archivo se ejecute, a una\n",
    "lista que contiene el nombre del directorio donde está el paquete. Esta\n",
    "variable puede modificarse, afectando búsquedas futuras de módulos y\n",
    "subpaquetes contenidos en el paquete.\n",
    "\n",
    "Aunque esta característica no se necesita frecuentemente, puede usarse\n",
    "para extender el conjunto de módulos que se encuentran en el paquete.\n",
    "\n"
   ]
  }
 ],
 "metadata": {
  "anaconda-cloud": {},
  "kernelspec": {
   "display_name": "Python 3",
   "language": "python",
   "name": "python3"
  },
  "language_info": {
   "codemirror_mode": {
    "name": "ipython",
    "version": 3
   },
   "file_extension": ".py",
   "mimetype": "text/x-python",
   "name": "python",
   "nbconvert_exporter": "python",
   "pygments_lexer": "ipython3",
   "version": "3.6.2"
  }
 },
 "nbformat": 4,
 "nbformat_minor": 1
}
