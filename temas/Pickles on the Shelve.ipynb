{
 "cells": [
  {
   "cell_type": "markdown",
   "metadata": {},
   "source": [
    "# Serialización con Pickle y Shelve"
   ]
  },
  {
   "cell_type": "markdown",
   "metadata": {},
   "source": [
    "Qué es serializar? Convertir un objeto de Python en una secuencia de bits \"transmisible\".\n",
    "\n",
    "Python incluye en la librería estándar dos módulos que nos ayudan con la tarea de serializar/deserializar un objeto, `pickle` y `shelve`."
   ]
  },
  {
   "cell_type": "markdown",
   "metadata": {},
   "source": [
    "## Pickle"
   ]
  },
  {
   "cell_type": "markdown",
   "metadata": {},
   "source": [
    "![Pickle](../imagenes/pickle.png)"
   ]
  },
  {
   "cell_type": "markdown",
   "metadata": {},
   "source": [
    "Con `pickle` podemos convertir cualquier objeto simple en una serie de bytes. Todo es tan simple como"
   ]
  },
  {
   "cell_type": "code",
   "execution_count": 2,
   "metadata": {},
   "outputs": [
    {
     "name": "stdout",
     "output_type": "stream",
     "text": [
      "DATA: [{'a': 'A', 'b': 2, 'c': 3.0}]\n",
      "PICKLE: b'\\x80\\x03]q\\x00}q\\x01(X\\x01\\x00\\x00\\x00aq\\x02X\\x01\\x00\\x00\\x00Aq\\x03X\\x01\\x00\\x00\\x00bq\\x04K\\x02X\\x01\\x00\\x00\\x00cq\\x05G@\\x08\\x00\\x00\\x00\\x00\\x00\\x00ua.'\n"
     ]
    }
   ],
   "source": [
    "import pickle \n",
    "\n",
    "import pprint # esto es para que se vea bonito por pantalla\n",
    "\n",
    "data = [{'a': 'A', 'b': 2, 'c': 3.0}]\n",
    "print('DATA:', end=' ')\n",
    "pprint.pprint(data)\n",
    "\n",
    "# Esto es lo importante!\n",
    "data_string = pickle.dumps(data)\n",
    "# Así quedan los datos después de picklearlos\n",
    "print('PICKLE: {!r}'.format(data_string))"
   ]
  },
  {
   "cell_type": "markdown",
   "metadata": {},
   "source": [
    "El string de bytes que obtuvimos previamente se puede luego enviar por la red, guardar en un archivo, etc. De esta manera podemos *persistir* un objeto más allá de una sesión de trabajo o la corrida de un programa."
   ]
  },
  {
   "cell_type": "markdown",
   "metadata": {},
   "source": [
    "Para hacer el proceso opuesto, es decir, recuperar los datos de un pickle, hacemos lo siguiente"
   ]
  },
  {
   "cell_type": "code",
   "execution_count": 4,
   "metadata": {},
   "outputs": [
    {
     "name": "stdout",
     "output_type": "stream",
     "text": [
      "RECUPERADO :  [{'a': 'A', 'b': 2, 'c': 3.0}]\n",
      "LO MISMO? : False\n",
      "IGUAL?: True\n"
     ]
    }
   ],
   "source": [
    "data2 = pickle.loads(data_string)\n",
    "print('RECUPERADO : ', end=' ')\n",
    "pprint.pprint(data2)\n",
    "\n",
    "print('LO MISMO? :', (data is data2))\n",
    "print('IGUAL?:', (data == data2))"
   ]
  },
  {
   "cell_type": "markdown",
   "metadata": {},
   "source": [
    "Fíjense que dice que es igual pero que no es lo mismo. Es decir, si bien los valores son idénticos, los espacios en memoria que ocupan `data` y `data2` son diferentes (esto es, son objetos distintos)."
   ]
  },
  {
   "cell_type": "markdown",
   "metadata": {},
   "source": [
    "Podemos guardar varios pickles en un archivo, pero debemos recordar el orden en el que los guardamos para recuperarlos."
   ]
  },
  {
   "cell_type": "code",
   "execution_count": 23,
   "metadata": {},
   "outputs": [
    {
     "name": "stdout",
     "output_type": "stream",
     "text": [
      "hola\n",
      "que\n",
      "tal\n"
     ]
    }
   ],
   "source": [
    "with open('pickles', 'wb') as pks:\n",
    "    pickle.dump('hola', pks)\n",
    "    pickle.dump('que', pks)\n",
    "    pickle.dump('tal', pks)\n",
    "\n",
    "with open('pickles', 'rb') as pks:    \n",
    "    data = pickle.load(pks)\n",
    "    print(data)\n",
    "    data = pickle.load(pks)\n",
    "    print(data)\n",
    "    data = pickle.load(pks)\n",
    "    print(data)\n",
    "\n"
   ]
  },
  {
   "cell_type": "markdown",
   "metadata": {},
   "source": [
    "Para solucionar el problema de `pickle` con varios archivos, es que existe `shelve`. Básicamente imaginen que es un `dict` de pickles. "
   ]
  },
  {
   "cell_type": "code",
   "execution_count": 7,
   "metadata": {},
   "outputs": [
    {
     "name": "stdout",
     "output_type": "stream",
     "text": [
      "albatross\n"
     ]
    }
   ],
   "source": [
    "import shelve\n",
    "\n",
    "with shelve.open('spam') as db:\n",
    "    db['eggs'] = 'eggs'\n",
    "    db['bird'] = 'albatross'\n",
    "    db['2'] = 4\n",
    "\n",
    "ave = None\n",
    "with shelve.open('spam') as db:\n",
    "    ave = db['bird']\n",
    "    \n",
    "print(ave)"
   ]
  },
  {
   "cell_type": "markdown",
   "metadata": {},
   "source": [
    "Una última aclaración. Tanto `pickle` como `shelve` no realizan ninguna clase de control sobre lo que deserializan. El contenido de lo serializado es ejecutado, por lo que si alguien malintencionado agrega código a los pickles o shelves, el intérprete ejecutará ese código. Por eso se utilizan otros formatos más seguros para serialización como `json`."
   ]
  }
 ],
 "metadata": {
  "kernelspec": {
   "display_name": "Python 3",
   "language": "python",
   "name": "python3"
  },
  "language_info": {
   "codemirror_mode": {
    "name": "ipython",
    "version": 3
   },
   "file_extension": ".py",
   "mimetype": "text/x-python",
   "name": "python",
   "nbconvert_exporter": "python",
   "pygments_lexer": "ipython3",
   "version": "3.6.2"
  }
 },
 "nbformat": 4,
 "nbformat_minor": 2
}
