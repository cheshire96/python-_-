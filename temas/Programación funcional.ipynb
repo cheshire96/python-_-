{
 "cells": [
  {
   "cell_type": "markdown",
   "metadata": {},
   "source": [
    "# Programación Funcional en Python"
   ]
  },
  {
   "cell_type": "markdown",
   "metadata": {},
   "source": [
    "La programación funcional (PF) es la descripción de nuestra solución o algoritmo en términos de relaciones entre funciones.\n",
    "Si bien Python no es un lenguaje de PF, adopta algunas características de los mismos debido a que la PF permite:\n",
    "* Pensar la solución como transformaciones sucesivas de los datos, lo que simplifica el diseño\n",
    "* Mejora el diseño, ya que hay una descomposición clara del problema, y cada parte se encuentra encapsulada.\n",
    "* Mejora la legibilidad (a la larga) ya que los algoritmos \"revelan la intención\"\n",
    "* Facilita el testing ya que los trozos de código a testear son más simples\n",
    "\n",
    "Es por eso que es sano tratar de aplicar (con el debido criterio) características de programación funcional en nuestro código."
   ]
  },
  {
   "cell_type": "code",
   "execution_count": 11,
   "metadata": {},
   "outputs": [
    {
     "name": "stdout",
     "output_type": "stream",
     "text": [
      "chau Carlos\n",
      "hola Ana\n",
      "<function despedir at 0x7f8dc078e510>\n"
     ]
    }
   ],
   "source": [
    "#como parámetro\n",
    "def decirle_a(persona, accion):\n",
    "    print(accion(persona)) \n",
    "    \n",
    "def saludar(persona):\n",
    "    return 'hola ' + persona\n",
    "\n",
    "def despedir(persona):\n",
    "    return 'chau ' + persona\n",
    "\n",
    "decirle_a('Carlos', despedir)\n",
    "decirle_a('Ana', saludar)\n",
    "\n",
    "print(despedir) "
   ]
  },
  {
   "cell_type": "markdown",
   "metadata": {},
   "source": [
    "## Listas y diccionarios por comprensión"
   ]
  },
  {
   "cell_type": "markdown",
   "metadata": {},
   "source": [
    "Vamos a comenzar por algo simple.\n",
    "Les parece familiar el siguiente patrón?\n",
    "```python\n",
    "lst = []\n",
    "for x in iterable:\n",
    "    lst.append(hacer_algo(x))    \n",
    "```\n",
    "\n",
    "Y éste?\n",
    "```python\n",
    "lst = []\n",
    "for x in iterable:\n",
    "    if es_de_alguna_manera(x):\n",
    "        lst.append(x)    \n",
    "```\n",
    "Seguramente los vieron ya en alguna variante. Para esos casos, que son muy comunes, Python provee las listas y diccionarios por comprensión, que son una manera *pythonica* de escribir lo mismo, pero que se entienda mejor.\n",
    "Por ejemplo, los fragmentos de código que vieron arriba se pueden escribir como\n",
    "```python\n",
    "lst = [hacer_algo(x) for x in iterable]\n",
    "lst = [x for x in iterable if es_de_alguna_manera(x)]\n",
    "```\n",
    "También se puede aplicar a diccionarios!\n",
    "\n",
    "```python\n",
    "d = {k:v for k, v in enum(iterable)}\n",
    "```"
   ]
  },
  {
   "cell_type": "markdown",
   "metadata": {},
   "source": [
    "## Funciones de Orden Superior"
   ]
  },
  {
   "cell_type": "markdown",
   "metadata": {},
   "source": [
    "Un concepto clave para entender PF es que las *funciones también son datos*, es decir, se pueden pasar como parámetro, devolver como resultado, asignar a un identificador, etc. Si una función recibe a otra como parámetro, o devuelve una función como resultado, decimos que esa función es de *orden superior*. Si bien el nombre asusta un poco, es posible que usemos varias funciones de ese estilo cuando trabajemos con Python"
   ]
  },
  {
   "cell_type": "markdown",
   "metadata": {},
   "source": [
    "### Decoradores"
   ]
  },
  {
   "cell_type": "markdown",
   "metadata": {},
   "source": [
    "Los decoradores son funciones que *envuelven* a otras funciones, agregándoles funcionalidad extra. De esta manera podemos aumentar las capacidades del código que tenemos sin necesidad de modificarlo.\n",
    "\n",
    "La forma básica de un decorador es\n",
    "\n",
    "```python\n",
    "def decorador(funcion):\n",
    "    def envolvedor(argumentos):\n",
    "        #Hacer algo con funcion(argumentos)\n",
    "    return envolvedor\n",
    "```\n",
    "\n",
    "Por ejemplo, imagínense el caso en el que estamos debugguendo código, y queremos ver en pantalla, cuándo entramos a una función y con qué parámetros."
   ]
  },
  {
   "cell_type": "code",
   "execution_count": 25,
   "metadata": {},
   "outputs": [
    {
     "name": "stdout",
     "output_type": "stream",
     "text": [
      "Ejecutando función ident con argumentos ('hola',) y {}\n",
      "imprimiendo hola en pantalla\n",
      "Ejecutando función devuelve_42 con argumentos () y {}\n",
      "imprimiendo 42 en pantalla\n"
     ]
    }
   ],
   "source": [
    "def logging_decorator(output_stream):\n",
    "    \"Decorador configurable para hacer logging\"\n",
    "    def decorator(f):\n",
    "        \"Devuelve función decorada\"\n",
    "        def wrapper(*args, **kwargs):\n",
    "            \"Función contenedora\"\n",
    "            print(\"Ejecutando función {} con argumentos {} y {}\".format(f.__name__, args, kwargs))\n",
    "            resultado = f(*args, **kwargs)\n",
    "            print(\"imprimiendo %s en %s\" %(resultado, output_stream))\n",
    "            \n",
    "        return wrapper\n",
    "    \n",
    "    return decorator\n",
    "\n",
    "@logging_decorator(\"pantalla\")\n",
    "def ident(x):\n",
    "    return x\n",
    "\n",
    "@logging_decorator(\"pantalla\")\n",
    "def devuelve_42():\n",
    "    return 42\n",
    "\n",
    "ident(\"hola\")\n",
    "devuelve_42()\n",
    "\n"
   ]
  },
  {
   "cell_type": "markdown",
   "metadata": {},
   "source": [
    "No es necesario programar nuestros decoradores. Usualmente usaremos los que vengan provistos en los módulos y paquetes que usemos. Sin embargo, está bueno saber cómo funcionan las cosas que usamos, no?\n",
    "\n",
    "A continuación veremos más ejemplo del uso de decoradores."
   ]
  },
  {
   "cell_type": "markdown",
   "metadata": {},
   "source": [
    "### Módulos `itertools` y `functools` y `operator`"
   ]
  },
  {
   "cell_type": "markdown",
   "metadata": {},
   "source": [
    "El módulo `itertools` provee facilidades para trabajar con secuencias de datos potencialmente infinitas.\n",
    "El módulo `functools` provee herramientas para trabajar sobre funciones.\n",
    "En `operator` encontramos una interface para trabajar con los operadores *built-in*, es decir, con los que nos da el lenguaje."
   ]
  },
  {
   "cell_type": "markdown",
   "metadata": {},
   "source": [
    "En el siguiente ejemplo vemos el uso de `functools.partial`, el cual nos sirve para evaluar parcialmente cualquier función, es decir, poder \"presetear\" algunos de los parámetros de la función."
   ]
  },
  {
   "cell_type": "code",
   "execution_count": 13,
   "metadata": {},
   "outputs": [
    {
     "name": "stdout",
     "output_type": "stream",
     "text": [
      "myfunc:\n",
      "  object: <function myfunc at 0x7f8dc078e950>\n",
      "  __name__: myfunc\n",
      "  called myfunc with: ('a', 3)\n",
      "\n",
      "partial with named default:\n",
      "  object: functools.partial(<function myfunc at 0x7f8dc078e950>, b=4)\n",
      "  func: <function myfunc at 0x7f8dc078e950>\n",
      "  args: ()\n",
      "  keywords: {'b': 4}\n",
      "  called myfunc with: ('passing a', 4)\n",
      "  called myfunc with: ('override b', 5)\n",
      "\n",
      "partial with defaults:\n",
      "  object: functools.partial(<function myfunc at 0x7f8dc078e950>, 'default a', b=99)\n",
      "  func: <function myfunc at 0x7f8dc078e950>\n",
      "  args: ('default a',)\n",
      "  keywords: {'b': 99}\n",
      "  called myfunc with: ('default a', 99)\n",
      "  called myfunc with: ('default a', 'override b')\n",
      "\n",
      "Insufficient arguments:\n"
     ]
    },
    {
     "ename": "TypeError",
     "evalue": "myfunc() missing 1 required positional argument: 'a'",
     "output_type": "error",
     "traceback": [
      "\u001b[0;31m---------------------------------------------------------------------------\u001b[0m",
      "\u001b[0;31mTypeError\u001b[0m                                 Traceback (most recent call last)",
      "\u001b[0;32m<ipython-input-13-9babc5ec39ba>\u001b[0m in \u001b[0;36m<module>\u001b[0;34m()\u001b[0m\n\u001b[1;32m     40\u001b[0m \u001b[0;34m\u001b[0m\u001b[0m\n\u001b[1;32m     41\u001b[0m \u001b[0mprint\u001b[0m\u001b[0;34m(\u001b[0m\u001b[0;34m'Insufficient arguments:'\u001b[0m\u001b[0;34m)\u001b[0m\u001b[0;34m\u001b[0m\u001b[0m\n\u001b[0;32m---> 42\u001b[0;31m \u001b[0mp1\u001b[0m\u001b[0;34m(\u001b[0m\u001b[0;34m)\u001b[0m\u001b[0;34m\u001b[0m\u001b[0m\n\u001b[0m",
      "\u001b[0;31mTypeError\u001b[0m: myfunc() missing 1 required positional argument: 'a'"
     ]
    }
   ],
   "source": [
    "import functools\n",
    "\n",
    "\n",
    "def myfunc(a, b=2):\n",
    "    \"Docstring for myfunc().\"\n",
    "    print('  called myfunc with:', (a, b))\n",
    "\n",
    "\n",
    "def show_details(name, f, is_partial=False):\n",
    "    \"Show details of a callable object.\"\n",
    "    print('{}:'.format(name))\n",
    "    print('  object:', f)\n",
    "    if not is_partial:\n",
    "        print('  __name__:', f.__name__)\n",
    "    if is_partial:\n",
    "        print('  func:', f.func)\n",
    "        print('  args:', f.args)\n",
    "        print('  keywords:', f.keywords)\n",
    "    return\n",
    "\n",
    "\n",
    "show_details('myfunc', myfunc)\n",
    "myfunc('a', 3)\n",
    "print()\n",
    "\n",
    "# Set a different default value for 'b', but require\n",
    "# the caller to provide 'a'.\n",
    "p1 = functools.partial(myfunc, b=4)\n",
    "show_details('partial with named default', p1, True)\n",
    "p1('passing a')\n",
    "p1('override b', b=5)\n",
    "print()\n",
    "\n",
    "# Set default values for both 'a' and 'b'.\n",
    "p2 = functools.partial(myfunc, 'default a', b=99)\n",
    "show_details('partial with defaults', p2, True)\n",
    "p2()\n",
    "p2(b='override b')\n",
    "print()\n",
    "\n",
    "print('Insufficient arguments:')\n",
    "p1()\n"
   ]
  },
  {
   "cell_type": "markdown",
   "metadata": {},
   "source": [
    "Otra función que nos provee `functools` es la de facilitarnos la posibilidad de definir orden entre nuestros propios tipos de datos mediante el decorador `fuctools.total_ordering`."
   ]
  },
  {
   "cell_type": "code",
   "execution_count": 15,
   "metadata": {},
   "outputs": [
    {
     "name": "stdout",
     "output_type": "stream",
     "text": [
      "Methods:\n",
      "\n",
      "[('__eq__', <function MyObject.__eq__ at 0x7f8dc07f5f28>),\n",
      " ('__ge__', <function _ge_from_gt at 0x7f8dccb45d90>),\n",
      " ('__gt__', <function MyObject.__gt__ at 0x7f8dc07f5ea0>),\n",
      " ('__init__', <function MyObject.__init__ at 0x7f8dc07f5d08>),\n",
      " ('__le__', <function _le_from_gt at 0x7f8dccb45e18>),\n",
      " ('__lt__', <function _lt_from_gt at 0x7f8dccb45d08>)]\n",
      "\n",
      "Comparisons:\n",
      "\n",
      "a < b :\n",
      "  testing __gt__(1, 2)\n",
      "  testing __eq__(1, 2)\n",
      "  result of a < b: True\n",
      "\n",
      "a <= b:\n",
      "  testing __gt__(1, 2)\n",
      "  result of a <= b: True\n",
      "\n",
      "a == b:\n",
      "  testing __eq__(1, 2)\n",
      "  result of a == b: False\n",
      "\n",
      "a >= b:\n",
      "  testing __gt__(1, 2)\n",
      "  testing __eq__(1, 2)\n",
      "  result of a >= b: False\n",
      "\n",
      "a > b :\n",
      "  testing __gt__(1, 2)\n",
      "  result of a > b: False\n"
     ]
    }
   ],
   "source": [
    "import functools\n",
    "import inspect\n",
    "from pprint import pprint\n",
    "\n",
    "\n",
    "@functools.total_ordering\n",
    "class MyObject:\n",
    "\n",
    "    def __init__(self, val):\n",
    "        self.val = val\n",
    "\n",
    "    def __eq__(self, other):\n",
    "        print('  testing __eq__({}, {})'.format(\n",
    "            self.val, other.val))\n",
    "        return self.val == other.val\n",
    "\n",
    "    def __gt__(self, other):\n",
    "        print('  testing __gt__({}, {})'.format(\n",
    "            self.val, other.val))\n",
    "        return self.val > other.val\n",
    "\n",
    "\n",
    "print('Methods:\\n')\n",
    "pprint(inspect.getmembers(MyObject, inspect.isfunction))\n",
    "\n",
    "a = MyObject(1)\n",
    "b = MyObject(2)\n",
    "\n",
    "print('\\nComparisons:')\n",
    "for expr in ['a < b', 'a <= b', 'a == b', 'a >= b', 'a > b']:\n",
    "    print('\\n{:<6}:'.format(expr))\n",
    "    result = eval(expr)\n",
    "    print('  result of {}: {}'.format(expr, result))"
   ]
  },
  {
   "cell_type": "markdown",
   "metadata": {},
   "source": [
    "Para terminar de hablar de functools, mencionaremos el decorador `single_dispatch` que viene genial para cuando el comportamiento de nuestra función depende del tipo del parámetro."
   ]
  },
  {
   "cell_type": "code",
   "execution_count": 16,
   "metadata": {},
   "outputs": [
    {
     "name": "stdout",
     "output_type": "stream",
     "text": [
      "default myfunc('string argument')\n",
      "myfunc_int(1)\n",
      "default myfunc(2.3)\n",
      "myfunc_list()\n",
      "  a\n",
      "  b\n",
      "  c\n"
     ]
    }
   ],
   "source": [
    "import functools\n",
    "\n",
    "\n",
    "@functools.singledispatch\n",
    "def myfunc(arg):\n",
    "    print('default myfunc({!r})'.format(arg))\n",
    "\n",
    "\n",
    "@myfunc.register(int)\n",
    "def myfunc_int(arg):\n",
    "    print('myfunc_int({})'.format(arg))\n",
    "\n",
    "\n",
    "@myfunc.register(list)\n",
    "def myfunc_list(arg):\n",
    "    print('myfunc_list()')\n",
    "    for item in arg:\n",
    "        print('  {}'.format(item))\n",
    "\n",
    "\n",
    "myfunc('string argument')\n",
    "myfunc(1)\n",
    "myfunc(2.3)\n",
    "myfunc(['a', 'b', 'c'])\n"
   ]
  },
  {
   "cell_type": "markdown",
   "metadata": {},
   "source": [
    "El módulo `itertools` nos brinda muchas herramientas para trabajar de manera eficiente con secuencias de datos. El módulo es extenso y tiene muchas aplicaciones. Veremos algunas de ellas, pero consulten la documentación del módulo para ver otras."
   ]
  },
  {
   "cell_type": "code",
   "execution_count": 26,
   "metadata": {},
   "outputs": [
    {
     "name": "stdout",
     "output_type": "stream",
     "text": [
      "Data:\n",
      "[(0, 0),\n",
      " (1, 1),\n",
      " (2, 2),\n",
      " (0, 3),\n",
      " (1, 4),\n",
      " (2, 5),\n",
      " (0, 6)]\n",
      "\n",
      "Grouped, unsorted:\n",
      "0 [(0, 0)]\n",
      "1 [(1, 1)]\n",
      "2 [(2, 2)]\n",
      "0 [(0, 3)]\n",
      "1 [(1, 4)]\n",
      "2 [(2, 5)]\n",
      "0 [(0, 6)]\n",
      "\n",
      "Sorted:\n",
      "[(0, 0),\n",
      " (0, 3),\n",
      " (0, 6),\n",
      " (1, 1),\n",
      " (1, 4),\n",
      " (2, 2),\n",
      " (2, 5)]\n",
      "\n",
      "Grouped, sorted:\n",
      "0 [(0, 0), (0, 3), (0, 6)]\n",
      "1 [(1, 1), (1, 4)]\n",
      "2 [(2, 2), (2, 5)]\n",
      "\n"
     ]
    }
   ],
   "source": [
    "import functools\n",
    "from itertools import *\n",
    "import operator\n",
    "import pprint\n",
    "\n",
    "\n",
    "@functools.total_ordering\n",
    "class Point:\n",
    "\n",
    "    def __init__(self, x, y):\n",
    "        self.x = x\n",
    "        self.y = y\n",
    "\n",
    "    def __repr__(self):\n",
    "        return '({}, {})'.format(self.x, self.y)\n",
    "\n",
    "    def __eq__(self, other):\n",
    "        return (self.x, self.y) == (other.x, other.y)\n",
    "\n",
    "    def __gt__(self, other):\n",
    "        return (self.x, self.y) > (other.x, other.y)\n",
    "\n",
    "\n",
    "# Create a dataset of Point instances\n",
    "data = list(map(Point,\n",
    "                cycle(islice(count(), 3)),\n",
    "                islice(count(), 7)))\n",
    "print('Data:')\n",
    "pprint.pprint(data, width=35)\n",
    "print()\n",
    "\n",
    "# Try to group the unsorted data based on X values\n",
    "print('Grouped, unsorted:')\n",
    "for k, g in groupby(data, operator.attrgetter('x')):\n",
    "    print(k, list(g))\n",
    "print()\n",
    "\n",
    "# Sort the data\n",
    "data.sort()\n",
    "print('Sorted:')\n",
    "pprint.pprint(data, width=35)\n",
    "print()\n",
    "\n",
    "# Group the sorted data based on X values\n",
    "print('Grouped, sorted:')\n",
    "for k, g in groupby(data, operator.attrgetter('x')):\n",
    "    print(k, list(g))\n",
    "print()"
   ]
  },
  {
   "cell_type": "markdown",
   "metadata": {},
   "source": [
    "El módulo `operator` nos permite utilizar a los operadores built-in de Python para adaptarlos a nuestros propósitos."
   ]
  },
  {
   "cell_type": "markdown",
   "metadata": {},
   "source": [
    "### Generadores y Evaluación Perezosa"
   ]
  },
  {
   "cell_type": "markdown",
   "metadata": {},
   "source": [
    "Usualmente Python trata de evaluar el resultado de algo inmediatamente. Para algunos casos, esto no está bueno. Por ejemplo, trabajar con listas *potencialmente* infinitas. En estos casos, lo mejor es que no se evalúe nada hasta que no sea necesario. Es decir, saber tanto de algo como necesitemos, pero no más. A ésto se lo llama **Evaluación Perezosa** (\"Lazy Evaluation\"). Python no soporta este modo de evaluación, pero se puede emular con una herramienta muy copada que son los **generadores**.\n",
    "Un generador es un objeto iterable que una vez instanciado *calcula* su siguiente elemento en cada llamada `next()`, en vez de tenerlo almacenado en memoria como otras estructuras de datos. La palabra clave que distingue a un generador es `yield` que es un return que espera una próxima llamada para continuar desde donde quedó la última vez."
   ]
  },
  {
   "cell_type": "code",
   "execution_count": 7,
   "metadata": {},
   "outputs": [
    {
     "name": "stdout",
     "output_type": "stream",
     "text": [
      "1\n",
      "2\n",
      "3\n"
     ]
    }
   ],
   "source": [
    "#cuenta \n",
    "def contador():\n",
    "    x = 1\n",
    "    while True:\n",
    "        yield x\n",
    "        x += 1\n",
    "c = contador()\n",
    "print(next(c))\n",
    "print(next(c))\n",
    "print(next(c))"
   ]
  },
  {
   "cell_type": "markdown",
   "metadata": {},
   "source": [
    "Otra cosa piola de Python es que existen las **generator expressions** que se parecen a las listas por comprensión, pero devuelven un generador."
   ]
  },
  {
   "cell_type": "code",
   "execution_count": 9,
   "metadata": {},
   "outputs": [
    {
     "name": "stdout",
     "output_type": "stream",
     "text": [
      "0\n",
      "1\n"
     ]
    }
   ],
   "source": [
    "c = (i for i in range(10))\n",
    "c\n",
    "print(next(c))\n",
    "print(next(c))"
   ]
  },
  {
   "cell_type": "markdown",
   "metadata": {},
   "source": [
    "## ¿Dónde puedo aprender más?"
   ]
  },
  {
   "cell_type": "markdown",
   "metadata": {},
   "source": [
    "\n",
    "- Documentación oficial\n",
    "    + Functional Programming Howto\n",
    "    + módulos itertools y functools\n",
    "- Python Module of the Week\n",
    "    + módulos itertools, operator y functools\n",
    "- \"Functional Programming in Python\", de David Mertz, ed O'Reilly\n",
    "- Paquetes como OSlash, PyMonad, etc.\n",
    "- Internet\n"
   ]
  }
 ],
 "metadata": {
  "kernelspec": {
   "display_name": "Python 3",
   "language": "python",
   "name": "python3"
  },
  "language_info": {
   "codemirror_mode": {
    "name": "ipython",
    "version": 3
   },
   "file_extension": ".py",
   "mimetype": "text/x-python",
   "name": "python",
   "nbconvert_exporter": "python",
   "pygments_lexer": "ipython3",
   "version": "3.6.2"
  }
 },
 "nbformat": 4,
 "nbformat_minor": 2
}
