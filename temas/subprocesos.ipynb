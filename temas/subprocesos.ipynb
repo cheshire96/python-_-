{
 "cells": [
  {
   "cell_type": "markdown",
   "metadata": {},
   "source": [
    "# Interacción con otros programas"
   ]
  },
  {
   "cell_type": "markdown",
   "metadata": {},
   "source": [
    "## La API de más bajo nivel"
   ]
  },
  {
   "cell_type": "code",
   "execution_count": 1,
   "metadata": {
    "collapsed": true
   },
   "outputs": [],
   "source": [
    "from subprocess import call, check_output, Popen\n",
    "import os"
   ]
  },
  {
   "cell_type": "code",
   "execution_count": 2,
   "metadata": {},
   "outputs": [
    {
     "name": "stdout",
     "output_type": "stream",
     "text": [
      "b'Beat Frequencies.ipynb\\nController.ipynb\\nExploring Graphs.ipynb\\nExport As (nbconvert).ipynb\\nFactoring.ipynb\\nFile Upload Widget.ipynb\\nImage Browser.ipynb\\nImage Processing.ipynb\\nIndex.ipynb\\nLorenz Differential Equations.ipynb\\nUntitled.ipynb\\nUsing Interact.ipynb\\nVariable Inspector.ipynb\\nWidget Alignment.ipynb\\nWidget Basics.ipynb\\nWidget Custom.ipynb\\nWidget Events.ipynb\\nWidget List.ipynb\\nWidget Low Level.ipynb\\nWidget Styling.ipynb\\ncomunidad_recursos.ipynb\\nimages\\nsubprocesos.ipynb\\n'\n"
     ]
    }
   ],
   "source": [
    "print(check_output('ls'))"
   ]
  },
  {
   "cell_type": "markdown",
   "metadata": {},
   "source": [
    "## Asesinando el kernel usando kill"
   ]
  },
  {
   "cell_type": "code",
   "execution_count": 3,
   "metadata": {},
   "outputs": [],
   "source": [
    "# en Unix\n",
    "# proceso = Popen(['kill', '-9', str(os.getpid())])\n"
   ]
  },
  {
   "cell_type": "markdown",
   "metadata": {},
   "source": [
    "# Desde IPython o Jupyter"
   ]
  },
  {
   "cell_type": "code",
   "execution_count": 4,
   "metadata": {},
   "outputs": [
    {
     "name": "stdout",
     "output_type": "stream",
     "text": [
      "Beat Frequencies.ipynb              Variable Inspector.ipynb\r\n",
      "Controller.ipynb                    Widget Alignment.ipynb\r\n",
      "Exploring Graphs.ipynb              Widget Basics.ipynb\r\n",
      "Export As (nbconvert).ipynb         Widget Custom.ipynb\r\n",
      "Factoring.ipynb                     Widget Events.ipynb\r\n",
      "File Upload Widget.ipynb            Widget List.ipynb\r\n",
      "Image Browser.ipynb                 Widget Low Level.ipynb\r\n",
      "Image Processing.ipynb              Widget Styling.ipynb\r\n",
      "Index.ipynb                         comunidad_recursos.ipynb\r\n",
      "Lorenz Differential Equations.ipynb \u001b[1m\u001b[36mimages\u001b[m\u001b[m\r\n",
      "Untitled.ipynb                      subprocesos.ipynb\r\n",
      "Using Interact.ipynb\r\n"
     ]
    }
   ],
   "source": [
    "!ls"
   ]
  },
  {
   "cell_type": "code",
   "execution_count": 5,
   "metadata": {
    "collapsed": true
   },
   "outputs": [],
   "source": [
    "salida = !ls"
   ]
  },
  {
   "cell_type": "code",
   "execution_count": 6,
   "metadata": {},
   "outputs": [
    {
     "name": "stdout",
     "output_type": "stream",
     "text": [
      "['Beat Frequencies.ipynb', 'Controller.ipynb', 'Exploring Graphs.ipynb', 'Export As (nbconvert).ipynb', 'Factoring.ipynb', 'File Upload Widget.ipynb', 'Image Browser.ipynb', 'Image Processing.ipynb', 'Index.ipynb', 'Lorenz Differential Equations.ipynb', 'Untitled.ipynb', 'Using Interact.ipynb', 'Variable Inspector.ipynb', 'Widget Alignment.ipynb', 'Widget Basics.ipynb', 'Widget Custom.ipynb', 'Widget Events.ipynb', 'Widget List.ipynb', 'Widget Low Level.ipynb', 'Widget Styling.ipynb', 'comunidad_recursos.ipynb', 'images', 'subprocesos.ipynb']\n"
     ]
    }
   ],
   "source": [
    "print(salida)"
   ]
  },
  {
   "cell_type": "code",
   "execution_count": 8,
   "metadata": {},
   "outputs": [
    {
     "data": {
      "text/plain": [
       "['Beat Frequencies.ipynb',\n",
       " 'Controller.ipynb',\n",
       " 'Exploring Graphs.ipynb',\n",
       " 'Export As (nbconvert).ipynb',\n",
       " 'Factoring.ipynb',\n",
       " 'File Upload Widget.ipynb',\n",
       " 'Image Browser.ipynb',\n",
       " 'Image Processing.ipynb',\n",
       " 'Index.ipynb',\n",
       " 'Lorenz Differential Equations.ipynb',\n",
       " 'Untitled.ipynb',\n",
       " 'Using Interact.ipynb',\n",
       " 'Variable Inspector.ipynb',\n",
       " 'Widget Alignment.ipynb',\n",
       " 'Widget Basics.ipynb',\n",
       " 'Widget Custom.ipynb',\n",
       " 'Widget Events.ipynb',\n",
       " 'Widget List.ipynb',\n",
       " 'Widget Low Level.ipynb',\n",
       " 'Widget Styling.ipynb',\n",
       " 'comunidad_recursos.ipynb',\n",
       " 'subprocesos.ipynb']"
      ]
     },
     "execution_count": 8,
     "metadata": {},
     "output_type": "execute_result"
    }
   ],
   "source": [
    "salida.grep('.ipynb').sort()"
   ]
  },
  {
   "cell_type": "markdown",
   "metadata": {},
   "source": [
    "## Haciendo Pings"
   ]
  },
  {
   "cell_type": "code",
   "execution_count": null,
   "metadata": {},
   "outputs": [],
   "source": [
    "for i in range(100, 102):\n",
    "    ip = '192.168.0.{}'.format(i)\n",
    "    !ping -c 1 $ip"
   ]
  }
 ],
 "metadata": {
  "anaconda-cloud": {},
  "kernelspec": {
   "display_name": "Python 3",
   "language": "python",
   "name": "python3"
  },
  "language_info": {
   "codemirror_mode": {
    "name": "ipython",
    "version": 3
   },
   "file_extension": ".py",
   "mimetype": "text/x-python",
   "name": "python",
   "nbconvert_exporter": "python",
   "pygments_lexer": "ipython3",
   "version": "3.6.2"
  }
 },
 "nbformat": 4,
 "nbformat_minor": 1
}
