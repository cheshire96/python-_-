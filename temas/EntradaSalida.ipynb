{
 "cells": [
  {
   "cell_type": "markdown",
   "metadata": {},
   "source": [
    "# Entrada y salida\n",
    "\n",
    "Hay diferentes métodos de presentar la salida de un programa; los datos pueden ser impresos de una forma legible por humanos, o escritos a un archivo para uso futuro"
   ]
  },
  {
   "cell_type": "markdown",
   "metadata": {},
   "source": [
    "# Formateo elegante de la salida"
   ]
  },
  {
   "cell_type": "markdown",
   "metadata": {},
   "source": [
    "Hasta ahora encontramos dos maneras de escribir valores: declaraciones de expresiones y la función **print()**. (Una tercer manera es usando el método **write()** de los objetos tipo archivo; el archivo de salida estándar puede referenciarse como **sys.stdout**.)\n",
    "\n",
    "Frecuentemente se desea más control sobre el formateo de la salida que simplemente imprimir valores separados por espacios. Hay dos maneras de formatear la salida \n",
    "\n",
    "* La primera es hacer todo el manejo de las cadenas uno mismo: usando rebanado de cadenas y operaciones de concatenado.\n",
    "* La otra forma es usar el método **str.format()**.\n",
    "\n",
    "(El módulo string contiene una clase **string.Template** que ofrece otra forma de sustituir valores en las cadenas)\n",
    "\n",
    "Luego lo que se debe formatear, ¿cómo convertir valores a cadenas? Python tiene maneras de convertir cualquier valor a una cadena usando las funciones **repr()** o **str()**"
   ]
  },
  {
   "cell_type": "code",
   "execution_count": 3,
   "metadata": {},
   "outputs": [
    {
     "data": {
      "text/plain": [
       "'Hola mundo.'"
      ]
     },
     "execution_count": 3,
     "metadata": {},
     "output_type": "execute_result"
    }
   ],
   "source": [
    "s = 'Hola mundo.'\n",
    "str(s)"
   ]
  },
  {
   "cell_type": "code",
   "execution_count": 2,
   "metadata": {},
   "outputs": [
    {
     "data": {
      "text/plain": [
       "\"'Hola mundo.'\""
      ]
     },
     "execution_count": 2,
     "metadata": {},
     "output_type": "execute_result"
    }
   ],
   "source": [
    "repr(s)"
   ]
  },
  {
   "cell_type": "markdown",
   "metadata": {},
   "source": [
    "La función **str()** devuelve representaciones de los valores que son bastante legibles por humanos, mientras que **repr()** genera representaciones que pueden ser leídas por el el intérprete. Para objetos que no tienen una representación en particular para consumo humano, **str()** devolverá el mismo valor que **repr()**. Muchos valores, como números o estructuras como listas y diccionarios, tienen la misma representación usando cualquiera de las dos funciones"
   ]
  },
  {
   "cell_type": "code",
   "execution_count": 4,
   "metadata": {},
   "outputs": [
    {
     "data": {
      "text/plain": [
       "'0.14285714285714285'"
      ]
     },
     "execution_count": 4,
     "metadata": {},
     "output_type": "execute_result"
    }
   ],
   "source": [
    "str(1/7)"
   ]
  },
  {
   "cell_type": "code",
   "execution_count": 6,
   "metadata": {},
   "outputs": [
    {
     "name": "stdout",
     "output_type": "stream",
     "text": [
      "El valor de x es 32.5, y es 40000...\n"
     ]
    }
   ],
   "source": [
    "x = 10 * 3.25\n",
    "y = 200 * 200\n",
    "s = 'El valor de x es ' + repr(x) + ', y es ' + repr(y) + '...'\n",
    "print(s)"
   ]
  },
  {
   "cell_type": "markdown",
   "metadata": {},
   "source": [
    "El **repr()** de una cadena agrega apóstrofos y barras invertidas"
   ]
  },
  {
   "cell_type": "code",
   "execution_count": 7,
   "metadata": {},
   "outputs": [
    {
     "name": "stdout",
     "output_type": "stream",
     "text": [
      "'hola mundo\\n'\n"
     ]
    }
   ],
   "source": [
    "hola = 'hola mundo\\n'\n",
    "holas = repr(hola)\n",
    "print(holas)"
   ]
  },
  {
   "cell_type": "markdown",
   "metadata": {},
   "source": [
    "El argumento de **repr()** puede ser cualquier objeto Python"
   ]
  },
  {
   "cell_type": "code",
   "execution_count": 8,
   "metadata": {},
   "outputs": [
    {
     "data": {
      "text/plain": [
       "\"(32.5, 40000, ('carne', 'huevos'))\""
      ]
     },
     "execution_count": 8,
     "metadata": {},
     "output_type": "execute_result"
    }
   ],
   "source": [
    "repr((x, y, ('carne', 'huevos')))"
   ]
  },
  {
   "cell_type": "markdown",
   "metadata": {},
   "source": [
    "Una manera de escribir una tabla de cuadrados y cubos..."
   ]
  },
  {
   "cell_type": "code",
   "execution_count": 9,
   "metadata": {},
   "outputs": [
    {
     "name": "stdout",
     "output_type": "stream",
     "text": [
      " 1   1    1\n",
      " 2   4    8\n",
      " 3   9   27\n",
      " 4  16   64\n",
      " 5  25  125\n",
      " 6  36  216\n",
      " 7  49  343\n",
      " 8  64  512\n",
      " 9  81  729\n",
      "10 100 1000\n"
     ]
    }
   ],
   "source": [
    "for x in range(1, 11):\n",
    "    print(repr(x).rjust(2), repr(x * x).rjust(3), end=' ')\n",
    "    # notar el uso de 'end' en la linea anterior\n",
    "    print(repr(x * x * x).rjust(4))"
   ]
  },
  {
   "cell_type": "markdown",
   "metadata": {},
   "source": [
    "...otra manera usando **str.format()**"
   ]
  },
  {
   "cell_type": "code",
   "execution_count": 10,
   "metadata": {},
   "outputs": [
    {
     "name": "stdout",
     "output_type": "stream",
     "text": [
      " 1   1    1\n",
      " 2   4    8\n",
      " 3   9   27\n",
      " 4  16   64\n",
      " 5  25  125\n",
      " 6  36  216\n",
      " 7  49  343\n",
      " 8  64  512\n",
      " 9  81  729\n",
      "10 100 1000\n"
     ]
    }
   ],
   "source": [
    "for x in range(1,11):\n",
    "    print('{0:2d} {1:3d} {2:4d}'.format(x, x * x, x * x * x))"
   ]
  },
  {
   "cell_type": "markdown",
   "metadata": {},
   "source": [
    "El primer ejemplo muestra el método **str.rjust()** de los objetos cadena, el cual ordena una cadena a la derecha en un campo del ancho dado llenándolo con espacios a la izquierda. Hay métodos similares **str.ljust()** y **str.center()**. Estos métodos no escriben nada, sólo devuelven una nueva cadena. Si la cadena de entrada es demasiado larga, no la truncan, sino la devuelven intacta; esto te romperá la alineación de tus columnas pero es normalmente mejor que la alternativa, que te estaría mintiendo sobre el valor.\n",
    "\n",
    "Hay otro método, **str.zfill()**, el cual rellena una cadena numérica a la izquierda con ceros. Entiende signos positivos y negativos."
   ]
  },
  {
   "cell_type": "code",
   "execution_count": 11,
   "metadata": {},
   "outputs": [
    {
     "data": {
      "text/plain": [
       "'00012'"
      ]
     },
     "execution_count": 11,
     "metadata": {},
     "output_type": "execute_result"
    }
   ],
   "source": [
    "'12'.zfill(5)"
   ]
  },
  {
   "cell_type": "code",
   "execution_count": 12,
   "metadata": {},
   "outputs": [
    {
     "data": {
      "text/plain": [
       "'-003.14'"
      ]
     },
     "execution_count": 12,
     "metadata": {},
     "output_type": "execute_result"
    }
   ],
   "source": [
    "'-3.14'.zfill(7)"
   ]
  },
  {
   "cell_type": "code",
   "execution_count": 13,
   "metadata": {},
   "outputs": [
    {
     "data": {
      "text/plain": [
       "'3.14159265359'"
      ]
     },
     "execution_count": 13,
     "metadata": {},
     "output_type": "execute_result"
    }
   ],
   "source": [
    "'3.14159265359'.zfill(5)"
   ]
  },
  {
   "cell_type": "markdown",
   "metadata": {},
   "source": [
    "El uso básico del método **str.format()**"
   ]
  },
  {
   "cell_type": "code",
   "execution_count": 14,
   "metadata": {},
   "outputs": [
    {
     "name": "stdout",
     "output_type": "stream",
     "text": [
      "Somos los caballeros quienes decimos \"Nop!\"\n"
     ]
    }
   ],
   "source": [
    "print('Somos los {} quienes decimos \"{}!\"'.format('caballeros', 'Nop'))"
   ]
  },
  {
   "cell_type": "markdown",
   "metadata": {},
   "source": [
    "Las llaves y caracteres dentro de las mismas son reemplazadas con los objetos pasados en el método **str.format()**. Un número en las llaves se refiere a la posición del objeto pasado en el método"
   ]
  },
  {
   "cell_type": "code",
   "execution_count": 15,
   "metadata": {},
   "outputs": [
    {
     "name": "stdout",
     "output_type": "stream",
     "text": [
      "spam and eggs\n",
      "eggs and spam\n"
     ]
    }
   ],
   "source": [
    "print('{0} and {1}'.format('spam', 'eggs'))\n",
    "print('{1} and {0}'.format('spam', 'eggs'))"
   ]
  },
  {
   "cell_type": "markdown",
   "metadata": {},
   "source": [
    "Si se usan argumentos nombrados en el método **str.format()**, sus valores serán referidos usando el nombre del argumento"
   ]
  },
  {
   "cell_type": "code",
   "execution_count": 16,
   "metadata": {},
   "outputs": [
    {
     "name": "stdout",
     "output_type": "stream",
     "text": [
      "This spam is absolutely horrible.\n"
     ]
    }
   ],
   "source": [
    "print('This {food} is {adjective}.'.format(\n",
    "    food='spam', adjective='absolutely horrible'))"
   ]
  },
  {
   "cell_type": "markdown",
   "metadata": {},
   "source": [
    "Se pueden combinar arbitrariamente argumentos posicionales y nombrados"
   ]
  },
  {
   "cell_type": "code",
   "execution_count": 18,
   "metadata": {},
   "outputs": [
    {
     "name": "stdout",
     "output_type": "stream",
     "text": [
      "La historia de Bill, Manfred, y Georg.\n"
     ]
    }
   ],
   "source": [
    "print('La historia de {0}, {1}, y {otro}.'.format('Bill', 'Manfred',\n",
    "                                                  otro='Georg'))"
   ]
  },
  {
   "cell_type": "markdown",
   "metadata": {},
   "source": [
    "Se pueden usar **'!s'** (aplica **str()**) y **'!r'** (aplica **repr()**) para convertir el valor antes de que se formatee"
   ]
  },
  {
   "cell_type": "code",
   "execution_count": 31,
   "metadata": {},
   "outputs": [
    {
     "name": "stdout",
     "output_type": "stream",
     "text": [
      "El valor de Pi es aproximadamente 3.141592653589793.\n",
      "El valor de Pi es aproximadamente 3.141592653589793.\n"
     ]
    }
   ],
   "source": [
    "import math\n",
    "print('El valor de Pi es aproximadamente {}.'.format(math.pi))\n",
    "print('El valor de Pi es aproximadamente {!r}.'.format(math.pi))"
   ]
  },
  {
   "cell_type": "markdown",
   "metadata": {},
   "source": [
    "Un **':'** y especificador de formato opcionales pueden ir luego del nombre del campo. Esto aumenta el control sobre cómo el valor es formateado"
   ]
  },
  {
   "cell_type": "code",
   "execution_count": 32,
   "metadata": {},
   "outputs": [
    {
     "name": "stdout",
     "output_type": "stream",
     "text": [
      "El valor de PI es aproximadamente 3.142.\n"
     ]
    }
   ],
   "source": [
    "import math\n",
    "print('El valor de PI es aproximadamente {0:.3f}.'.format(math.pi))"
   ]
  },
  {
   "cell_type": "markdown",
   "metadata": {},
   "source": [
    "Pasando un entero luego del ':' causará que el campo sea de un mínimo número de caracteres de ancho. Esto es útil para hacer tablas lindas"
   ]
  },
  {
   "cell_type": "code",
   "execution_count": 33,
   "metadata": {},
   "outputs": [
    {
     "name": "stdout",
     "output_type": "stream",
     "text": [
      "Sjoerd     ==>       4127\n",
      "Jack       ==>       4098\n",
      "Dcab       ==>       7678\n"
     ]
    }
   ],
   "source": [
    "tabla = {'Sjoerd': 4127, 'Jack': 4098, 'Dcab': 7678}\n",
    "for nombre, telefono in tabla.items():\n",
    "    print('{0:10} ==> {1:10d}'.format(nombre, telefono))"
   ]
  },
  {
   "cell_type": "markdown",
   "metadata": {},
   "source": [
    "Para una cadena de formateo realmente larga, podría ser bueno hacer referencia a las variables a ser formateadas por el nombre en vez de la posición. Esto puede hacerse simplemente pasando el diccionario y usando corchetes '[]' para acceder a las claves"
   ]
  },
  {
   "cell_type": "code",
   "execution_count": 34,
   "metadata": {},
   "outputs": [
    {
     "name": "stdout",
     "output_type": "stream",
     "text": [
      "Jack: 4098; Sjoerd: 4127; Dcab: 8637678\n"
     ]
    }
   ],
   "source": [
    "tabla = {'Sjoerd': 4127, 'Jack': 4098, 'Dcab': 8637678}\n",
    "print('Jack: {Jack:d}; Sjoerd: {Sjoerd:d}; '\n",
    "      'Dcab: {Dcab:d}'.format(**tabla))"
   ]
  },
  {
   "cell_type": "markdown",
   "metadata": {},
   "source": [
    "Esto es particularmente útil en combinación con la función integrada **vars()**, que devuelve un diccionario conteniendo todas las variables locales"
   ]
  },
  {
   "cell_type": "markdown",
   "metadata": {},
   "source": [
    "### Viejo formateo de cadenas"
   ]
  },
  {
   "cell_type": "markdown",
   "metadata": {},
   "source": [
    "El operador **%** también puede usarse para formateo de cadenas. Interpreta el argumento de la izquierda con el estilo de formateo de **sprintf()** para ser aplicado al argumento de la derecha, y devuelve la cadena resultante de esta operación de formateo"
   ]
  },
  {
   "cell_type": "code",
   "execution_count": 17,
   "metadata": {},
   "outputs": [
    {
     "name": "stdout",
     "output_type": "stream",
     "text": [
      "El valor de PI es aproximadamente 3.142.\n"
     ]
    }
   ],
   "source": [
    "import math\n",
    "print('El valor de PI es aproximadamente %5.3f.' % math.pi)"
   ]
  },
  {
   "cell_type": "markdown",
   "metadata": {},
   "source": [
    "# Leyendo y escribiendo archivos"
   ]
  },
  {
   "cell_type": "markdown",
   "metadata": {},
   "source": [
    "La función **open()** devuelve un objeto archivo, y se usa normalmente con dos argumentos: **open(nombre_de_archivo, modo)**"
   ]
  },
  {
   "cell_type": "code",
   "execution_count": 18,
   "metadata": {},
   "outputs": [
    {
     "name": "stdout",
     "output_type": "stream",
     "text": [
      "<_io.TextIOWrapper name='../datos/archivos/archivodetrabajo' mode='w' encoding='UTF-8'>\n"
     ]
    }
   ],
   "source": [
    "f = open('../datos/archivos/archivo.txt', 'w')\n",
    "print(f)"
   ]
  },
  {
   "cell_type": "markdown",
   "metadata": {},
   "source": [
    "El primer argumento es una cadena conteniendo el nombre de archivo. El segundo argumento es otra cadena conteniendo unos pocos caracteres que describen la forma en que el archivo será usado. \n",
    "\n",
    "* **'r'** cuando el archivo será solamente leído,\n",
    "* **'w'** para sólo escribirlo (un archivo existente con el mismo nombre será borrado),\n",
    "* **'a'** abre el archivo para agregarle información; cualquier dato escrito al archivo será automáticamente agregado al final.\n",
    "* **'r+'** abre el archivo tanto para leerlo como para escribirlo.\n",
    "\n",
    "El argumento modo es opcional; si se omite se asume 'r'.\n",
    "\n",
    "Normalmente los archivos se abren en modo texto, lo que significa que se pueden leer y escribir cadenas del y al archivo, las cuales se codifican utilizando un código específico. Si el código no es especificado, el valor predeterminado depende de la plataforma. Si se agrega **b** al modo el archivo se abre en modo binario: ahora los datos se leen y escriben en forma de objetos **bytes**. Se debería usar este modo para todos los archivos que no contengan texto.\n",
    "\n",
    "Cuando se lee en modo texto, por defecto se convierten los fines de lineas que son específicos a las plataformas (**\\\\n** en Unix, **\\\\r\\\\n** en Windows) a solamente **\\\\n**. Cuando se escribe en modo texto, por defecto se convierten los **\\\\n** a los finales de linea específicos de la plataforma."
   ]
  },
  {
   "cell_type": "markdown",
   "metadata": {},
   "source": [
    "## Métodos de los objetos Archivo"
   ]
  },
  {
   "cell_type": "markdown",
   "metadata": {},
   "source": [
    "Para leer el contenido de una archivo se usa **f.read(cantidad)**, el cual lee alguna cantidad de datos y los devuelve como una cadena de texto o bytes. Cantidad es un argumento numérico opcional. Cuando se omite cantidad o es negativo, el contenido entero del archivo será leido y devuelto. De otra manera, a lo sumo una cantidad de bytes son leídos y devueltos. Si se alcanzó el fin del archivo, **f.read()** devolverá una cadena vacía."
   ]
  },
  {
   "cell_type": "code",
   "execution_count": 19,
   "metadata": {},
   "outputs": [
    {
     "data": {
      "text/plain": [
       "'Este es el contenido del archivo\\n'"
      ]
     },
     "execution_count": 19,
     "metadata": {},
     "output_type": "execute_result"
    }
   ],
   "source": [
    "f = open('../datos/archivos/read.txt', 'r')\n",
    "f.read()"
   ]
  },
  {
   "cell_type": "code",
   "execution_count": 20,
   "metadata": {},
   "outputs": [
    {
     "data": {
      "text/plain": [
       "''"
      ]
     },
     "execution_count": 20,
     "metadata": {},
     "output_type": "execute_result"
    }
   ],
   "source": [
    "f.read()"
   ]
  },
  {
   "cell_type": "markdown",
   "metadata": {},
   "source": [
    "**f.readline()** lee una sola linea del archivo; el caracter de fin de linea **\\\\n** se deja al final de la cadena, y sólo se omite en la última linea del archivo si el mismo no termina en un fin de linea. Esto hace que el valor de retorno no sea ambiguo; si **f.readline()** devuelve una cadena vacía, es que se alcanzó el fin del archivo, mientras que una linea en blanco es representada por **'\\n'**, una cadena conteniendo sólo un único fin de linea"
   ]
  },
  {
   "cell_type": "code",
   "execution_count": 28,
   "metadata": {},
   "outputs": [
    {
     "name": "stdout",
     "output_type": "stream",
     "text": [
      "'Esta es la primer linea del archivo.\\n'\n",
      "'Segunda linea del archivo\\n'\n",
      "'\\n'\n",
      "''\n"
     ]
    }
   ],
   "source": [
    "f = open('../datos/archivos/readline.txt', 'r')\n",
    "print(repr(f.readline()))\n",
    "print(repr(f.readline()))\n",
    "print(repr(f.readline()))\n",
    "print(repr(f.readline()))"
   ]
  },
  {
   "cell_type": "markdown",
   "metadata": {},
   "source": [
    "Para leer líneas de un archivo, se puede iterar sobre el objeto archivo. Esto es eficiente en memoria, rápido, y conduce a un código más simple"
   ]
  },
  {
   "cell_type": "code",
   "execution_count": 29,
   "metadata": {},
   "outputs": [
    {
     "name": "stdout",
     "output_type": "stream",
     "text": [
      "Esta es la primer linea del archivo.\n",
      "Segunda linea del archivo\n",
      "Tercera linea del archivo\n",
      "\n",
      "\n",
      "Final del archivo\n"
     ]
    }
   ],
   "source": [
    "f = open('../datos/archivos/iterame.txt', 'r')\n",
    "for linea in f:\n",
    "    print(linea, end='')"
   ]
  },
  {
   "cell_type": "markdown",
   "metadata": {},
   "source": [
    "Para leer todas las líneas de un archivo en una lista también se pueden usar **list(f)** o **f.readlines()**"
   ]
  },
  {
   "cell_type": "markdown",
   "metadata": {},
   "source": [
    "**f.write(cadena)** escribe el contenido de la cadena al archivo, devolviendo la cantidad de caracteres escritos"
   ]
  },
  {
   "cell_type": "code",
   "execution_count": 30,
   "metadata": {},
   "outputs": [
    {
     "data": {
      "text/plain": [
       "19"
      ]
     },
     "execution_count": 30,
     "metadata": {},
     "output_type": "execute_result"
    }
   ],
   "source": [
    "f = open('../datos/archivos/write.txt', 'w')\n",
    "f.write('Esto es una prueba\\n')"
   ]
  },
  {
   "cell_type": "markdown",
   "metadata": {},
   "source": [
    "Para escribir algo más que una cadena, necesita convertirse primero a una cadena"
   ]
  },
  {
   "cell_type": "code",
   "execution_count": 33,
   "metadata": {},
   "outputs": [
    {
     "data": {
      "text/plain": [
       "20"
      ]
     },
     "execution_count": 33,
     "metadata": {},
     "output_type": "execute_result"
    }
   ],
   "source": [
    "f = open('../datos/archivos/tupla.txt', 'w')\n",
    "valor = ('la respuesta', 42)\n",
    "s = str(valor)\n",
    "f.write(s)"
   ]
  },
  {
   "cell_type": "markdown",
   "metadata": {},
   "source": [
    "**f.tell()** devuelve un entero que indica la posición actual en el archivo representada como número de bytes desde el comienzo del archivo en modo binario y un número opaco en modo texto.\n",
    "\n",
    "Para cambiar la posición del objeto archivo, usá **f.seek(desplazamiento, desde_donde)**. La posición es calculada agregando el desplazamiento a un punto de referencia; el punto de referencia se selecciona del argumento **desde_donde**. Un valor **desde_donde** de **0** mide desde el comienzo del archivo, **1** usa la posición actual del archivo, y **2** usa el fin del archivo como punto de referencia. **desde_donde** puede omitirse, el default es **0**, usando el comienzo del archivo como punto de referencia."
   ]
  },
  {
   "cell_type": "code",
   "execution_count": 44,
   "metadata": {},
   "outputs": [
    {
     "ename": "FileNotFoundError",
     "evalue": "[Errno 2] No such file or directory: '../datos/archivos/binario.bin'",
     "output_type": "error",
     "traceback": [
      "\u001b[0;31m---------------------------------------------------------------------------\u001b[0m",
      "\u001b[0;31mFileNotFoundError\u001b[0m                         Traceback (most recent call last)",
      "\u001b[0;32m<ipython-input-44-3cf6fc012136>\u001b[0m in \u001b[0;36m<module>\u001b[0;34m()\u001b[0m\n\u001b[0;32m----> 1\u001b[0;31m \u001b[0mf\u001b[0m \u001b[0;34m=\u001b[0m \u001b[0mopen\u001b[0m\u001b[0;34m(\u001b[0m\u001b[0;34m'../datos/archivos/binario.bin'\u001b[0m\u001b[0;34m,\u001b[0m \u001b[0;34m'rb+'\u001b[0m\u001b[0;34m)\u001b[0m\u001b[0;34m\u001b[0m\u001b[0m\n\u001b[0m\u001b[1;32m      2\u001b[0m \u001b[0mf\u001b[0m\u001b[0;34m.\u001b[0m\u001b[0mwrite\u001b[0m\u001b[0;34m(\u001b[0m\u001b[0;34mb'0123456789abcdef'\u001b[0m\u001b[0;34m)\u001b[0m\u001b[0;34m\u001b[0m\u001b[0m\n\u001b[1;32m      3\u001b[0m \u001b[0mf\u001b[0m\u001b[0;34m.\u001b[0m\u001b[0mseek\u001b[0m\u001b[0;34m(\u001b[0m\u001b[0;36m5\u001b[0m\u001b[0;34m)\u001b[0m     \u001b[0;31m# Va al sexto byte en el archivo\u001b[0m\u001b[0;34m\u001b[0m\u001b[0m\n\u001b[1;32m      4\u001b[0m \u001b[0mprint\u001b[0m\u001b[0;34m(\u001b[0m\u001b[0mrepr\u001b[0m\u001b[0;34m(\u001b[0m\u001b[0mf\u001b[0m\u001b[0;34m.\u001b[0m\u001b[0mread\u001b[0m\u001b[0;34m(\u001b[0m\u001b[0;36m1\u001b[0m\u001b[0;34m)\u001b[0m\u001b[0;34m)\u001b[0m\u001b[0;34m)\u001b[0m\u001b[0;34m\u001b[0m\u001b[0m\n\u001b[1;32m      5\u001b[0m \u001b[0mf\u001b[0m\u001b[0;34m.\u001b[0m\u001b[0mseek\u001b[0m\u001b[0;34m(\u001b[0m\u001b[0;34m-\u001b[0m\u001b[0;36m3\u001b[0m\u001b[0;34m,\u001b[0m \u001b[0;36m2\u001b[0m\u001b[0;34m)\u001b[0m \u001b[0;31m# Va al tercer byte antes del final\u001b[0m\u001b[0;34m\u001b[0m\u001b[0m\n",
      "\u001b[0;31mFileNotFoundError\u001b[0m: [Errno 2] No such file or directory: '../datos/archivos/binario.bin'"
     ]
    }
   ],
   "source": [
    "f = open('../datos/archivos/binario.bin', 'rb+')\n",
    "f.write(b'0123456789abcdef')\n",
    "f.seek(5)     # Va al sexto byte en el archivo\n",
    "print(repr(f.read(1)))\n",
    "f.seek(-3, 2) # Va al tercer byte antes del final\n",
    "print(repr(f.read(1)))"
   ]
  },
  {
   "cell_type": "markdown",
   "metadata": {},
   "source": [
    "En los archivos de texto, se permiten solamente desplazamientos con **seek** relativos al comienzo (con la excepción de ir justo al final con **seek(0, 2)**) y los únicos valores de desplazamiento válidos son aquellos retornados por **f.tell()**, o cero. Cualquier otro valor de desplazamiento produce un comportamiento indefinido.\n",
    "\n",
    "Cuando hayas terminado con un archivo, llamá a **f.close()** para cerrar y liberar cualquier recurso del sistema tomado por el archivo abierto. Luego de llamar **f.close()**, los intentos de usar el objeto archivo fallarán automáticamente."
   ]
  },
  {
   "cell_type": "code",
   "execution_count": 45,
   "metadata": {},
   "outputs": [
    {
     "ename": "ValueError",
     "evalue": "I/O operation on closed file.",
     "output_type": "error",
     "traceback": [
      "\u001b[0;31m---------------------------------------------------------------------------\u001b[0m",
      "\u001b[0;31mValueError\u001b[0m                                Traceback (most recent call last)",
      "\u001b[0;32m<ipython-input-45-b71cc4406faf>\u001b[0m in \u001b[0;36m<module>\u001b[0;34m()\u001b[0m\n\u001b[1;32m      1\u001b[0m \u001b[0mf\u001b[0m \u001b[0;34m=\u001b[0m \u001b[0mopen\u001b[0m\u001b[0;34m(\u001b[0m\u001b[0;34m'../datos/archivos/read.txt'\u001b[0m\u001b[0;34m)\u001b[0m\u001b[0;34m\u001b[0m\u001b[0m\n\u001b[1;32m      2\u001b[0m \u001b[0mf\u001b[0m\u001b[0;34m.\u001b[0m\u001b[0mclose\u001b[0m\u001b[0;34m(\u001b[0m\u001b[0;34m)\u001b[0m\u001b[0;34m\u001b[0m\u001b[0m\n\u001b[0;32m----> 3\u001b[0;31m \u001b[0mf\u001b[0m\u001b[0;34m.\u001b[0m\u001b[0mread\u001b[0m\u001b[0;34m(\u001b[0m\u001b[0;34m)\u001b[0m\u001b[0;34m\u001b[0m\u001b[0m\n\u001b[0m",
      "\u001b[0;31mValueError\u001b[0m: I/O operation on closed file."
     ]
    }
   ],
   "source": [
    "f = open('../datos/archivos/read.txt')\n",
    "f.close()\n",
    "f.read()"
   ]
  },
  {
   "cell_type": "markdown",
   "metadata": {},
   "source": [
    "Es una buena práctica usar la declaración **with** cuando manejamos objetos archivo. Tiene la ventaja que el archivo es cerrado apropiadamente luego de que el bloque termina, incluso si se generó una excepción"
   ]
  },
  {
   "cell_type": "code",
   "execution_count": 46,
   "metadata": {},
   "outputs": [
    {
     "data": {
      "text/plain": [
       "True"
      ]
     },
     "execution_count": 46,
     "metadata": {},
     "output_type": "execute_result"
    }
   ],
   "source": [
    "with open('../datos/archivos/read.txt', 'r') as f:\n",
    "    read_data = f.read()\n",
    "f.closed"
   ]
  }
 ],
 "metadata": {
  "anaconda-cloud": {},
  "kernelspec": {
   "display_name": "Python 3",
   "language": "python",
   "name": "python3"
  },
  "language_info": {
   "codemirror_mode": {
    "name": "ipython",
    "version": 3
   },
   "file_extension": ".py",
   "mimetype": "text/x-python",
   "name": "python",
   "nbconvert_exporter": "python",
   "pygments_lexer": "ipython3",
   "version": "3.6.2"
  }
 },
 "nbformat": 4,
 "nbformat_minor": 1
}
