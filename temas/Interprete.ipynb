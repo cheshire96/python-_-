{
 "cells": [
  {
   "cell_type": "markdown",
   "metadata": {},
   "source": [
    "# Usando Python"
   ]
  },
  {
   "cell_type": "markdown",
   "metadata": {},
   "source": [
    "## Invocando al intérprete"
   ]
  },
  {
   "cell_type": "markdown",
   "metadata": {},
   "source": [
    "Por lo general, el intérprete de Python se instala en /usr/local/bin/python3.6 en las máquinas dónde está disponible; poner /usr/local/bin en el camino de búsqueda de tu intérprete de comandos Unix hace posible iniciarlo ingresando la orden"
   ]
  },
  {
   "cell_type": "markdown",
   "metadata": {},
   "source": [
    "```bash\n",
    "python3.6\n",
    "```"
   ]
  },
  {
   "cell_type": "markdown",
   "metadata": {},
   "source": [
    "...en la terminal. Ya que la elección del directorio dónde vivirá el intérprete es una opción del proceso de instalación, puede estar en otros lugares (Por ejemplo, /usr/local/python es una alternativa popular).\n",
    "\n",
    "En máquinas con Windows, la instalación de Python por lo general se encuentra en C:\\Python36, aunque se puede cambiar durante la instalación. Para añadir este directorio al camino, se puede ingresar la siguiente orden en el prompt de DOS"
   ]
  },
  {
   "cell_type": "markdown",
   "metadata": {},
   "source": [
    "```bash\n",
    "set path=%path%;C:\\python36\n",
    "```"
   ]
  },
  {
   "cell_type": "markdown",
   "metadata": {},
   "source": [
    "Se puede salir del intérprete con estado de salida cero ingresando el carácter de fin de archivo (Control-D en Unix, Control-Z en Windows) en el prompt primario. Si esto no funciona, se puede salir del intérprete ingresando **quit()**.\n",
    "\n",
    "Las características para editar líneas del intérprete incluyen edición interactiva, sustitución usando el historial y completado de código en sistemas que soportan readline. Tal vez la forma más rápida de detectar si las características de edición están presentes es ingresar Control-P en el primer prompt de Python que aparezca. Si se escucha un beep, las características están presentes. Si no pasa nada, o si aparece ^P, estas características no están disponibles.\n",
    "\n",
    "La forma de operar del intérprete es parecida a la línea de comandos de Unix: cuando se la llama con la entrada estándar conectada a una terminal lee y ejecuta comandos en forma interactiva; cuando es llamada con un nombre de archivo como argumento o con un archivo como entrada estándar, lee y ejecuta un script del archivo.\n",
    "\n",
    "Una segunda forma de iniciar el intérprete es **python -c comando [arg]** ..., que ejecuta las sentencias en comando. Ya que las sentencias de Python suelen tener espacios en blanco u otros caracteres que son especiales en la línea de comandos, es normalmente recomendado citar comando entre comillas dobles.\n",
    "\n",
    "Algunos módulos de Python son también útiles como scripts. Pueden invocarse usando **python -m module [arg]** ..., que ejecuta el código de module como si se hubiese ingresado su nombre completo en la línea de comandos.\n",
    "\n",
    "Cuando se usa un script, a veces es útil correr primero el script y luego entrar al modo interactivo. Esto se puede hacer pasándole la opción -i antes del nombre del script."
   ]
  },
  {
   "cell_type": "markdown",
   "metadata": {},
   "source": [
    "## Pasaje de argumentos"
   ]
  },
  {
   "cell_type": "markdown",
   "metadata": {},
   "source": [
    "Cuando son conocidos por el intérprete, el nombre del script y los argumentos adicionales son entonces convertidos a una lista de cadenas de texto asignada a la variable **argv** del módulo **sys**. Se puede acceder a esta lista haciendo **import sys**. El largo de esta lista es al menos uno; cuando ningún script o argumentos son pasados, **sys.argv[0]** es una cadena vacía. Cuando se pasa el nombre del script con '-' (lo que significa la entrada estándar), **sys.argv[0]** vale '-'. Cuando se usa -c command, **sys.argv[0]** vale '-c'. Cuando se usa -m module, **sys.argv[0]** toma el valor del nombre completo del módulo. Las opciones encontradas luego de -c command o -m module no son consumidas por el procesador de opciones de Python pero de todas formas almacenadas en **sys.argv** para ser manejadas por el comando o módulo"
   ]
  },
  {
   "cell_type": "markdown",
   "metadata": {},
   "source": [
    "## Modo interactivo"
   ]
  },
  {
   "cell_type": "markdown",
   "metadata": {},
   "source": [
    "Se dice que estamos usando el intérprete en modo interactivo, cuando los comandos son leídos desde una terminal. En este modo espera el siguiente comando con el prompt primario, usualmente tres signos mayor-que **(>>>)**; para las líneas de continuación espera con el prompt secundario, por defecto tres puntos **(...)**. Antes de mostrar el prompt primario, el intérprete muestra un mensaje de bienvenida reportando su número de versión y una nota de copyright"
   ]
  },
  {
   "cell_type": "markdown",
   "metadata": {},
   "source": [
    "```bash\n",
    "$ python3.5                                                 \n",
    "Python 3.5.2 (default, Jun 28 2016, 08:46:01) \n",
    "[GCC 6.1.1 20160602] on linux\n",
    "Type \"help\", \"copyright\", \"credits\" or \"license\" for more information.\n",
    ">>>\n",
    "```"
   ]
  },
  {
   "cell_type": "markdown",
   "metadata": {},
   "source": [
    "Las líneas de continuación son necesarias cuando queremos ingresar un constructor multilínea"
   ]
  },
  {
   "cell_type": "markdown",
   "metadata": {},
   "source": [
    "```python\n",
    ">>> el_mundo_es_plano = True\n",
    ">>> if el_mundo_es_plano:\n",
    "...     print(\"¡Tené cuidado de no caerte!\")\n",
    "...\n",
    "¡Tené cuidado de no caerte!\n",
    "```"
   ]
  },
  {
   "cell_type": "markdown",
   "metadata": {},
   "source": [
    "## IPython"
   ]
  },
  {
   "cell_type": "markdown",
   "metadata": {},
   "source": [
    "IPython es un interprete mejorado que define la ejecución de código como celdas o fragmentos y agrega algunas mejoras al modo intérprete:\n",
    "\n",
    "* Ejecución cliente/servidor\n",
    "    - El cliente (IPython,  QtConsole, Notebook) envía comandos al servidor y muestra la respuesta.\n",
    "    - El servidor es el kernel, que puede ser de Python 2, 3 u [otro lenguaje](https://github.com/ipython/ipython/wiki/IPython-kernels-for-other-languages).\n",
    "* Completado de código\n",
    "* Ayuda en línea\n",
    "* Historial\n",
    "* Funciones mágicas:\n",
    "    - **`%paste`** pega código de el portapapeles\n",
    "    - **`%run`** ejecuta un comando\n",
    "    - **`%cd`** cambia el directorio del intérprete\n",
    "    - **`%mkdir`** crea un directorio o carpeta\n",
    "    - **`%%writefile archivo.txt`** escribe el contenido de la celda en un *archivo.txt*\n",
    "\n",
    "\n",
    "```bash\n",
    "$ ipython3                                                  \n",
    "Python 3.5.2 (default, Jun 28 2016, 08:46:01) \n",
    "Type \"copyright\", \"credits\" or \"license\" for more information.\n",
    "\n",
    "IPython 5.0.0 -- An enhanced Interactive Python.\n",
    "?         -&gt; Introduction and overview of IPython's features.\n",
    "%quickref -&gt; Quick reference.\n",
    "help      -&gt; Python's own help system.\n",
    "object?   -&gt; Details about 'object', use 'object??' for extra details.\n",
    "\n",
    "In [1]:\n",
    "```\n"
   ]
  },
  {
   "cell_type": "markdown",
   "metadata": {},
   "source": [
    "Una revelación anticipada, **en Python todo es un objeto**, es decir, una instancia de un clase o tipo de datos. Los objetos no solo guardan valores (llamados _atributos_) sino que además realizan acciones (llamadas _métodos_) que podemos ejecutar sobre diferentes objetos, a veces requiriendo/permitiendo parámetros adicionales.\n",
    "\n",
    "IPython facilita conocer todos los atributos y métodos de un objeto mediante instrospección. Prueben explorar utilizando la tecla **TAB** hasta el cansancio en este interprete y cuando la exploración no sea suficiente podemos hace uso de **?** para obtener la ayuda correspondiente a la funcionalidad requerida o incluso **??** para ver el código fuente (mencionamos que es Open Source?)\n",
    "\n",
    "En el interprete \"vainilla\" de Python, estos comportamientos se logran con las funciones **dir()** y **help()**\n"
   ]
  },
  {
   "cell_type": "markdown",
   "metadata": {},
   "source": [
    "## Jupyter\n",
    "\n",
    "Jupyter es una versión **web** de IPython con varias características nuevas:\n",
    " - Celdas de código pueden intercalarse a gusto con celdas de texto enrriquecido en HTML o Markdown (*esto que está viendo ahora es una celda de texto enriquecido*).\n",
    " - Soporte para salida enriquecida:\n",
    "     - Video, Audio, Imágenes, Ploteos de Curvas, Widgets Interactivos.\n",
    " - Mútiples formatos de salida (HTLM, Markdown, PDF)\n",
    " - Modo slideshow para generación de presentaciones.\n",
    " - Fácil de distribuir\n",
    " - Soportado por Rackspace, Microsoft Azure, Amazon Elastic Cloud para trabajo en la nube.\n",
    " - Permite hacer ciencia reproducible, utilizado en reciente descubrimiento de las [ondas gravitacionales](https://github.com/minrk/ligo-binder/blob/master/GW150914_tutorial.ipynb), [secuenciación de ARN en la invetigación del Zika](http://nbviewer.jupyter.org/github/maayanlab/Zika-RNAseq-Pipeline/blob/master/Zika.ipynb) u [otros usos interesantes](https://github.com/ipython/ipython/wiki/A-gallery-of-interesting-IPython-Notebooks)\n",
    " \n",
    "Dijimos que esta nueva forma de pensar al modo interactivo resulta de la evolución de IPython. Recuerdan la tecla **TAB**? también funcionan en Jupyter. En cuanto a la ayuda, en una sesión interactiva de Jupyter, se puede obtener ayuda contextual para cualquier objeto haciendo **Shift + TAB** una o más veces, o agregando un signo de interrogación al final y ejecutando.\n",
    "\n",
    "Al iniciar el Notebook, en la pantalla principal podemos ver una ruta y una lista de notebooks. Cada notebook es un archivo que está almacenado en el ordenador en la ruta que aparece. Si en esa carpeta no hay notebooks, veremos un mensaje indicando que la lista de notebooks está vacía.\n",
    "\n",
    "Al crear un notebook o al abrir uno nuevo se abre la interfaz de Jupyter propiamente dicha donde ya podemos empezar a trabajar. Es similar a un intérprete, pero está dividida en celdas. Las celdas pueden contener, código, texto, imágenes, etc.\n",
    "\n",
    "Cada celda de código está marcada por la palabra **In[&lt;n&gt;]** y están numeradas. Tan solo tenemos que escribir el código en ella y hacer click arriba en **Cell -&gt; Run**, el triángulo (\"Run cell\") o usar el atajo **shift + Enter**. El resultado de la celda se muestra en el campo **Out [&lt;n&gt;]**, también numerado y coincidiendo con la celda que acabamos de ejecutar. Esto es importante, como ya veremos luego.\n",
    "\n",
    "Si en la barra superior seleccionamos Markdown (o usando el atajo Shift-M) en lugar de Code se puede escribir texto.\n",
    "También ecuaciones en latex y mucho más. Esto es una herramienta muy potente para explicar a alguien o a ti mismo lo que tu código hace, para hacer un informe, un trabajo, escribir en un blog.\n",
    "\n",
    "Markdown es un lenguaje aparte. Para cuando haga falta aquí una [cheatsheet](../datos/markdown-cheatsheet.pdf).\n",
    "\n",
    "El Notebook tiene además numerosos atajos que se pueden consultar en **Help -&gt; Keyboard Shortcourts**"
   ]
  },
  {
   "cell_type": "markdown",
   "metadata": {},
   "source": [
    "## Anaconda"
   ]
  },
  {
   "cell_type": "markdown",
   "metadata": {},
   "source": [
    "Anaconda es uns solución de software multiplataforma diseñada para facilitar la distribución de Python. Incluye paquetes de terceros que son requeridos normalmente como Qt, Matplotlib, Numpy, Pandas, etc.\n",
    "\n",
    "Permite la separación de entornos.\n",
    "\n",
    "Si bien Anaconda incluye un montón de paquetes para múltiples usos, dependiendo del caso, a veces es preferible comenzar con lo mínimo indispensable y empezar a agregar únicamente lo que vamos a necesitar para nuestro desarrollo. Para eso existe [Miniconda](https://conda.io/miniconda.html), que cumple exactamente ésa función. Es una distribución mínima de Anaconda, con la cual podemos armar el entorno que querramos a nuestra medida. \n"
   ]
  },
  {
   "cell_type": "markdown",
   "metadata": {},
   "source": [
    "\n",
    "Para cuando haga falta aquí una [cheatsheet](../datos/conda-cheatsheet.pdf)."
   ]
  }
 ],
 "metadata": {
  "anaconda-cloud": {},
  "kernelspec": {
   "display_name": "Python 3",
   "language": "python",
   "name": "python3"
  },
  "language_info": {
   "codemirror_mode": {
    "name": "ipython",
    "version": 3
   },
   "file_extension": ".py",
   "mimetype": "text/x-python",
   "name": "python",
   "nbconvert_exporter": "python",
   "pygments_lexer": "ipython3",
   "version": "3.6.2"
  }
 },
 "nbformat": 4,
 "nbformat_minor": 1
}
