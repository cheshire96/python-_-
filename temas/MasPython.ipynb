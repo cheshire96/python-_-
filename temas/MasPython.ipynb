{
 "cells": [
  {
   "cell_type": "markdown",
   "metadata": {},
   "source": [
    "# Comunidad en la Zona\n",
    "![](https://secure.meetupstatic.com/photos/event/9/6/7/6/global_458198518.jpeg)\n",
    "* [Meetup Patagónico de Python](http://www.meetup.com/es-ES/Patagonia-Python-Meetup/) Reuniones periódicas dónde se exponen temas relacionados con Python.\n",
    "  \n",
    "\n",
    "# Comunidad en Argentina\n",
    "  * [PyAr](http://www.python.org.ar/)\n",
    "     - [Lista de Correo](http://www.python.org.ar/lista/)\n",
    "     - [Chat IRC](http://www.python.org.ar/irc/)\n",
    "  * [Telegram](http://t.me/pythonargentina)\n",
    "    \n",
    "# Eventos próximos\n",
    "* [PyCon Argentina 2017](http://ar.pycon.org/) 17, 18 y 19 de Noviembre, Ciudad Universitaria UNC, Cordoba, Argentina\n",
    "* [SciPy Latinamerica 2017](http://scipyla.org/conf/2017/) 22 al 25 de noviembre de 2017, La Habana, Cuba.\n",
    "\n",
    "# Sitios de Aprendizaje\n",
    "\n",
    " * [Programación para Todos en Coursera](https://es.coursera.org/specializations/python)\n",
    "\n",
    "# Mutlimedia\n",
    " * [PyCon 2016 en YouTube](https://www.youtube.com/channel/UCwTD5zJbsQGJN75MwbykYNw) Buscar otros eventos\n",
    " * [Podcast.\\_\\_init\\_\\_](https://podcastinit.com/) Podcast mensual\n",
    " * [Talk Python To Me](https://talkpython.fm/) Podcast mensual\n",
    " * [Lista de correo Python Weekly](http://www.pythonweekly.com/)\n",
    "\n",
    "# Tutoriales\n",
    "* [Tutorial de Python (y Django!)](http://docs.python.org.ar/tutorial/)\n",
    "* [Aprenda a programar en 3217 días](http://python-no-muerde.readthedocs.io)"
   ]
  }
 ],
 "metadata": {
  "anaconda-cloud": {},
  "kernelspec": {
   "display_name": "Python 3",
   "language": "python",
   "name": "python3"
  },
  "language_info": {
   "codemirror_mode": {
    "name": "ipython",
    "version": 3
   },
   "file_extension": ".py",
   "mimetype": "text/x-python",
   "name": "python",
   "nbconvert_exporter": "python",
   "pygments_lexer": "ipython3",
   "version": "3.6.2"
  }
 },
 "nbformat": 4,
 "nbformat_minor": 1
}
