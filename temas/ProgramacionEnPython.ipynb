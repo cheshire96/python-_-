{
 "cells": [
  {
   "cell_type": "markdown",
   "metadata": {},
   "source": [
    "# Programación en Python\n",
    "\n",
    "Programación Orientada a Objetos. Creación de clases e instancias Métodos especiales init, str, etc.\n",
    "\n",
    "Nociones de programación funcional. Funciones como parámetro y como resultado Decoradores Funciones de Orden Superior. Map y filter. Listas y diccionarios por comprensión\n",
    "\n",
    "Excepciones y manejo de errores. Bloques try/except. Uso Creación de Excepciones\n",
    "\n",
    "Proyecto en clase: Repasar lo visto en la clase anterior. Hacerlo más “pythonico” y robusto (control de errores, fácil de leer, mantenible…) Modules para ver ese dia: functools,"
   ]
  }
 ],
 "metadata": {
  "kernelspec": {
   "display_name": "Python 3",
   "language": "python",
   "name": "python3"
  },
  "language_info": {
   "codemirror_mode": {
    "name": "ipython",
    "version": 3
   },
   "file_extension": ".py",
   "mimetype": "text/x-python",
   "name": "python",
   "nbconvert_exporter": "python",
   "pygments_lexer": "ipython3",
   "version": "3.6.2"
  }
 },
 "nbformat": 4,
 "nbformat_minor": 2
}
