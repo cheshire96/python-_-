{
 "cells": [
  {
   "cell_type": "markdown",
   "metadata": {
    "collapsed": true
   },
   "source": [
    "# Ejercitacion Clase 5\n",
    "\n",
    "* Retornar json con GET\n",
    "* Crear un nombre nuevo con POST (NOMBRE=<nombre>&ANIO=<anio>)\n",
    "* Usar genderize.io para obtener generos y hacer PUT (nombre, cantidad, anio) -> (nombre, cantidad, anio, genero)\n",
    "* Borrar un nombre usando DELETE"
   ]
  }
 ],
 "metadata": {
  "kernelspec": {
   "display_name": "Python 3",
   "language": "python",
   "name": "python3"
  },
  "language_info": {
   "codemirror_mode": {
    "name": "ipython",
    "version": 3
   },
   "file_extension": ".py",
   "mimetype": "text/x-python",
   "name": "python",
   "nbconvert_exporter": "python",
   "pygments_lexer": "ipython3",
   "version": "3.6.1"
  }
 },
 "nbformat": 4,
 "nbformat_minor": 2
}
