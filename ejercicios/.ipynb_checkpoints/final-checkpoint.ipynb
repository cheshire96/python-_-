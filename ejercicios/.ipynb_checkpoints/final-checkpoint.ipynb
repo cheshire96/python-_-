{
 "cells": [
  {
   "cell_type": "markdown",
   "metadata": {},
   "source": [
    "# Ejercicio Final\n",
    "\n",
    "* Aplicar lo visto a otro dataset\n",
    "  * Objtener datos\n",
    "  * Filtrar, Mappear y Reducir\n",
    "  * Publicar una API (GET, POST, PUT y DELETE)\n",
    "  * Inverstigar persistencia en sqlite y opcionalmente un ORM"
   ]
  }
 ],
 "metadata": {
  "kernelspec": {
   "display_name": "Python 3",
   "language": "python",
   "name": "python3"
  },
  "language_info": {
   "codemirror_mode": {
    "name": "ipython",
    "version": 3
   },
   "file_extension": ".py",
   "mimetype": "text/x-python",
   "name": "python",
   "nbconvert_exporter": "python",
   "pygments_lexer": "ipython3",
   "version": "3.6.1"
  }
 },
 "nbformat": 4,
 "nbformat_minor": 2
}
