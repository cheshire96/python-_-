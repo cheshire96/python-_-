{
 "cells": [
  {
   "cell_type": "markdown",
   "metadata": {
    "collapsed": true
   },
   "source": [
    "# Ejercitación Clase 1"
   ]
  },
  {
   "cell_type": "markdown",
   "metadata": {},
   "source": [
    "Para comenzar, importamos la funcionalidad de la librería estándar que nos va a ser necesaria."
   ]
  },
  {
   "cell_type": "code",
   "execution_count": 5,
   "metadata": {
    "collapsed": true
   },
   "outputs": [],
   "source": [
    "#from urllib import request\n",
    "from collections import namedtuple\n",
    "from pprint import pprint\n",
    "import bz2\n",
    "import io"
   ]
  },
  {
   "cell_type": "markdown",
   "metadata": {},
   "source": [
    "Obtenemos los datos"
   ]
  },
  {
   "cell_type": "code",
   "execution_count": 31,
   "metadata": {},
   "outputs": [
    {
     "name": "stdout",
     "output_type": "stream",
     "text": [
      "[('Aaraon Nahuel', 4, 2008),\n",
      " ('Aarom Rances', 4, 1999),\n",
      " ('Aaron', 10, 1934),\n",
      " ('Aarón', 10, 1984),\n",
      " ('Aaron', 11, 1981),\n",
      " ('Aaron', 11, 1983),\n",
      " ('Aaron', 113, 2009),\n",
      " ('AARON', 119, 2008),\n",
      " ('Aarón', 13, 1990),\n",
      " ('Aaron', 14, 1931)]\n"
     ]
    }
   ],
   "source": [
    "URL_DATOS = 'nombres_corto.csv.bz2'\n",
    "#URL_DATOS = 'http://datos.gob.ar/dataset/b8418d41-8e0c-4e85-8aa8-80d51a840132/resource/9e1eca6c-4c58-4f22-8bd4-701fa16c9db0/download/nombres-2015.csv'\n",
    "datos_raw = []\n",
    "\n",
    "def convertir_linea(linea):\n",
    "    nombre, cantidad, anio = linea.split(',')\n",
    "    nombre = nombre.strip()\n",
    "    cantidad = int(cantidad)\n",
    "    anio = int(anio)\n",
    "    return (nombre, cantidad, anio)\n",
    "\n",
    "\n",
    "# obtener los datos de la internets\n",
    "#response = request.urlopen(URL_DATOS)\n",
    "#for linea in response:\n",
    "#    linea = linea.decode('utf-8').strip()\n",
    "#    datos_raw.append(convertir_linea(linea))\n",
    "#datos_raw = response.read().decode('utf-8')\n",
    "\n",
    "with bz2.BZ2File(URL_DATOS, 'rb') as input:\n",
    "    with io.TextIOWrapper(input, encoding='utf-8') as dec:        \n",
    "        for linea in dec.readlines():\n",
    "            datos_raw.append(convertir_linea(linea))\n",
    "# están en crudo\n",
    "pprint(datos_raw[:10])"
   ]
  },
  {
   "cell_type": "code",
   "execution_count": 10,
   "metadata": {},
   "outputs": [
    {
     "data": {
      "text/plain": [
       "'Adrian Emilio'"
      ]
     },
     "execution_count": 10,
     "metadata": {},
     "output_type": "execute_result"
    }
   ],
   "source": [
    "len(datos_raw)\n",
    "\n",
    "datos_raw[23445].nombre"
   ]
  },
  {
   "cell_type": "code",
   "execution_count": 11,
   "metadata": {},
   "outputs": [],
   "source": [
    "\n",
    "# generar algo que les de forma piola\n",
    "registro = namedtuple('Registro', 'nombre cantidad anio')\n"
   ]
  },
  {
   "cell_type": "code",
   "execution_count": 32,
   "metadata": {
    "collapsed": true
   },
   "outputs": [],
   "source": [
    "# generamos nuestra propia lista de registros\n",
    "datos = []\n",
    "\n",
    "for lst in datos_raw:\n",
    "    datos.append(registro(*lst))\n",
    "    \n",
    "#liberamos memoria!\n",
    "del(datos_raw)\n"
   ]
  },
  {
   "cell_type": "code",
   "execution_count": 13,
   "metadata": {},
   "outputs": [
    {
     "data": {
      "text/plain": [
       "[Registro(nombre='Aaraon Nahuel', cantidad=4, anio=2008),\n",
       " Registro(nombre='Aarom Rances', cantidad=4, anio=1999),\n",
       " Registro(nombre='Aaron', cantidad=10, anio=1934),\n",
       " Registro(nombre='Aarón', cantidad=10, anio=1984),\n",
       " Registro(nombre='Aaron', cantidad=11, anio=1981),\n",
       " Registro(nombre='Aaron', cantidad=11, anio=1983),\n",
       " Registro(nombre='Aaron', cantidad=113, anio=2009),\n",
       " Registro(nombre='AARON', cantidad=119, anio=2008),\n",
       " Registro(nombre='Aarón', cantidad=13, anio=1990),\n",
       " Registro(nombre='Aaron', cantidad=14, anio=1931)]"
      ]
     },
     "execution_count": 13,
     "metadata": {},
     "output_type": "execute_result"
    }
   ],
   "source": [
    "datos[:10]"
   ]
  },
  {
   "cell_type": "code",
   "execution_count": 14,
   "metadata": {},
   "outputs": [
    {
     "name": "stdout",
     "output_type": "stream",
     "text": [
      "Aaraon Nahuel\n",
      "12\n",
      "2010\n"
     ]
    }
   ],
   "source": [
    "print(datos[0].nombre)\n",
    "print(datos[100].cantidad)\n",
    "print(datos[1000].anio)\n"
   ]
  },
  {
   "cell_type": "code",
   "execution_count": 15,
   "metadata": {},
   "outputs": [
    {
     "name": "stdout",
     "output_type": "stream",
     "text": [
      "Registro(nombre='Carlos', cantidad=10, anio=2015)\n",
      "Registro(nombre='Carlos', cantidad=107, anio=1997)\n",
      "Registro(nombre='Carlos', cantidad=119, anio=1996)\n",
      "Registro(nombre='Carlos', cantidad=153, anio=1995)\n",
      "Registro(nombre='Carlos', cantidad=159, anio=1994)\n",
      "Registro(nombre='Carlos', cantidad=208, anio=1993)\n",
      "Registro(nombre='Carlos', cantidad=250, anio=1991)\n",
      "Registro(nombre='Carlos', cantidad=25, anio=2009)\n",
      "Registro(nombre='Carlos', cantidad=26, anio=2011)\n",
      "Registro(nombre='Carlos', cantidad=267, anio=1992)\n",
      "Registro(nombre='Carlos', cantidad=27, anio=2010)\n",
      "Registro(nombre='Carlos', cantidad=28, anio=2008)\n",
      "Registro(nombre='Carlos', cantidad=29, anio=2007)\n",
      "Registro(nombre='Carlos', cantidad=31, anio=2005)\n",
      "Registro(nombre='Carlos', cantidad=37, anio=2013)\n",
      "Registro(nombre='Carlos', cantidad=38, anio=2012)\n",
      "Registro(nombre='Carlos', cantidad=42, anio=2006)\n",
      "Registro(nombre='Carlos', cantidad=43, anio=2014)\n",
      "Registro(nombre='Carlos', cantidad=50, anio=2003)\n",
      "Registro(nombre='Carlos', cantidad=52, anio=2001)\n",
      "Registro(nombre='Carlos', cantidad=61, anio=2000)\n",
      "Registro(nombre='Carlos', cantidad=61, anio=2002)\n",
      "Registro(nombre='Carlos', cantidad=62, anio=2004)\n",
      "Registro(nombre='Carlos', cantidad=68, anio=1999)\n",
      "Registro(nombre='Carlos', cantidad=75, anio=1998)\n"
     ]
    }
   ],
   "source": [
    "# consulta existencial\n",
    "# existe un X tal que X.algo es Y?\n",
    "\n",
    "for d in datos:\n",
    "    if d.nombre == 'Carlos' and d.anio > 1990 :\n",
    "        print(d)\n"
   ]
  },
  {
   "cell_type": "code",
   "execution_count": 19,
   "metadata": {},
   "outputs": [
    {
     "name": "stdout",
     "output_type": "stream",
     "text": [
      "4 registros\n"
     ]
    }
   ],
   "source": [
    "#consulta por cantidad\n",
    "# cuantos X cumplen X.algo=Y? (COUNT)\n",
    "\n",
    "r = []\n",
    "for d in datos:\n",
    "    if d.nombre =='María' and d.anio > 1960 :\n",
    "        r.append(d)\n",
    "print ('{} registros'.format(len(r)))\n",
    "\n"
   ]
  },
  {
   "cell_type": "code",
   "execution_count": 20,
   "metadata": {},
   "outputs": [
    {
     "name": "stdout",
     "output_type": "stream",
     "text": [
      "Aaraon Nahuel\n",
      "Aarom Rances\n",
      "Aaron\n",
      "Aarón\n",
      "Aaron\n",
      "Aaron\n",
      "Aaron\n",
      "AARON\n",
      "Aarón\n",
      "Aaron\n",
      "Aaron\n",
      "Aaron\n",
      "Aaròn\n",
      "Aaron\n",
      "Aaron\n",
      "Aaron\n",
      "Aaron\n",
      "Aaròn\n",
      "Aaron\n",
      "Aaron\n",
      "Aaron\n",
      "Aaron\n",
      "Aaron\n",
      "Aaron\n",
      "Aaron\n",
      "Aaron\n",
      "Aaròn\n",
      "Aaron\n",
      "Aaron\n",
      "Aarón\n",
      "Aaron\n",
      "Aaron\n",
      "Aaron\n",
      "Aaron\n",
      "Aarón                                                                                               \n",
      "Aaron\n",
      "Aaron\n",
      "Aaron\n",
      "Aaron\n",
      "Aaron\n",
      "Aaron\n",
      "Aaron\n",
      "Aaron\n",
      "Aaron\n",
      "Aaron\n",
      "Aaron\n",
      "Aaron\n",
      "Aaron\n",
      "Aaron\n",
      "Aaron\n",
      "Aarón Abdías\n",
      "Aaron Abel\n",
      "Aaron Abel\n",
      "Aaron Abel\n",
      "Aaron Abel\n",
      "Aarón Abraham\n",
      "Aaron Adrian\n",
      "Aaron Adrián\n",
      "Aaron Adrian\n",
      "Aaron Adrian\n",
      "Aaron Adrian\n",
      "Aaron Adrian\n",
      "Aaron Adrian\n",
      "Aaròn Adriel\n",
      "Aaron Adriel\n",
      "Aaròn Adriel\n",
      "Aarón Adriel\n",
      "Aaron Adriel\n",
      "Aaron Agustin\n",
      "Aaron Agustin\n",
      "Aaron Agustin\n",
      "Aaron Agustin\n",
      "Aaron Agustin\n",
      "Aaron Agustin\n",
      "Aarón Agustín\n",
      "Aaron Agustin\n",
      "Aaron Agustin\n",
      "Aaron Agustin\n",
      "Aaron Agustin\n",
      "Aaron Agustin\n",
      "Aaron Agustin\n",
      "Aaron Agustin\n",
      "Aaron Agustin\n",
      "Aaron Agustín\n",
      "Aaron Agustin\n",
      "Aaron Agustin\n",
      "Aaron Agustin\n",
      "Aarón Agustín\n",
      "Aaron Ahmed\n",
      "Aaron Alberto\n",
      "Aarón Alberto\n",
      "Aaron Alberto\n",
      "Aaron Alberto\n",
      "Aaron Alberto\n",
      "Aaron Alberto\n",
      "Aaron Alberto\n",
      "Aarón Alcides\n",
      "Aaron Alejandro\n",
      "Aaron Alejandro\n",
      "Aaròn Alejandro\n"
     ]
    }
   ],
   "source": [
    "for d in datos[:100]:\n",
    "    print(d.nombre)"
   ]
  },
  {
   "cell_type": "code",
   "execution_count": 23,
   "metadata": {},
   "outputs": [
    {
     "name": "stdout",
     "output_type": "stream",
     "text": [
      "Se registraron 48987 Maria\n"
     ]
    }
   ],
   "source": [
    "#sumar todos los blah de los X, con blah mayor que blip (SUM)\n",
    "r = []\n",
    "for d in datos:\n",
    "    if d.nombre == 'Maria' :\n",
    "        r.append(d.cantidad)\n",
    "print(\"Se registraron {} Maria\".format(sum(r)))"
   ]
  },
  {
   "cell_type": "code",
   "execution_count": 29,
   "metadata": {},
   "outputs": [
    {
     "name": "stdout",
     "output_type": "stream",
     "text": [
      "Hay mas  Miguel\n"
     ]
    }
   ],
   "source": [
    "def cantidad_de(nombre):\n",
    "    r = []\n",
    "    for d in datos:\n",
    "        if d.nombre == nombre:\n",
    "            r.append(d.cantidad)\n",
    "    return sum(r)\n",
    "\n",
    "def hay_mas_que(nombre1, nombre2):\n",
    "    return cantidad_de(nombre1) > cantidad_de(nombre2)\n",
    "\n",
    "def decir_que_hay_mas(nombre1, nombre2):\n",
    "    if hay_mas_que(nombre1, nombre2):\n",
    "        print('Hay mas ', nombre1)\n",
    "    else:\n",
    "        print('Hay mas ', nombre2)\n",
    "decir_que_hay_mas('Miguel', 'Estela')"
   ]
  },
  {
   "cell_type": "code",
   "execution_count": 30,
   "metadata": {},
   "outputs": [
    {
     "name": "stdout",
     "output_type": "stream",
     "text": [
      "Hubo un promedio de 352.67391304347825 Carlos por año\n"
     ]
    }
   ],
   "source": [
    "def promedio(lst):\n",
    "    if lst:\n",
    "        return sum(lst) / len(lst)\n",
    "    else:\n",
    "        return 0\n",
    "\n",
    "#sumar todos los blah de los X, con blah mayor que blip (SUM)\n",
    "r = []\n",
    "nombre = 'Carlos'\n",
    "for d in datos:\n",
    "    if d.nombre == nombre :\n",
    "        r.append(d.cantidad)\n",
    "print('Hubo un promedio de {} {} por año'.format(promedio(r), nombre)) "
   ]
  },
  {
   "cell_type": "code",
   "execution_count": 34,
   "metadata": {},
   "outputs": [
    {
     "name": "stdout",
     "output_type": "stream",
     "text": [
      "dict_keys([13, 12, 5, 10, 11, 15, 25, 9, 14, 19, 21, 18, 17, 26, 20, 16, 23, 22, 7, 4, 6, 8, 3, 27, 24, 28, 29, 37, 31, 34, 33, 30, 38, 41, 32, 2, 35, 36, 40, 47, 39, 44, 43, 45, 42])\n",
      "['Jonathan Ogheneochuko Chukwuza Ekpelem Nkemcho.']\n"
     ]
    }
   ],
   "source": [
    "#agrupar los nombres por longitud (GROUPBY)\n",
    "from collections import defaultdict\n",
    "\n",
    "nombres_por_longitud = defaultdict(list)\n",
    "for d in datos:\n",
    "    nombres_por_longitud[len(d.nombre)].append(d.nombre)\n",
    "print(nombres_por_longitud.keys())\n",
    "print(nombres_por_longitud[47])"
   ]
  },
  {
   "cell_type": "code",
   "execution_count": 35,
   "metadata": {},
   "outputs": [
    {
     "name": "stdout",
     "output_type": "stream",
     "text": [
      "[('Zunshou', 4), ('ZUQIU', 4), ('Zuquan', 4), ('Zuri Evangelina', 4), ('Zurong', 4), ('Zusy Irene', 4), ('Zusy Lorena', 4), ('Zuyan', 4), ('Zuyun', 4), ('Zuzana', 4)]\n"
     ]
    }
   ],
   "source": [
    "#dame los 10 nombres más comunes\n",
    "r = defaultdict(int)\n",
    "for d in datos:\n",
    "    try:\n",
    "        r[d.nombre] += int(d.cantidad)\n",
    "    except:\n",
    "        print(d)\n",
    "items = []\n",
    "for k, v in r.items():\n",
    "    items.append((k,v))\n",
    "items = sorted(items, key=lambda t:t[1], reverse=True)\n",
    "print(items[-10:])\n",
    "    "
   ]
  },
  {
   "cell_type": "markdown",
   "metadata": {
    "collapsed": true
   },
   "source": [
    "Una versión más larga del dataset se encuentra en \n",
    "\n",
    "https://transfer.sh/WUE4B/nombres_corto.csv.bz2"
   ]
  },
  {
   "cell_type": "markdown",
   "metadata": {
    "collapsed": true
   },
   "source": [
    "Desafío para mañana.\n",
    "\n",
    "* De qué manera podríamos saber cuál es el año con más nombres diferentes registrados?"
   ]
  }
 ],
 "metadata": {
  "kernelspec": {
   "display_name": "Python 3",
   "language": "python",
   "name": "python3"
  },
  "language_info": {
   "codemirror_mode": {
    "name": "ipython",
    "version": 3
   },
   "file_extension": ".py",
   "mimetype": "text/x-python",
   "name": "python",
   "nbconvert_exporter": "python",
   "pygments_lexer": "ipython3",
   "version": "3.6.2"
  }
 },
 "nbformat": 4,
 "nbformat_minor": 2
}
