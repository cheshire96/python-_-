{
 "cells": [
  {
   "cell_type": "markdown",
   "metadata": {
    "collapsed": true
   },
   "source": [
    "# Ejercitacion Clase 3\n",
    "\n",
    "* Filtrar por anio *filter*\n",
    "* Separar compuestos (nombre, cantidad, anio) -> (primero, segundo, cantidad, anio)\n",
    "* Personas con nombres compuestos *Map*\n",
    "* Contar nombres *reduce*\n",
    "* Normalizar nombres quitar tildes\n",
    "* Buscar errores ortograficos en nombres usando la distancia de levenshtein\n",
    "* Buscar nombres derivados y eventualmente inferir generos"
   ]
  }
 ],
 "metadata": {
  "kernelspec": {
   "display_name": "Python 3",
   "language": "python",
   "name": "python3"
  },
  "language_info": {
   "codemirror_mode": {
    "name": "ipython",
    "version": 3
   },
   "file_extension": ".py",
   "mimetype": "text/x-python",
   "name": "python",
   "nbconvert_exporter": "python",
   "pygments_lexer": "ipython3",
   "version": "3.6.2"
  }
 },
 "nbformat": 4,
 "nbformat_minor": 2
}
