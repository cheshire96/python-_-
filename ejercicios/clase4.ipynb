{
 "cells": [
  {
   "cell_type": "markdown",
   "metadata": {
    "collapsed": true
   },
   "source": [
    "# Ejercitacion Clase 4\n",
    "\n",
    "* Crear una aplicacion flask\n",
    "* Serializar y desceralizar en json\n",
    "* Modularizar funciones sobre los datos para mapearlas detras de urls\n",
    "* route(\"/contar/<string:nombre>\")\n",
    "* route(\"/contar/<string:nombre>?inicio=&fin=\")\n",
    "* route(\"/familia/<string:nombre>\")"
   ]
  },
  {
   "cell_type": "markdown",
   "metadata": {},
   "source": [
    "```json\n",
    "[\n",
    "  [\"Nombre\", Cantidad, Anio],\n",
    "  ...\n",
    "  [\"Nombre\", Cantidad, Anio],\n",
    "]\n",
    "```"
   ]
  }
 ],
 "metadata": {
  "kernelspec": {
   "display_name": "Python 3",
   "language": "python",
   "name": "python3"
  },
  "language_info": {
   "codemirror_mode": {
    "name": "ipython",
    "version": 3
   },
   "file_extension": ".py",
   "mimetype": "text/x-python",
   "name": "python",
   "nbconvert_exporter": "python",
   "pygments_lexer": "ipython3",
   "version": "3.6.2"
  }
 },
 "nbformat": 4,
 "nbformat_minor": 2
}
