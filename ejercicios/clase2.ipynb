{
 "cells": [
  {
   "cell_type": "markdown",
   "metadata": {
    "collapsed": true
   },
   "source": [
    "# Ejercicios clase 2"
   ]
  },
  {
   "cell_type": "markdown",
   "metadata": {},
   "source": [
    "Vamos a aplicar lo que vimos hoy al código de la ejercitación de ayer"
   ]
  },
  {
   "cell_type": "code",
   "execution_count": 1,
   "metadata": {
    "collapsed": true
   },
   "outputs": [],
   "source": [
    "from collections import namedtuple\n",
    "from pprint import pprint\n",
    "import bz2\n",
    "import io"
   ]
  },
  {
   "cell_type": "code",
   "execution_count": 4,
   "metadata": {},
   "outputs": [
    {
     "name": "stdout",
     "output_type": "stream",
     "text": [
      "[('Aaraon Nahuel', 4, 2008),\n",
      " ('Aarom Rances', 4, 1999),\n",
      " ('Aaron', 10, 1934),\n",
      " ('Aarón', 10, 1984),\n",
      " ('Aaron', 11, 1981),\n",
      " ('Aaron', 11, 1983),\n",
      " ('Aaron', 113, 2009),\n",
      " ('AARON', 119, 2008),\n",
      " ('Aarón', 13, 1990),\n",
      " ('Aaron', 14, 1931)]\n"
     ]
    }
   ],
   "source": [
    "URL_DATOS = 'nombres_corto.csv.bz2'\n",
    "\n",
    "def convertir_linea(linea):\n",
    "    nombre, cantidad, anio = linea.split(',')    \n",
    "    cantidad = int(cantidad)\n",
    "    anio = int(anio)\n",
    "    return (nombre, cantidad, anio)\n",
    "\n",
    "datos_raw = []\n",
    "\n",
    "with bz2.BZ2File(URL_DATOS, 'rb') as input:\n",
    "    with io.TextIOWrapper(input, encoding='utf-8') as dec:        \n",
    "        for linea in dec.readlines():\n",
    "            datos_raw.append(convertir_linea(linea))\n",
    "pprint(datos_raw[:10])"
   ]
  },
  {
   "cell_type": "code",
   "execution_count": 11,
   "metadata": {},
   "outputs": [
    {
     "name": "stdout",
     "output_type": "stream",
     "text": [
      "[R(nombre='Aaraon Nahuel', cantidad=4, anio=2008),\n",
      " R(nombre='Aarom Rances', cantidad=4, anio=1999),\n",
      " R(nombre='Aaron', cantidad=10, anio=1934),\n",
      " R(nombre='Aarón', cantidad=10, anio=1984),\n",
      " R(nombre='Aaron', cantidad=11, anio=1981),\n",
      " R(nombre='Aaron', cantidad=11, anio=1983),\n",
      " R(nombre='Aaron', cantidad=113, anio=2009),\n",
      " R(nombre='AARON', cantidad=119, anio=2008),\n",
      " R(nombre='Aarón', cantidad=13, anio=1990),\n",
      " R(nombre='Aaron', cantidad=14, anio=1931)]\n"
     ]
    }
   ],
   "source": [
    "class R(namedtuple('Registro', 'nombre cantidad anio')):\n",
    "    # Esto es opcional. Indica que el objeto no admite más atributos\n",
    "    __slots__ = ()\n",
    "    \n",
    "    def __str__(self):\n",
    "        return \"R({}, {} inscripciones, año {})\".format(self.nombre, self.cantidad, self.anio)\n",
    "    #__repr__  = __str__\n",
    "    \n",
    "def datos_raw_a_rs(datos_raw):\n",
    "    l = []\n",
    "    for t in datos_raw:\n",
    "        l.append(R(*t))\n",
    "    return l\n",
    "    \n",
    "datos = datos_raw_a_rs(datos_raw)\n",
    "    \n",
    "pprint(datos[:10])\n",
    "    "
   ]
  },
  {
   "cell_type": "markdown",
   "metadata": {},
   "source": [
    "Vamos a agregar un método `genero()` que trate de adivinar el sexo de la persona a partir del nombre"
   ]
  },
  {
   "cell_type": "code",
   "execution_count": 13,
   "metadata": {},
   "outputs": [
    {
     "name": "stdout",
     "output_type": "stream",
     "text": [
      "Femenino\n",
      "--\n"
     ]
    }
   ],
   "source": [
    "def es_de_varon(nombre):\n",
    "    return nombre.endswith('o')\n",
    "\n",
    "def es_de_mujer(nombre):\n",
    "    return nombre.endswith('a')\n",
    "\n",
    "class R(namedtuple('Registro', 'nombre cantidad anio')):\n",
    "    __slots__ = ()    \n",
    "    \n",
    "    def genero(self):\n",
    "        if es_de_varon(self.nombre):\n",
    "            return 'Masculino'\n",
    "        elif es_de_mujer(self.nombre):\n",
    "            return 'Femenino'\n",
    "        else:\n",
    "            return '--'\n",
    "    \n",
    "    def __str__(self):\n",
    "        return \"R({}, {} inscripciones, año {})\".format(self.nombre, self.cantidad, self.anio)\n",
    "    #__repr__  = __str__\n",
    "    \n",
    "print(R('Andrea', 1, 2).genero())\n",
    "print(R('Carlos', 1, 2).genero())"
   ]
  },
  {
   "cell_type": "markdown",
   "metadata": {},
   "source": [
    "Ahora vamos a averiguar si un nombre es compuesto"
   ]
  },
  {
   "cell_type": "code",
   "execution_count": null,
   "metadata": {
    "collapsed": true
   },
   "outputs": [],
   "source": []
  },
  {
   "cell_type": "markdown",
   "metadata": {},
   "source": [
    "Vamos a reimplementar `promedio()` con manejo de errores:"
   ]
  },
  {
   "cell_type": "code",
   "execution_count": 16,
   "metadata": {},
   "outputs": [
    {
     "name": "stdout",
     "output_type": "stream",
     "text": [
      "2.3333333333333335\n",
      " -  -  - \n",
      "No existe el promedio de una lista vacía\n",
      "0\n",
      " -  -  - \n",
      "Epa! Qué mandaron?\n",
      "0\n"
     ]
    }
   ],
   "source": [
    "def promedio(lst):\n",
    "    result = None\n",
    "    try:\n",
    "        result = sum(lst) / len(lst)\n",
    "    except ZeroDivisionError:\n",
    "        print(\"No existe el promedio de una lista vacía\")\n",
    "        result = 0\n",
    "    except:\n",
    "        print(\"Epa! Qué mandaron?\")\n",
    "        result = 0\n",
    "    finally:\n",
    "        return result\n",
    "\n",
    "print(promedio([1,2,4]))\n",
    "print(3 * ' - ')\n",
    "print(promedio([]))\n",
    "print(3 * ' - ')\n",
    "print(promedio('hola'))\n"
   ]
  },
  {
   "cell_type": "markdown",
   "metadata": {},
   "source": [
    "Veremos entonces cómo guardar nuestros datos en un archivo."
   ]
  },
  {
   "cell_type": "code",
   "execution_count": null,
   "metadata": {
    "collapsed": true
   },
   "outputs": [],
   "source": [
    "NOMBRE_ARCHIVO = 'datos.txt'\n",
    "\n",
    "with open(NOMBRE_ARCHIVO, 'wt') as archivo:\n",
    "    for d in datos:\n",
    "        archivo.write(str(d) + '\\n')\n",
    "        \n"
   ]
  },
  {
   "cell_type": "markdown",
   "metadata": {},
   "source": [
    "Vamos a crear ahora nuestro propio módulo. Guardemos lo que tenemos hasta ahora en un archivo `ejercicio2.py` y volvamos a probar de hacer todo pero desde nuestro módulo"
   ]
  },
  {
   "cell_type": "code",
   "execution_count": null,
   "metadata": {
    "collapsed": true
   },
   "outputs": [],
   "source": [
    "from ejercicio2 import tomar_datos_desde, filtrar_por_nombre\n",
    "\n",
    "datos = ejercicio2.tomar_datos_desde()\n",
    "\n",
    "carloss = filtrar_por_nombre(\"Carlos\", datos)\n"
   ]
  }
 ],
 "metadata": {
  "kernelspec": {
   "display_name": "Python 3",
   "language": "python",
   "name": "python3"
  },
  "language_info": {
   "codemirror_mode": {
    "name": "ipython",
    "version": 3
   },
   "file_extension": ".py",
   "mimetype": "text/x-python",
   "name": "python",
   "nbconvert_exporter": "python",
   "pygments_lexer": "ipython3",
   "version": "3.6.2"
  }
 },
 "nbformat": 4,
 "nbformat_minor": 2
}
