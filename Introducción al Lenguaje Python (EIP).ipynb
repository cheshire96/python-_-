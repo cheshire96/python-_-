{
 "cells": [
  {
   "cell_type": "markdown",
   "metadata": {},
   "source": [
    "# <center>Escuelas de Informáticas Patagónica</center>\n",
    "![UNPSJB](imagenes/unpsjb.png)\n",
    "# <center>El Lenguaje de Programación Python en Acción</center>"
   ]
  },
  {
   "cell_type": "markdown",
   "metadata": {},
   "source": [
    "# Bienvenidos\n",
    "\n",
    "> En este curso haremos una rápida introducción al lenguaje Python, al intérprete IPython y algo de Jupyter Notebook.\n",
    "\n",
    "> Inicialmente abordaremos temáticas básicas del lenguaje en cuanto a tipos de datos y estructuras, para posteriormente mostrar un pantallazo del desarrollo de software utilizando Python, mediante la realización de pequeños proyectos.\n",
    "\n",
    "> Todo este de forma interactiva y divertida"
   ]
  },
  {
   "cell_type": "markdown",
   "metadata": {},
   "source": [
    "# Docentes\n",
    "\n",
    "* Pecile, Lautaro Maximiliano\n",
    "  - lautaro.pecile@gmail.com\n",
    "* van Haaster, Diego\n",
    "  - diegomvh@gmail.com"
   ]
  },
  {
   "cell_type": "markdown",
   "metadata": {},
   "source": [
    "# Introducción a Python\n",
    " * [Introducción](./temas/Introduccion.ipynb)\n",
    " * [Usando Python](./temas/Interprete.ipynb)\n",
    " * [Números](./temas/TiposDeDatos.ipynb#Números)\n",
    " * [Booleanos](./temas/TiposDeDatos.ipynb#Booleanos)\n",
    " * [Cadenas de caracteres](./temas/TiposDeDatos.ipynb#Cadenas-de-caracteres)\n",
    " * [Listas](./temas/TiposDeDatos.ipynb#Listas)\n",
    " * [Tuplas y secuencias](./temas/TiposDeDatos.ipynb#Tuplas-y-secuencias)\n",
    " * [Diccionarios](./temas/TiposDeDatos.ipynb#Diccionarios)\n",
    " * [Primeros pasos hacia la programación](./temas/ControlDeFlujo.ipynb#Primeros-pasos-hacia-la-programación)\n",
    " * [Definiendo funciones](./temas/ControlDeFlujo.ipynb#Definiendo-funciones)\n",
    "---\n",
    " * [Ejercicio 1](./ejercicios/clase1.ipynb)\n",
    " * [Ejercicio 2015](./ejercicios/scrapper2015.ipynb)"
   ]
  },
  {
   "cell_type": "markdown",
   "metadata": {},
   "source": [
    "# Programación en Python\n",
    " * [Errores y excepciones](./temas/Excepciones.ipynb#Errores-y-excepciones)\n",
    " * [Programación orientada a objetos](temas/ProgramaciónOrientadaAObjetos.ipynb)\n",
    " * [Formateo elegante de la salida](./temas/EntradaSalida.ipynb#Formateo-elegante-de-la-salida)\n",
    " * [Leyendo y escribiendo archivos](./temas/EntradaSalida.ipynb#Leyendo-y-escribiendo-archivos)\n",
    " * [Modularización](temas/Modularización.ipynb)\n",
    "---\n",
    " * [Ejercicio 2](./ejercicios/clase2.ipynb)"
   ]
  },
  {
   "cell_type": "markdown",
   "metadata": {},
   "source": [
    "# Procesamiento de datos\n",
    " * [Serialización básica](./temas/Pickles in the Shelve.ipynb)\n",
    " * [Programación Funcional](./temas/Programación funcional.ipynb)\n",
    " * [Matplotlib](./temas/Matplotlib.ipynb)\n",
    " ---\n",
    " * [Ejercicio 3](./ejercicios/clase3.ipynb)\n"
   ]
  },
  {
   "cell_type": "markdown",
   "metadata": {},
   "source": [
    "# Arquitectura WEB\n",
    " * [Web Quickstart](./temas/ArquitecturaWeb.ipynb)\n",
    " * [JSON](./temas/ArquitecturaWeb.ipynb#JSON---JavaScript-Object-Notation)\n",
    " * [MVC y Frameworks](./temas/ArquitecturaWeb.ipynb#MVC)\n",
    " * [Flask](./temas/ArquitecturaWeb.ipynb#Flask)\n",
    " ---\n",
    " * [Ejercicio 4](./ejercicios/clase4.ipynb)\n"
   ]
  },
  {
   "cell_type": "markdown",
   "metadata": {},
   "source": [
    "# Implementación de API REST\n",
    "\n",
    " * [Introducción](./temas/ImplementacionDeApiRest.ipynb)\n",
    " \n",
    " ---\n",
    " * [Ejercicio 5](./ejercicios/clase5.ipynb)"
   ]
  },
  {
   "cell_type": "markdown",
   "metadata": {},
   "source": [
    "# Mas Python y Web\n",
    "\n",
    "* [Mas Python](./temas/MasPython.ipynb)"
   ]
  },
  {
   "cell_type": "markdown",
   "metadata": {},
   "source": [
    "# Dinamica de clase\n",
    "\n",
    "* Clases de 3 horas con 1 hora 45 minutos para teoría\n",
    "* Descanso de 15 minutos\n",
    "* Desarrollo de una actividad de aplicación práctica\n"
   ]
  },
  {
   "cell_type": "markdown",
   "metadata": {},
   "source": [
    "# Aprobación del Curso\n",
    "\n",
    "* Fecha máxima: 20/10\n",
    "* Temas relacionados con lo visto en el curso.\n",
    "* Notificar por mail a Lautaro o Diego sobre el tema y las dudas para orietnación y definición de alcance.\n",
    "* Grupo máximo: 3 personas\n",
    "---\n",
    "* [Ejercicio Final](./ejercicios/final.ipynb)"
   ]
  }
 ],
 "metadata": {
  "anaconda-cloud": {},
  "kernelspec": {
   "display_name": "Python 3",
   "language": "python",
   "name": "python3"
  },
  "language_info": {
   "codemirror_mode": {
    "name": "ipython",
    "version": 3
   },
   "file_extension": ".py",
   "mimetype": "text/x-python",
   "name": "python",
   "nbconvert_exporter": "python",
   "pygments_lexer": "ipython3",
   "version": "3.6.2"
  }
 },
 "nbformat": 4,
 "nbformat_minor": 1
}
